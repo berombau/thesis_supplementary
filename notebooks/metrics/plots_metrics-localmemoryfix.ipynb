{
 "cells": [
  {
   "cell_type": "code",
   "execution_count": 17,
   "metadata": {},
   "outputs": [],
   "source": [
    "from pathlib import Path\n",
    "import pandas as pd\n",
    "import matplotlib.pyplot as plt\n",
    "from matplotlib import cm\n",
    "import seaborn as sns\n",
    "import pytz"
   ]
  },
  {
   "cell_type": "code",
   "execution_count": 18,
   "metadata": {},
   "outputs": [],
   "source": [
    "metrics = [\n",
    "    \"jvm.total.max\", \n",
    "    \"jvm.total.committed\",\n",
    "    \"jvm.non-heap.used\",\n",
    "#     \"executor.runTime\",   \n",
    "    \"executor.threadpool.activeTasks\",\n",
    "]\n",
    "\n",
    "memory_metrics = [\n",
    "    \"ExecutorMetrics.ProcessTreeJVMVMemory\",\n",
    "    \"ExecutorMetrics.ProcessTreeJVMRSSMemory\",\n",
    "    \"ExecutorMetrics.ProcessTreeOtherVMemory\",\n",
    "    \"ExecutorMetrics.ProcessTreeOtherRSSMemory\",\n",
    "    \"ExecutorMetrics.OnHeapUnifiedMemory\",\n",
    "    \"ExecutorMetrics.OffHeapUnifiedMemory\",\n",
    "    \"ExecutorMetrics.OnHeapExecutionMemory\",\n",
    "    \"ExecutorMetrics.OffHeapExecutionMemory\",\n",
    "    \"ExecutorMetrics.JVMHeapMemory\",\n",
    "    \"ExecutorMetrics.JVMOffHeapMemory\",\n",
    "    \"ExecutorMetrics.MappedPoolMemory\",\n",
    "    \"ExecutorMetrics.DirectPoolMemory\",\n",
    "    \"NettyBlockTransfer.shuffle-server.usedDirectMemory\",\n",
    "    \"NettyBlockTransfer.shuffle-server.usedDirectMemory\",\n",
    "    \"jvm.heap.init\",\n",
    "    \"jvm.heap.used\",\n",
    "    \"jvm.heap.max\",\n",
    "    \"executor.filesystem.hdfs.write_bytes\",\n",
    "    \"executor.filesystem.hdfs.read_bytes\", \n",
    "    \"executor.filesystem.file.write_bytes\",\n",
    "    \"executor.filesystem.file.read_bytes\", \n",
    "]\n",
    "\n",
    "count_metrics = [\n",
    "    \"executor.memoryBytesSpilled\",\n",
    "    \"executor.diskBytesSpilled\",\n",
    "    \"executor.shuffleBytesWritten\",\n",
    "    \"executor.shuffleLocalBytesRead\",\n",
    "    \"executor.shuffleRemoteBytesReadToDisk\",\n",
    "]\n",
    "\n",
    "metrics = metrics + memory_metrics + count_metrics"
   ]
  },
  {
   "cell_type": "code",
   "execution_count": 19,
   "metadata": {},
   "outputs": [
    {
     "data": {
      "text/html": [
       "<div>\n",
       "<style scoped>\n",
       "    .dataframe tbody tr th:only-of-type {\n",
       "        vertical-align: middle;\n",
       "    }\n",
       "\n",
       "    .dataframe tbody tr th {\n",
       "        vertical-align: top;\n",
       "    }\n",
       "\n",
       "    .dataframe thead th {\n",
       "        text-align: right;\n",
       "    }\n",
       "</style>\n",
       "<table border=\"1\" class=\"dataframe\">\n",
       "  <thead>\n",
       "    <tr style=\"text-align: right;\">\n",
       "      <th></th>\n",
       "      <th></th>\n",
       "      <th></th>\n",
       "      <th>t</th>\n",
       "      <th>value</th>\n",
       "    </tr>\n",
       "  </thead>\n",
       "  <tbody>\n",
       "    <tr>\n",
       "      <th rowspan=\"11\" valign=\"top\">driver</th>\n",
       "      <th rowspan=\"5\" valign=\"top\">ExecutorMetrics.DirectPoolMemory</th>\n",
       "      <th>0</th>\n",
       "      <td>1605875709</td>\n",
       "      <td>0</td>\n",
       "    </tr>\n",
       "    <tr>\n",
       "      <th>1</th>\n",
       "      <td>1605875710</td>\n",
       "      <td>0</td>\n",
       "    </tr>\n",
       "    <tr>\n",
       "      <th>2</th>\n",
       "      <td>1605875711</td>\n",
       "      <td>0</td>\n",
       "    </tr>\n",
       "    <tr>\n",
       "      <th>3</th>\n",
       "      <td>1605875712</td>\n",
       "      <td>0</td>\n",
       "    </tr>\n",
       "    <tr>\n",
       "      <th>4</th>\n",
       "      <td>1605875713</td>\n",
       "      <td>0</td>\n",
       "    </tr>\n",
       "    <tr>\n",
       "      <th>...</th>\n",
       "      <th>...</th>\n",
       "      <td>...</td>\n",
       "      <td>...</td>\n",
       "    </tr>\n",
       "    <tr>\n",
       "      <th rowspan=\"5\" valign=\"top\">jvm.total.max</th>\n",
       "      <th>98</th>\n",
       "      <td>1605875807</td>\n",
       "      <td>1064828927</td>\n",
       "    </tr>\n",
       "    <tr>\n",
       "      <th>99</th>\n",
       "      <td>1605875808</td>\n",
       "      <td>1067974655</td>\n",
       "    </tr>\n",
       "    <tr>\n",
       "      <th>100</th>\n",
       "      <td>1605875809</td>\n",
       "      <td>1069023231</td>\n",
       "    </tr>\n",
       "    <tr>\n",
       "      <th>101</th>\n",
       "      <td>1605875809</td>\n",
       "      <td>1069023231</td>\n",
       "    </tr>\n",
       "    <tr>\n",
       "      <th>102</th>\n",
       "      <td>1605875809</td>\n",
       "      <td>1069023231</td>\n",
       "    </tr>\n",
       "  </tbody>\n",
       "</table>\n",
       "<p>1854 rows × 2 columns</p>\n",
       "</div>"
      ],
      "text/plain": [
       "                                                      t       value\n",
       "driver ExecutorMetrics.DirectPoolMemory 0    1605875709           0\n",
       "                                        1    1605875710           0\n",
       "                                        2    1605875711           0\n",
       "                                        3    1605875712           0\n",
       "                                        4    1605875713           0\n",
       "...                                                 ...         ...\n",
       "       jvm.total.max                    98   1605875807  1064828927\n",
       "                                        99   1605875808  1067974655\n",
       "                                        100  1605875809  1069023231\n",
       "                                        101  1605875809  1069023231\n",
       "                                        102  1605875809  1069023231\n",
       "\n",
       "[1854 rows x 2 columns]"
      ]
     },
     "execution_count": 19,
     "metadata": {},
     "output_type": "execute_result"
    }
   ],
   "source": [
    "data_path = Path(\"/run/media/berombau/data/thesis/bls-speller-spark/output/metrics\")\n",
    "timezone = 'Europe/Brussels'\n",
    "dfs = dict()\n",
    "\n",
    "for file in list(data_path.iterdir()):\n",
    "    name_parts = file.name.split(\".\")\n",
    "    executor = name_parts[1]\n",
    "    metric = \".\".join(name_parts[2:-1])\n",
    "    if metric not in metrics:\n",
    "        continue\n",
    "    df = pd.read_csv(file)\n",
    "    \n",
    "    if metric in count_metrics:\n",
    "        df.rename(columns={'count': 'value'}, inplace=True)\n",
    "    \n",
    "    dfs[(executor, metric)] = df\n",
    "\n",
    "df = pd.concat(dfs)\n",
    "df"
   ]
  },
  {
   "cell_type": "code",
   "execution_count": 20,
   "metadata": {},
   "outputs": [
    {
     "data": {
      "text/html": [
       "<div>\n",
       "<style scoped>\n",
       "    .dataframe tbody tr th:only-of-type {\n",
       "        vertical-align: middle;\n",
       "    }\n",
       "\n",
       "    .dataframe tbody tr th {\n",
       "        vertical-align: top;\n",
       "    }\n",
       "\n",
       "    .dataframe thead th {\n",
       "        text-align: right;\n",
       "    }\n",
       "</style>\n",
       "<table border=\"1\" class=\"dataframe\">\n",
       "  <thead>\n",
       "    <tr style=\"text-align: right;\">\n",
       "      <th></th>\n",
       "      <th>executor</th>\n",
       "      <th>metric</th>\n",
       "      <th>time</th>\n",
       "      <th>value</th>\n",
       "    </tr>\n",
       "  </thead>\n",
       "  <tbody>\n",
       "    <tr>\n",
       "      <th>0</th>\n",
       "      <td>driver</td>\n",
       "      <td>ExecutorMetrics.DirectPoolMemory</td>\n",
       "      <td>2020-11-20 13:35:09+01:00</td>\n",
       "      <td>0</td>\n",
       "    </tr>\n",
       "    <tr>\n",
       "      <th>1</th>\n",
       "      <td>driver</td>\n",
       "      <td>ExecutorMetrics.DirectPoolMemory</td>\n",
       "      <td>2020-11-20 13:35:10+01:00</td>\n",
       "      <td>0</td>\n",
       "    </tr>\n",
       "    <tr>\n",
       "      <th>2</th>\n",
       "      <td>driver</td>\n",
       "      <td>ExecutorMetrics.DirectPoolMemory</td>\n",
       "      <td>2020-11-20 13:35:11+01:00</td>\n",
       "      <td>0</td>\n",
       "    </tr>\n",
       "    <tr>\n",
       "      <th>3</th>\n",
       "      <td>driver</td>\n",
       "      <td>ExecutorMetrics.DirectPoolMemory</td>\n",
       "      <td>2020-11-20 13:35:12+01:00</td>\n",
       "      <td>0</td>\n",
       "    </tr>\n",
       "    <tr>\n",
       "      <th>4</th>\n",
       "      <td>driver</td>\n",
       "      <td>ExecutorMetrics.DirectPoolMemory</td>\n",
       "      <td>2020-11-20 13:35:13+01:00</td>\n",
       "      <td>0</td>\n",
       "    </tr>\n",
       "    <tr>\n",
       "      <th>...</th>\n",
       "      <td>...</td>\n",
       "      <td>...</td>\n",
       "      <td>...</td>\n",
       "      <td>...</td>\n",
       "    </tr>\n",
       "    <tr>\n",
       "      <th>1849</th>\n",
       "      <td>driver</td>\n",
       "      <td>jvm.total.max</td>\n",
       "      <td>2020-11-20 13:36:47+01:00</td>\n",
       "      <td>1064828927</td>\n",
       "    </tr>\n",
       "    <tr>\n",
       "      <th>1850</th>\n",
       "      <td>driver</td>\n",
       "      <td>jvm.total.max</td>\n",
       "      <td>2020-11-20 13:36:48+01:00</td>\n",
       "      <td>1067974655</td>\n",
       "    </tr>\n",
       "    <tr>\n",
       "      <th>1851</th>\n",
       "      <td>driver</td>\n",
       "      <td>jvm.total.max</td>\n",
       "      <td>2020-11-20 13:36:49+01:00</td>\n",
       "      <td>1069023231</td>\n",
       "    </tr>\n",
       "    <tr>\n",
       "      <th>1852</th>\n",
       "      <td>driver</td>\n",
       "      <td>jvm.total.max</td>\n",
       "      <td>2020-11-20 13:36:49+01:00</td>\n",
       "      <td>1069023231</td>\n",
       "    </tr>\n",
       "    <tr>\n",
       "      <th>1853</th>\n",
       "      <td>driver</td>\n",
       "      <td>jvm.total.max</td>\n",
       "      <td>2020-11-20 13:36:49+01:00</td>\n",
       "      <td>1069023231</td>\n",
       "    </tr>\n",
       "  </tbody>\n",
       "</table>\n",
       "<p>1854 rows × 4 columns</p>\n",
       "</div>"
      ],
      "text/plain": [
       "     executor                            metric                      time  \\\n",
       "0      driver  ExecutorMetrics.DirectPoolMemory 2020-11-20 13:35:09+01:00   \n",
       "1      driver  ExecutorMetrics.DirectPoolMemory 2020-11-20 13:35:10+01:00   \n",
       "2      driver  ExecutorMetrics.DirectPoolMemory 2020-11-20 13:35:11+01:00   \n",
       "3      driver  ExecutorMetrics.DirectPoolMemory 2020-11-20 13:35:12+01:00   \n",
       "4      driver  ExecutorMetrics.DirectPoolMemory 2020-11-20 13:35:13+01:00   \n",
       "...       ...                               ...                       ...   \n",
       "1849   driver                     jvm.total.max 2020-11-20 13:36:47+01:00   \n",
       "1850   driver                     jvm.total.max 2020-11-20 13:36:48+01:00   \n",
       "1851   driver                     jvm.total.max 2020-11-20 13:36:49+01:00   \n",
       "1852   driver                     jvm.total.max 2020-11-20 13:36:49+01:00   \n",
       "1853   driver                     jvm.total.max 2020-11-20 13:36:49+01:00   \n",
       "\n",
       "           value  \n",
       "0              0  \n",
       "1              0  \n",
       "2              0  \n",
       "3              0  \n",
       "4              0  \n",
       "...          ...  \n",
       "1849  1064828927  \n",
       "1850  1067974655  \n",
       "1851  1069023231  \n",
       "1852  1069023231  \n",
       "1853  1069023231  \n",
       "\n",
       "[1854 rows x 4 columns]"
      ]
     },
     "execution_count": 20,
     "metadata": {},
     "output_type": "execute_result"
    }
   ],
   "source": [
    "df_all = df.copy()\n",
    "df_all = df_all.set_index(\"t\", append=True)\n",
    "df_all.index = df_all.index.rename([\"executor\", \"metric\", \"id\", \"time\"])\n",
    "# df_all = df_all.unstack(\"metric\")\n",
    "# df_all = df_all.droplevel(0, axis=1)\n",
    "df_all = df_all.reset_index().drop(columns = \"id\")\n",
    "# convert UTC UNIX seconds to datetime\n",
    "df_all[\"time\"] = pd.to_datetime(df_all['time'], unit='s', utc=True)\n",
    "# convert UTC to Brussels UTC+1 (timezone of cluster), which Spark UI also uses\n",
    "df_all[\"time\"] = df_all[\"time\"].dt.tz_convert(timezone)\n",
    "df_all"
   ]
  },
  {
   "cell_type": "code",
   "execution_count": 21,
   "metadata": {},
   "outputs": [],
   "source": [
    "df_nd = df_all"
   ]
  },
  {
   "cell_type": "code",
   "execution_count": 22,
   "metadata": {},
   "outputs": [
    {
     "data": {
      "text/plain": [
       "Index(['executor', 'metric', 'time', 'value'], dtype='object')"
      ]
     },
     "execution_count": 22,
     "metadata": {},
     "output_type": "execute_result"
    }
   ],
   "source": [
    "df_all.columns"
   ]
  },
  {
   "cell_type": "markdown",
   "metadata": {},
   "source": [
    "# Plot of single executor memory\n",
    "\n",
    "## Stages\n",
    "\n",
    "- 0\n",
    "    - repartition\n",
    "    - Tools.scala:94\n",
    "    - 3s\n",
    "- 1\n",
    "    - count\n",
    "    - BlsSpeller.scala:159\n",
    "    - 0.5s\n",
    "    - create input motifIterator\n",
    "- 2\n",
    "    - repartition\n",
    "    - Tools.scala:94\n",
    "    - skipped\n",
    "- 3\n",
    "    - flatMap\n",
    "    - Tools.scala:122\n",
    "    - 22min\n",
    "    - run motifIterator\n",
    "- 4\n",
    "    - runJob\n",
    "    - SparkHadoopWriter.scala:78\n",
    "    - 2.7min\n",
    "    - write output\n",
    "\n",
    "## Stage 3\n",
    "\n",
    "Closer look at stage 3 for exector 1\n",
    "\n",
    "- 23:46\n",
    "    - Start of task 1 in stage 3 by exectutor\n",
    "    - iratic onheap execution memory behaviour\n",
    "    - growing memory of motifIterator to max 800MB\n",
    "- 00:01\n",
    "    - unknown event\n",
    "    - motifIterator is done?\n",
    "    - flatMap of \n",
    "- 00:05\n",
    "    - end of task 1\n",
    "    - all memory metrics to 0\n",
    "    - exectur is idle\n",
    "\n",
    "Start of Stage 3 (pipe to MotifIterator). Stage 3 end at 23:05"
   ]
  },
  {
   "cell_type": "code",
   "execution_count": 23,
   "metadata": {},
   "outputs": [
    {
     "data": {
      "text/plain": [
       "<seaborn.axisgrid.FacetGrid at 0x7f4bf498cb50>"
      ]
     },
     "execution_count": 23,
     "metadata": {},
     "output_type": "execute_result"
    },
    {
     "data": {
      "image/png": "[encoded data removed]",
      "text/plain": [
       "<Figure size 360x360 with 1 Axes>"
      ]
     },
     "metadata": {
      "needs_background": "light"
     },
     "output_type": "display_data"
    }
   ],
   "source": [
    "\n",
    "subset_metrics = [\n",
    "#     \"ExecutorMetrics.ProcessTreeJVMVMemory\",\n",
    "#     \"ExecutorMetrics.ProcessTreeJVMRSSMemory\",\n",
    "#     \"ExecutorMetrics.ProcessTreeOtherVMemory\",\n",
    "#     \"ExecutorMetrics.ProcessTreeOtherRSSMemory\",\n",
    "#     \"ExecutorMetrics.OnHeapUnifiedMemory\",\n",
    "#     \"ExecutorMetrics.OffHeapUnifiedMemory\",\n",
    "#     \"ExecutorMetrics.OnHeapExecutionMemory\",\n",
    "#     \"ExecutorMetrics.OffHeapExecutionMemory\",\n",
    "#     \"shuffleBytesWritten\",\n",
    "#     \"shuffleLocalBytesRead\",\n",
    "#     \"shuffleRemoteBytesReadToDisk\",\n",
    "#     \"ExecutorMetrics.JVMHeapMemory\",\n",
    "#     \"executor.filesystem.hdfs.write_bytes\",\n",
    "# #     \"executor.filesystem.hdfs.read_bytes\", \n",
    "#     \"executor.filesystem.file.write_bytes\",\n",
    "#     \"executor.filesystem.file.read_bytes\", \n",
    "    \"executor.shuffleBytesWritten\",\n",
    "    \"executor.shuffleLocalBytesRead\",\n",
    "    \"executor.shuffleRemoteBytesReadToDisk\",\n",
    "]\n",
    "\n",
    "df_subset = (df_nd[df_nd[\"metric\"]\n",
    "                .isin(subset_metrics)]\n",
    "#             .query(\"executor == '1'\")\n",
    "            )\n",
    "sns.relplot(data=df_subset, x=\"time\", y=\"value\", style=\"metric\", hue=\"metric\", kind=\"line\")"
   ]
  },
  {
   "cell_type": "code",
   "execution_count": 24,
   "metadata": {},
   "outputs": [
    {
     "data": {
      "text/plain": [
       "<seaborn.axisgrid.FacetGrid at 0x7f4bf496e6d0>"
      ]
     },
     "execution_count": 24,
     "metadata": {},
     "output_type": "execute_result"
    },
    {
     "data": {
      "image/png": "[encoded data removed]",
      "text/plain": [
       "<Figure size 360x360 with 1 Axes>"
      ]
     },
     "metadata": {
      "needs_background": "light"
     },
     "output_type": "display_data"
    }
   ],
   "source": [
    "\n",
    "subset_metrics = [\n",
    "#     \"ExecutorMetrics.ProcessTreeJVMVMemory\",\n",
    "#     \"ExecutorMetrics.ProcessTreeJVMRSSMemory\",\n",
    "#     \"ExecutorMetrics.ProcessTreeOtherVMemory\",\n",
    "#     \"ExecutorMetrics.ProcessTreeOtherRSSMemory\",\n",
    "#     \"ExecutorMetrics.OnHeapUnifiedMemory\",\n",
    "#     \"ExecutorMetrics.OffHeapUnifiedMemory\",\n",
    "#     \"ExecutorMetrics.OnHeapExecutionMemory\",\n",
    "#     \"ExecutorMetrics.OffHeapExecutionMemory\",\n",
    "#     \"shuffleBytesWritten\",\n",
    "#     \"shuffleLocalBytesRead\",\n",
    "#     \"shuffleRemoteBytesReadToDisk\",\n",
    "#     \"ExecutorMetrics.JVMHeapMemory\",\n",
    "    \"executor.filesystem.hdfs.write_bytes\",\n",
    "# #     \"executor.filesystem.hdfs.read_bytes\", \n",
    "    \"executor.filesystem.file.write_bytes\",\n",
    "    \"executor.filesystem.file.read_bytes\", \n",
    "    \"executor.shuffleBytesWritten\",\n",
    "# #     \"executor.shuffleLocalBytesRead\",\n",
    "#     \"executor.shuffleRemoteBytesReadToDisk\",\n",
    "]\n",
    "\n",
    "df_subset = (df_nd[df_nd[\"metric\"]\n",
    "                .isin(subset_metrics)]\n",
    "#             .query(\"executor == '1'\")\n",
    "            )\n",
    "sns.relplot(data=df_subset, x=\"time\", y=\"value\", style=\"metric\", hue=\"metric\", kind=\"line\")"
   ]
  },
  {
   "cell_type": "code",
   "execution_count": 25,
   "metadata": {},
   "outputs": [
    {
     "data": {
      "text/plain": [
       "<seaborn.axisgrid.FacetGrid at 0x7f4c26326f70>"
      ]
     },
     "execution_count": 25,
     "metadata": {},
     "output_type": "execute_result"
    },
    {
     "data": {
      "image/png": "[encoded data removed]",
      "text/plain": [
       "<Figure size 564.25x360 with 1 Axes>"
      ]
     },
     "metadata": {
      "needs_background": "light"
     },
     "output_type": "display_data"
    }
   ],
   "source": [
    "\n",
    "subset_metrics = [\n",
    "#     \"ExecutorMetrics.ProcessTreeJVMVMemory\",\n",
    "#     \"ExecutorMetrics.ProcessTreeJVMRSSMemory\",\n",
    "#     \"ExecutorMetrics.ProcessTreeOtherVMemory\",\n",
    "#     \"ExecutorMetrics.ProcessTreeOtherRSSMemory\",\n",
    "#     \"ExecutorMetrics.OnHeapUnifiedMemory\",\n",
    "#     \"ExecutorMetrics.OffHeapUnifiedMemory\",\n",
    "#     \"ExecutorMetrics.OnHeapExecutionMemory\",\n",
    "#     \"ExecutorMetrics.OffHeapExecutionMemory\",\n",
    "    \"jvm.heap.init\",\n",
    "    \"jvm.heap.used\",\n",
    "    \"jvm.heap.max\",\n",
    "        \"ExecutorMetrics.JVMHeapMemory\",\n",
    "]\n",
    "\n",
    "df_subset = (df_nd[df_nd[\"metric\"]\n",
    "                .isin(subset_metrics)]\n",
    "#             .query(\"executor == '1'\")\n",
    "            )\n",
    "sns.relplot(data=df_subset, x=\"time\", y=\"value\", style=\"metric\", hue=\"metric\", kind=\"line\")"
   ]
  },
  {
   "cell_type": "code",
   "execution_count": 26,
   "metadata": {},
   "outputs": [
    {
     "data": {
      "text/plain": [
       "<seaborn.axisgrid.FacetGrid at 0x7f4bf4af4370>"
      ]
     },
     "execution_count": 26,
     "metadata": {},
     "output_type": "execute_result"
    },
    {
     "data": {
      "image/png": "[encoded data removed]",
      "text/plain": [
       "<Figure size 613.5x360 with 1 Axes>"
      ]
     },
     "metadata": {
      "needs_background": "light"
     },
     "output_type": "display_data"
    }
   ],
   "source": [
    "subset_metrics = [\n",
    "#     \"ExecutorMetrics.ProcessTreeJVMVMemory\",\n",
    "#     \"ExecutorMetrics.ProcessTreeJVMRSSMemory\",\n",
    "    \"ExecutorMetrics.ProcessTreeOtherVMemory\",\n",
    "#     \"ExecutorMetrics.ProcessTreeOtherRSSMemory\",\n",
    "    \"ExecutorMetrics.OnHeapUnifiedMemory\",\n",
    "#     \"ExecutorMetrics.OffHeapUnifiedMemory\",\n",
    "#     \"ExecutorMetrics.OnHeapExecutionMemory\",\n",
    "#     \"ExecutorMetrics.OffHeapExecutionMemory\",\n",
    "]\n",
    "\n",
    "df_subset = (df_nd[df_nd[\"metric\"]\n",
    "                .isin(subset_metrics)]\n",
    "#             .query(\"executor == '1'\")\n",
    "            )\n",
    "sns.relplot(data=df_subset, x=\"time\", y=\"value\", style=\"metric\", hue=\"metric\", kind=\"line\")"
   ]
  },
  {
   "cell_type": "code",
   "execution_count": 27,
   "metadata": {},
   "outputs": [
    {
     "data": {
      "text/plain": [
       "<seaborn.axisgrid.FacetGrid at 0x7f4bf49bb1f0>"
      ]
     },
     "execution_count": 27,
     "metadata": {},
     "output_type": "execute_result"
    },
    {
     "data": {
      "image/png": "[encoded data removed]",
      "text/plain": [
       "<Figure size 613.5x360 with 1 Axes>"
      ]
     },
     "metadata": {
      "needs_background": "light"
     },
     "output_type": "display_data"
    }
   ],
   "source": [
    "subset_metrics = [\n",
    "# \"ExecutorMetrics.ProcessTreeJVMVMemory\",\n",
    "#     \"ExecutorMetrics.ProcessTreeJVMRSSMemory\",\n",
    "    \"ExecutorMetrics.ProcessTreeOtherVMemory\",\n",
    "#     \"ExecutorMetrics.ProcessTreeOtherRSSMemory\",\n",
    "    \"ExecutorMetrics.OnHeapUnifiedMemory\",\n",
    "#     \"ExecutorMetrics.OffHeapUnifiedMemory\",\n",
    "#     \"ExecutorMetrics.OnHeapExecutionMemory\",\n",
    "#     \"ExecutorMetrics.OffHeapExecutionMemory\",\n",
    "    \"ExecutorMetrics.JVMHeapMemory\",\n",
    "#     \"ExecutorMetrics.JVMOffHeapMemory\",\n",
    "#     \"ExecutorMetrics.MappedPoolMemory\",\n",
    "#     \"ExecutorMetrics.DirectPoolMemory\",\n",
    "#     \"NettyBlockTransfer.shuffle-server.usedDirectMemory\",\n",
    "#     \"executor.memoryBytesSpilled\",\n",
    "#     \"executor.diskBytesSpilled\",\n",
    "]\n",
    "\n",
    "df_subset = (df_nd[df_nd[\"metric\"]\n",
    "                .isin(subset_metrics)]\n",
    "#             .query(\"executor == '1'\")\n",
    "            )\n",
    "sns.relplot(data=df_subset, x=\"time\", y=\"value\", style=\"metric\", hue=\"metric\", kind=\"line\")"
   ]
  },
  {
   "cell_type": "code",
   "execution_count": 28,
   "metadata": {},
   "outputs": [
    {
     "data": {
      "text/plain": [
       "<seaborn.axisgrid.FacetGrid at 0x7f4bf4cf57f0>"
      ]
     },
     "execution_count": 28,
     "metadata": {},
     "output_type": "execute_result"
    },
    {
     "data": {
      "image/png": "[encoded data removed]",
      "text/plain": [
       "<Figure size 360x360 with 1 Axes>"
      ]
     },
     "metadata": {
      "needs_background": "light"
     },
     "output_type": "display_data"
    }
   ],
   "source": [
    "subset_metrics = [\n",
    "# \"ExecutorMetrics.ProcessTreeJVMVMemory\",\n",
    "#     \"ExecutorMetrics.ProcessTreeJVMRSSMemory\",\n",
    "#     \"ExecutorMetrics.ProcessTreeOtherVMemory\",\n",
    "#     \"ExecutorMetrics.ProcessTreeOtherRSSMemory\",\n",
    "#     \"ExecutorMetrics.OnHeapUnifiedMemory\",\n",
    "#     \"ExecutorMetrics.OffHeapUnifiedMemory\",\n",
    "#     \"ExecutorMetrics.OnHeapExecutionMemory\",\n",
    "#     \"ExecutorMetrics.OffHeapExecutionMemory\",\n",
    "    \"ExecutorMetrics.JVMHeapMemory\",\n",
    "#     \"ExecutorMetrics.JVMOffHeapMemory\",\n",
    "#     \"ExecutorMetrics.MappedPoolMemory\",\n",
    "#     \"ExecutorMetrics.DirectPoolMemory\",\n",
    "#     \"NettyBlockTransfer.shuffle-server.usedDirectMemory\",\n",
    "    \"executor.memoryBytesSpilled\",\n",
    "    \"executor.diskBytesSpilled\",\n",
    "]\n",
    "\n",
    "df_subset = (df_nd[df_nd[\"metric\"]\n",
    "                .isin(subset_metrics)]\n",
    "            .query(\"executor == '1'\"))\n",
    "sns.relplot(data=df_subset, x=\"time\", y=\"value\", style=\"metric\", hue=\"metric\", kind=\"line\")"
   ]
  },
  {
   "cell_type": "markdown",
   "metadata": {},
   "source": [
    "Same erratic OnHeapExecutionMemory behaviour for all execturs.\n",
    "Ceiling at 2.6GB"
   ]
  },
  {
   "cell_type": "code",
   "execution_count": 29,
   "metadata": {},
   "outputs": [
    {
     "data": {
      "text/plain": [
       "<seaborn.axisgrid.FacetGrid at 0x7f4bf4724670>"
      ]
     },
     "execution_count": 29,
     "metadata": {},
     "output_type": "execute_result"
    },
    {
     "data": {
      "image/png": "[encoded data removed]",
      "text/plain": [
       "<Figure size 609x360 with 1 Axes>"
      ]
     },
     "metadata": {
      "needs_background": "light"
     },
     "output_type": "display_data"
    }
   ],
   "source": [
    "subset_metrics = [\n",
    "#     \"ExecutorMetrics.ProcessTreeJVMVMemory\",\n",
    "#     \"ExecutorMetrics.ProcessTreeJVMRSSMemory\",\n",
    "#     \"ExecutorMetrics.ProcessTreeOtherVMemory\",\n",
    "#     \"ExecutorMetrics.ProcessTreeOtherRSSMemory\",\n",
    "#     \"ExecutorMetrics.OnHeapUnifiedMemory\",\n",
    "#     \"ExecutorMetrics.OffHeapUnifiedMemory\",\n",
    "    \"ExecutorMetrics.OnHeapExecutionMemory\",\n",
    "#     \"ExecutorMetrics.OffHeapExecutionMemory\",\n",
    "]\n",
    "\n",
    "df_subset = (df_nd[df_nd[\"metric\"]\n",
    "                .isin(subset_metrics)])\n",
    "sns.relplot(data=df_subset, x=\"time\", y=\"value\", style=\"metric\", hue=\"executor\", kind=\"line\")"
   ]
  },
  {
   "cell_type": "markdown",
   "metadata": {},
   "source": [
    "Task 12 at executor 13 has +4 GB of extra memory for motifIterator then the regular 1 GB. Why?\n",
    "No other metrics are different, except Shuffle Remote Reads of 5.7 MiB instead of <1MiB"
   ]
  },
  {
   "cell_type": "code",
   "execution_count": 30,
   "metadata": {},
   "outputs": [
    {
     "data": {
      "text/plain": [
       "<seaborn.axisgrid.FacetGrid at 0x7f4bf46ad580>"
      ]
     },
     "execution_count": 30,
     "metadata": {},
     "output_type": "execute_result"
    },
    {
     "data": {
      "image/png": "[encoded data removed]",
      "text/plain": [
       "<Figure size 425.5x360 with 1 Axes>"
      ]
     },
     "metadata": {
      "needs_background": "light"
     },
     "output_type": "display_data"
    }
   ],
   "source": [
    "subset_metrics = [\n",
    "#     \"ExecutorMetrics.ProcessTreeJVMVMemory\",\n",
    "#     \"ExecutorMetrics.ProcessTreeJVMRSSMemory\",\n",
    "    \"ExecutorMetrics.ProcessTreeOtherVMemory\",\n",
    "#     \"ExecutorMetrics.ProcessTreeOtherRSSMemCloserory\",\n",
    "#     \"ExecutorMetrics.OnHeapUnifiedMemory\",\n",
    "#     \"ExecutorMetrics.OffHeapUnifiedMemory\",\n",
    "#     \"ExecutorMetrics.OnHeapExecutionMemory\",\n",
    "#     \"ExecutorMetrics.OffHeapExecutionMemory\",\n",
    "]\n",
    "\n",
    "df_subset = (df_nd[df_nd[\"metric\"]\n",
    "                .isin(subset_metrics)])\n",
    "sns.relplot(data=df_subset, x=\"time\", y=\"value\", style=\"executor\", hue=\"executor\", kind=\"line\")"
   ]
  },
  {
   "cell_type": "code",
   "execution_count": 31,
   "metadata": {},
   "outputs": [
    {
     "ename": "NameError",
     "evalue": "name 'data' is not defined",
     "output_type": "error",
     "traceback": [
      "\u001b[0;31m---------------------------------------------------------------------------\u001b[0m",
      "\u001b[0;31mNameError\u001b[0m                                 Traceback (most recent call last)",
      "\u001b[0;32m<ipython-input-31-ce91b71a2bba>\u001b[0m in \u001b[0;36m<module>\u001b[0;34m\u001b[0m\n\u001b[0;32m----> 1\u001b[0;31m \u001b[0mdf\u001b[0m \u001b[0;34m=\u001b[0m \u001b[0mpd\u001b[0m\u001b[0;34m.\u001b[0m\u001b[0mDataFrame\u001b[0m\u001b[0;34m.\u001b[0m\u001b[0mfrom_dict\u001b[0m\u001b[0;34m(\u001b[0m\u001b[0mdata\u001b[0m\u001b[0;34m)\u001b[0m\u001b[0;34m\u001b[0m\u001b[0;34m\u001b[0m\u001b[0m\n\u001b[0m\u001b[1;32m      2\u001b[0m \u001b[0mpd\u001b[0m\u001b[0;34m.\u001b[0m\u001b[0moptions\u001b[0m\u001b[0;34m.\u001b[0m\u001b[0mdisplay\u001b[0m\u001b[0;34m.\u001b[0m\u001b[0mmax_columns\u001b[0m \u001b[0;34m=\u001b[0m \u001b[0;32mNone\u001b[0m\u001b[0;34m\u001b[0m\u001b[0;34m\u001b[0m\u001b[0m\n\u001b[1;32m      3\u001b[0m \u001b[0mdf\u001b[0m\u001b[0;34m\u001b[0m\u001b[0;34m\u001b[0m\u001b[0m\n",
      "\u001b[0;31mNameError\u001b[0m: name 'data' is not defined"
     ]
    }
   ],
   "source": [
    "df = pd.DataFrame.from_dict(data)\n",
    "pd.options.display.max_columns = None\n",
    "df"
   ]
  },
  {
   "cell_type": "code",
   "execution_count": null,
   "metadata": {},
   "outputs": [],
   "source": [
    "df[\"submissionTime\"] = pd.to_datetime(df[\"submissionTime\"], unit=\"ms\")\n",
    "df[\"completionTime\"] = pd.to_datetime(df[\"completionTime\"], unit=\"ms\")\n",
    "df[\"executorCpuTime\"] = df[\"executorCpuTime\"] / 1000\n",
    "df[\"executorDeserializeCpuTime\"] = df[\"executorDeserializeCpuTime\"] / 1000\n",
    "df"
   ]
  },
  {
   "cell_type": "code",
   "execution_count": null,
   "metadata": {},
   "outputs": [],
   "source": [
    "def plot_n_active_tasks(df):\n",
    "#     colormap = cm.get_cmap('viridis', df[\"stageId\"].max() + 1)\n",
    "#     colors = df[\"jobId\"].apply(lambda x: colormap.colors[x])\n",
    "    plot = df.plot.bar(x=\"submissionTime\", y=[\"numTasks\"])\n",
    "    \n",
    "def plot_jvm_cpu_usage(df):\n",
    "    plot = df.plot.bar(x=\"submissionTime\", y=[\"executorCpuTime\"])\n",
    "\n",
    "def plot_time_components(df):\n",
    "    components = [\n",
    "        \"executorDeserializeCpuTime\", \n",
    "        \"executorDeserializeTime\",\n",
    "        \"executorCpuTime\",\n",
    "        \"shuffleWriteTime\",\n",
    "        \"resultSerializationTime\",\n",
    "        \"shuffleFetchWaitTime\",\n",
    "        \"jvmGCTime\",\n",
    "    ]\n",
    "#     fig, ax = plt.subplots(1, 1)\n",
    "    ax = df.plot.line(x=\"submissionTime\", y=\"executorRunTime\", use_index=False)\n",
    "    df.plot.bar(x=\"submissionTime\", y=components, stacked=True, use_index=False, ax=ax)\n",
    "    \n",
    "    \n",
    "def plot_peak_memory(df):\n",
    "    plot = df.plot.bar(x=\"submissionTime\", y=[\"peakExecutionMemory\"])"
   ]
  },
  {
   "cell_type": "code",
   "execution_count": null,
   "metadata": {},
   "outputs": [],
   "source": [
    "plot_n_active_tasks(df)\n",
    "plot_jvm_cpu_usage(df)\n",
    "plot_time_components(df)\n",
    "plot_peak_memory(df)"
   ]
  }
 ],
 "metadata": {
  "kernelspec": {
   "display_name": "Python [conda env:root] *",
   "language": "python",
   "name": "conda-root-py"
  },
  "language_info": {
   "codemirror_mode": {
    "name": "ipython",
    "version": 3
   },
   "file_extension": ".py",
   "mimetype": "text/x-python",
   "name": "python",
   "nbconvert_exporter": "python",
   "pygments_lexer": "ipython3",
   "version": "3.8.3"
  }
 },
 "nbformat": 4,
 "nbformat_minor": 4
}
