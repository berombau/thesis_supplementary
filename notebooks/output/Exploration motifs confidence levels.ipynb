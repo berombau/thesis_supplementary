{
 "cells": [
  {
   "cell_type": "code",
   "execution_count": 1,
   "metadata": {},
   "outputs": [],
   "source": [
    "from itertools import product\n",
    "from pathlib import Path\n",
    "\n",
    "import pandas as pd\n",
    "import numpy as np\n",
    "import Bio\n",
    "from Bio import motifs\n",
    "from Bio import Align"
   ]
  },
  {
   "cell_type": "code",
   "execution_count": 2,
   "metadata": {},
   "outputs": [],
   "source": [
    "bed_90 = \"beds/locations-8-0.90-tae.bed.gz\"\n",
    "bed_85 = \"beds/locations-8-0.85-tae.bed.gz\""
   ]
  },
  {
   "cell_type": "code",
   "execution_count": 3,
   "metadata": {},
   "outputs": [],
   "source": [
    "def read_input(location, offset=1):\n",
    "    df = pd.read_csv(location, sep=\"\\t\", header=None, names=[\n",
    "    \"chr\", \"start\", \"end\", \"motif\", \"score\"\n",
    "    ])\n",
    "    diff_prev = df[\"start\"].diff(1)\n",
    "    offset_1 = diff_prev == 1\n",
    "    df[\"offset_1\"] = offset_1 | offset_1.shift(-1)\n",
    "    df[\"subgroup\"] = (df.start.diff() != 1).cumsum() - 1\n",
    "    return df"
   ]
  },
  {
   "cell_type": "code",
   "execution_count": 4,
   "metadata": {},
   "outputs": [],
   "source": [
    "def get_unique_motifs(df):\n",
    "    if \"score\" not in df:\n",
    "        df[\"score\"] = np.nan\n",
    "    df_motifs = df.groupby(\"motif\")[[\"motif\", \"score\"]].agg(\n",
    "    {\n",
    "        'motif': 'size',\n",
    "        'score': 'mean',\n",
    "    }\n",
    "    ).rename(columns={'motif': 'count'}).sort_values('count', ascending=False).reset_index()\n",
    "    return df_motifs"
   ]
  },
  {
   "cell_type": "markdown",
   "metadata": {},
   "source": [
    "## Mergeable motifs "
   ]
  },
  {
   "cell_type": "code",
   "execution_count": 5,
   "metadata": {},
   "outputs": [],
   "source": [
    "def get_offset_percentage(n):\n",
    "    return (diff_prev == n).mean()\n",
    "\n",
    "def get_offset_counts(n):\n",
    "    return (diff_prev == n).sum()"
   ]
  },
  {
   "cell_type": "code",
   "execution_count": 6,
   "metadata": {},
   "outputs": [
    {
     "data": {
      "text/html": [
       "<div>\n",
       "<style scoped>\n",
       "    .dataframe tbody tr th:only-of-type {\n",
       "        vertical-align: middle;\n",
       "    }\n",
       "\n",
       "    .dataframe tbody tr th {\n",
       "        vertical-align: top;\n",
       "    }\n",
       "\n",
       "    .dataframe thead th {\n",
       "        text-align: right;\n",
       "    }\n",
       "</style>\n",
       "<table border=\"1\" class=\"dataframe\">\n",
       "  <thead>\n",
       "    <tr style=\"text-align: right;\">\n",
       "      <th></th>\n",
       "      <th>chr</th>\n",
       "      <th>start</th>\n",
       "      <th>end</th>\n",
       "      <th>motif</th>\n",
       "      <th>score</th>\n",
       "      <th>offset_1</th>\n",
       "      <th>subgroup</th>\n",
       "    </tr>\n",
       "  </thead>\n",
       "  <tbody>\n",
       "    <tr>\n",
       "      <th>0</th>\n",
       "      <td>chr1A</td>\n",
       "      <td>65400</td>\n",
       "      <td>65408</td>\n",
       "      <td>NGCTGCTG</td>\n",
       "      <td>1.000000</td>\n",
       "      <td>True</td>\n",
       "      <td>0</td>\n",
       "    </tr>\n",
       "    <tr>\n",
       "      <th>1</th>\n",
       "      <td>chr1A</td>\n",
       "      <td>65401</td>\n",
       "      <td>65409</td>\n",
       "      <td>GCTGCWGS</td>\n",
       "      <td>1.000000</td>\n",
       "      <td>True</td>\n",
       "      <td>0</td>\n",
       "    </tr>\n",
       "    <tr>\n",
       "      <th>2</th>\n",
       "      <td>chr1A</td>\n",
       "      <td>65446</td>\n",
       "      <td>65454</td>\n",
       "      <td>TGCADGTG</td>\n",
       "      <td>1.000000</td>\n",
       "      <td>False</td>\n",
       "      <td>1</td>\n",
       "    </tr>\n",
       "    <tr>\n",
       "      <th>3</th>\n",
       "      <td>chr1A</td>\n",
       "      <td>65467</td>\n",
       "      <td>65475</td>\n",
       "      <td>RTGCATGS</td>\n",
       "      <td>1.000000</td>\n",
       "      <td>False</td>\n",
       "      <td>2</td>\n",
       "    </tr>\n",
       "    <tr>\n",
       "      <th>4</th>\n",
       "      <td>chr1A</td>\n",
       "      <td>65474</td>\n",
       "      <td>65482</td>\n",
       "      <td>GGCGGMGG</td>\n",
       "      <td>1.000000</td>\n",
       "      <td>True</td>\n",
       "      <td>3</td>\n",
       "    </tr>\n",
       "    <tr>\n",
       "      <th>...</th>\n",
       "      <td>...</td>\n",
       "      <td>...</td>\n",
       "      <td>...</td>\n",
       "      <td>...</td>\n",
       "      <td>...</td>\n",
       "      <td>...</td>\n",
       "      <td>...</td>\n",
       "    </tr>\n",
       "    <tr>\n",
       "      <th>12680228</th>\n",
       "      <td>chrUn</td>\n",
       "      <td>478934399</td>\n",
       "      <td>478934407</td>\n",
       "      <td>GCAGCARS</td>\n",
       "      <td>0.919954</td>\n",
       "      <td>True</td>\n",
       "      <td>6606369</td>\n",
       "    </tr>\n",
       "    <tr>\n",
       "      <th>12680229</th>\n",
       "      <td>chrUn</td>\n",
       "      <td>478935090</td>\n",
       "      <td>478935098</td>\n",
       "      <td>TGCAASCA</td>\n",
       "      <td>0.855321</td>\n",
       "      <td>False</td>\n",
       "      <td>6606370</td>\n",
       "    </tr>\n",
       "    <tr>\n",
       "      <th>12680230</th>\n",
       "      <td>chrUn</td>\n",
       "      <td>478935556</td>\n",
       "      <td>478935564</td>\n",
       "      <td>TTGCWTGC</td>\n",
       "      <td>1.000000</td>\n",
       "      <td>True</td>\n",
       "      <td>6606371</td>\n",
       "    </tr>\n",
       "    <tr>\n",
       "      <th>12680231</th>\n",
       "      <td>chrUn</td>\n",
       "      <td>478935557</td>\n",
       "      <td>478935565</td>\n",
       "      <td>TGCTTGCW</td>\n",
       "      <td>1.000000</td>\n",
       "      <td>True</td>\n",
       "      <td>6606371</td>\n",
       "    </tr>\n",
       "    <tr>\n",
       "      <th>12680232</th>\n",
       "      <td>chrUn</td>\n",
       "      <td>478935834</td>\n",
       "      <td>478935842</td>\n",
       "      <td>ATGCMTGS</td>\n",
       "      <td>1.000000</td>\n",
       "      <td>False</td>\n",
       "      <td>6606372</td>\n",
       "    </tr>\n",
       "  </tbody>\n",
       "</table>\n",
       "<p>12680233 rows × 7 columns</p>\n",
       "</div>"
      ],
      "text/plain": [
       "            chr      start        end     motif     score  offset_1  subgroup\n",
       "0         chr1A      65400      65408  NGCTGCTG  1.000000      True         0\n",
       "1         chr1A      65401      65409  GCTGCWGS  1.000000      True         0\n",
       "2         chr1A      65446      65454  TGCADGTG  1.000000     False         1\n",
       "3         chr1A      65467      65475  RTGCATGS  1.000000     False         2\n",
       "4         chr1A      65474      65482  GGCGGMGG  1.000000      True         3\n",
       "...         ...        ...        ...       ...       ...       ...       ...\n",
       "12680228  chrUn  478934399  478934407  GCAGCARS  0.919954      True   6606369\n",
       "12680229  chrUn  478935090  478935098  TGCAASCA  0.855321     False   6606370\n",
       "12680230  chrUn  478935556  478935564  TTGCWTGC  1.000000      True   6606371\n",
       "12680231  chrUn  478935557  478935565  TGCTTGCW  1.000000      True   6606371\n",
       "12680232  chrUn  478935834  478935842  ATGCMTGS  1.000000     False   6606372\n",
       "\n",
       "[12680233 rows x 7 columns]"
      ]
     },
     "execution_count": 6,
     "metadata": {},
     "output_type": "execute_result"
    }
   ],
   "source": [
    "df_90 = read_input(bed_90)\n",
    "df_90"
   ]
  },
  {
   "cell_type": "code",
   "execution_count": 7,
   "metadata": {},
   "outputs": [
    {
     "data": {
      "text/html": [
       "<div>\n",
       "<style scoped>\n",
       "    .dataframe tbody tr th:only-of-type {\n",
       "        vertical-align: middle;\n",
       "    }\n",
       "\n",
       "    .dataframe tbody tr th {\n",
       "        vertical-align: top;\n",
       "    }\n",
       "\n",
       "    .dataframe thead th {\n",
       "        text-align: right;\n",
       "    }\n",
       "</style>\n",
       "<table border=\"1\" class=\"dataframe\">\n",
       "  <thead>\n",
       "    <tr style=\"text-align: right;\">\n",
       "      <th></th>\n",
       "      <th>chr</th>\n",
       "      <th>start</th>\n",
       "      <th>end</th>\n",
       "      <th>motif</th>\n",
       "      <th>score</th>\n",
       "      <th>offset_1</th>\n",
       "      <th>subgroup</th>\n",
       "    </tr>\n",
       "  </thead>\n",
       "  <tbody>\n",
       "    <tr>\n",
       "      <th>0</th>\n",
       "      <td>chr1A</td>\n",
       "      <td>65272</td>\n",
       "      <td>65280</td>\n",
       "      <td>SCARCAGC</td>\n",
       "      <td>1.0</td>\n",
       "      <td>False</td>\n",
       "      <td>0</td>\n",
       "    </tr>\n",
       "    <tr>\n",
       "      <th>1</th>\n",
       "      <td>chr1A</td>\n",
       "      <td>65283</td>\n",
       "      <td>65291</td>\n",
       "      <td>MTGCKGCT</td>\n",
       "      <td>1.0</td>\n",
       "      <td>False</td>\n",
       "      <td>1</td>\n",
       "    </tr>\n",
       "    <tr>\n",
       "      <th>2</th>\n",
       "      <td>chr1A</td>\n",
       "      <td>65398</td>\n",
       "      <td>65406</td>\n",
       "      <td>VYTGCTGC</td>\n",
       "      <td>1.0</td>\n",
       "      <td>True</td>\n",
       "      <td>2</td>\n",
       "    </tr>\n",
       "    <tr>\n",
       "      <th>3</th>\n",
       "      <td>chr1A</td>\n",
       "      <td>65399</td>\n",
       "      <td>65407</td>\n",
       "      <td>YKGCTGCT</td>\n",
       "      <td>1.0</td>\n",
       "      <td>True</td>\n",
       "      <td>2</td>\n",
       "    </tr>\n",
       "    <tr>\n",
       "      <th>4</th>\n",
       "      <td>chr1A</td>\n",
       "      <td>65400</td>\n",
       "      <td>65408</td>\n",
       "      <td>BGCTGCWG</td>\n",
       "      <td>1.0</td>\n",
       "      <td>True</td>\n",
       "      <td>2</td>\n",
       "    </tr>\n",
       "    <tr>\n",
       "      <th>...</th>\n",
       "      <td>...</td>\n",
       "      <td>...</td>\n",
       "      <td>...</td>\n",
       "      <td>...</td>\n",
       "      <td>...</td>\n",
       "      <td>...</td>\n",
       "      <td>...</td>\n",
       "    </tr>\n",
       "    <tr>\n",
       "      <th>45317805</th>\n",
       "      <td>chrUn</td>\n",
       "      <td>478935738</td>\n",
       "      <td>478935746</td>\n",
       "      <td>SMTCCATG</td>\n",
       "      <td>1.0</td>\n",
       "      <td>True</td>\n",
       "      <td>21633630</td>\n",
       "    </tr>\n",
       "    <tr>\n",
       "      <th>45317806</th>\n",
       "      <td>chrUn</td>\n",
       "      <td>478935739</td>\n",
       "      <td>478935747</td>\n",
       "      <td>CTSCATGY</td>\n",
       "      <td>1.0</td>\n",
       "      <td>True</td>\n",
       "      <td>21633630</td>\n",
       "    </tr>\n",
       "    <tr>\n",
       "      <th>45317807</th>\n",
       "      <td>chrUn</td>\n",
       "      <td>478935833</td>\n",
       "      <td>478935841</td>\n",
       "      <td>YATGCMTG</td>\n",
       "      <td>1.0</td>\n",
       "      <td>True</td>\n",
       "      <td>21633631</td>\n",
       "    </tr>\n",
       "    <tr>\n",
       "      <th>45317808</th>\n",
       "      <td>chrUn</td>\n",
       "      <td>478935834</td>\n",
       "      <td>478935842</td>\n",
       "      <td>ATGCMTGK</td>\n",
       "      <td>1.0</td>\n",
       "      <td>True</td>\n",
       "      <td>21633631</td>\n",
       "    </tr>\n",
       "    <tr>\n",
       "      <th>45317809</th>\n",
       "      <td>chrUn</td>\n",
       "      <td>478935857</td>\n",
       "      <td>478935865</td>\n",
       "      <td>YYGCCGCC</td>\n",
       "      <td>1.0</td>\n",
       "      <td>False</td>\n",
       "      <td>21633632</td>\n",
       "    </tr>\n",
       "  </tbody>\n",
       "</table>\n",
       "<p>45317810 rows × 7 columns</p>\n",
       "</div>"
      ],
      "text/plain": [
       "            chr      start        end     motif  score  offset_1  subgroup\n",
       "0         chr1A      65272      65280  SCARCAGC    1.0     False         0\n",
       "1         chr1A      65283      65291  MTGCKGCT    1.0     False         1\n",
       "2         chr1A      65398      65406  VYTGCTGC    1.0      True         2\n",
       "3         chr1A      65399      65407  YKGCTGCT    1.0      True         2\n",
       "4         chr1A      65400      65408  BGCTGCWG    1.0      True         2\n",
       "...         ...        ...        ...       ...    ...       ...       ...\n",
       "45317805  chrUn  478935738  478935746  SMTCCATG    1.0      True  21633630\n",
       "45317806  chrUn  478935739  478935747  CTSCATGY    1.0      True  21633630\n",
       "45317807  chrUn  478935833  478935841  YATGCMTG    1.0      True  21633631\n",
       "45317808  chrUn  478935834  478935842  ATGCMTGK    1.0      True  21633631\n",
       "45317809  chrUn  478935857  478935865  YYGCCGCC    1.0     False  21633632\n",
       "\n",
       "[45317810 rows x 7 columns]"
      ]
     },
     "execution_count": 7,
     "metadata": {},
     "output_type": "execute_result"
    }
   ],
   "source": [
    "df_85 = read_input(bed_85)\n",
    "df_85"
   ]
  },
  {
   "cell_type": "code",
   "execution_count": 8,
   "metadata": {},
   "outputs": [
    {
     "data": {
      "text/plain": [
       "(918, 3)"
      ]
     },
     "execution_count": 8,
     "metadata": {},
     "output_type": "execute_result"
    }
   ],
   "source": [
    "get_unique_motifs(df_90).shape"
   ]
  },
  {
   "cell_type": "code",
   "execution_count": 9,
   "metadata": {},
   "outputs": [
    {
     "data": {
      "text/plain": [
       "(5185, 3)"
      ]
     },
     "execution_count": 9,
     "metadata": {},
     "output_type": "execute_result"
    }
   ],
   "source": [
    "get_unique_motifs(df_85).shape"
   ]
  },
  {
   "cell_type": "code",
   "execution_count": 10,
   "metadata": {},
   "outputs": [
    {
     "data": {
      "text/plain": [
       "<AxesSubplot:ylabel='Frequency'>"
      ]
     },
     "execution_count": 10,
     "metadata": {},
     "output_type": "execute_result"
    },
    {
     "data": {
      "image/png": "[encoded data removed]",
      "text/plain": [
       "<Figure size 432x288 with 1 Axes>"
      ]
     },
     "metadata": {
      "needs_background": "light"
     },
     "output_type": "display_data"
    }
   ],
   "source": [
    "get_unique_motifs(df_85).score.plot.hist()"
   ]
  },
  {
   "cell_type": "code",
   "execution_count": 11,
   "metadata": {},
   "outputs": [
    {
     "data": {
      "text/plain": [
       "<AxesSubplot:ylabel='Frequency'>"
      ]
     },
     "execution_count": 11,
     "metadata": {},
     "output_type": "execute_result"
    },
    {
     "data": {
      "image/png": "[encoded data removed]",
      "text/plain": [
       "<Figure size 432x288 with 1 Axes>"
      ]
     },
     "metadata": {
      "needs_background": "light"
     },
     "output_type": "display_data"
    }
   ],
   "source": [
    "get_unique_motifs(df_90).score.plot.hist()"
   ]
  },
  {
   "cell_type": "markdown",
   "metadata": {},
   "source": [
    "## Merged motif lengths"
   ]
  },
  {
   "cell_type": "code",
   "execution_count": 12,
   "metadata": {},
   "outputs": [
    {
     "ename": "NameError",
     "evalue": "name 'df' is not defined",
     "output_type": "error",
     "traceback": [
      "\u001b[0;31m---------------------------------------------------------------------------\u001b[0m",
      "\u001b[0;31mNameError\u001b[0m                                 Traceback (most recent call last)",
      "\u001b[0;32m<ipython-input-12-aee544939605>\u001b[0m in \u001b[0;36m<module>\u001b[0;34m\u001b[0m\n\u001b[0;32m----> 1\u001b[0;31m \u001b[0mdf_mergable\u001b[0m \u001b[0;34m=\u001b[0m \u001b[0mdf\u001b[0m\u001b[0;34m[\u001b[0m\u001b[0mdf\u001b[0m\u001b[0;34m.\u001b[0m\u001b[0moffset_1\u001b[0m\u001b[0;34m]\u001b[0m\u001b[0;34m.\u001b[0m\u001b[0mreset_index\u001b[0m\u001b[0;34m(\u001b[0m\u001b[0;34m)\u001b[0m\u001b[0;34m\u001b[0m\u001b[0;34m\u001b[0m\u001b[0m\n\u001b[0m\u001b[1;32m      2\u001b[0m \u001b[0mdf_mergable\u001b[0m\u001b[0;34m\u001b[0m\u001b[0;34m\u001b[0m\u001b[0m\n",
      "\u001b[0;31mNameError\u001b[0m: name 'df' is not defined"
     ]
    }
   ],
   "source": [
    "df_mergable = df[df.offset_1].reset_index()\n",
    "df_mergable"
   ]
  },
  {
   "cell_type": "code",
   "execution_count": null,
   "metadata": {},
   "outputs": [],
   "source": [
    "subgroups = df.subgroup.value_counts()\n",
    "subgroups"
   ]
  },
  {
   "cell_type": "markdown",
   "metadata": {},
   "source": [
    "## Merge methods"
   ]
  },
  {
   "cell_type": "code",
   "execution_count": null,
   "metadata": {},
   "outputs": [],
   "source": [
    "def ambiguous_dna_list(seq):\n",
    "    \"\"\"return list of all possible sequences given an ambiguous DNA input\"\"\"\n",
    "    d = Bio.Data.IUPACData.ambiguous_dna_values\n",
    "    return list(map(\"\".join, product(*map(d.get, seq))))\n",
    "\n",
    "\n",
    "def is_degen_mergable(str1, str2):\n",
    "    for s1, s2 in product(ambiguous_dna_list(str1), ambiguous_dna_list(str2)):\n",
    "        if s1 == s2:\n",
    "            return True\n",
    "    return False\n",
    "\n",
    "def degen_merge(motifs):\n",
    "    consensus = list(Bio.motifs.create(motifs, alphabet=\"GATCRYWSMKHBVDN\").consensus)\n",
    "    return \"\".join(consensus)\n",
    "\n",
    "def degen_merge_with_offset(motifs, offset=1):\n",
    "    motifs = [\n",
    "        \"N\"*i + m + \"N\"*(len(motifs)-i-1)\n",
    "        for i, m in enumerate(motifs)\n",
    "    ]    \n",
    "    return motifs[0][0] + degen_merge(motifs)[1:-1] + motifs[-1][-1]\n",
    "\n",
    "def get_merge_type(motifs : pd.Series, offset=1):\n",
    "    \"\"\"\n",
    "    >>> get_merge_type(pd.Series([\"AAA\", \"AAB\", \"ABA\"]))\n",
    "    perfect\n",
    "    >>> get_merge_type(pd.Series([\"AAA\", \"AAB\", \"MBA\"]))\n",
    "    degen\n",
    "    >>> get_merge_type(pd.Series([\"SWGCAGCA\", \"WGCAGCAR\"]))\n",
    "    perfect\n",
    "    \n",
    "    \"\"\"\n",
    "    motif = motifs.iloc[0]\n",
    "    output = \"perfect\"\n",
    "    for m in motifs.iloc[1:]:\n",
    "        prev_substring = motif[-(len(m)-offset):]\n",
    "        curr_substring = m[:-offset]\n",
    "        if output == \"perfect\":\n",
    "            if curr_substring != prev_substring:\n",
    "                output = \"degen\"\n",
    "        if output == \"degen\":\n",
    "            if not is_degen_mergable(prev_substring, curr_substring):\n",
    "                # unknown\n",
    "                return \"unknown\"\n",
    "        motif = m\n",
    "    return output\n",
    "\n",
    "def do_merge(motifs : pd.Series, offset=1):\n",
    "    merge_type = get_merge_type(motifs)\n",
    "    if merge_type == \"perfect\":\n",
    "        return motifs.iloc[0] + motifs.iloc[1:].str[-1].str.cat()\n",
    "    elif merge_type == \"degen\":\n",
    "        return degen_merge_with_offset(motifs)\n",
    "    else:\n",
    "        return None"
   ]
  },
  {
   "cell_type": "code",
   "execution_count": null,
   "metadata": {},
   "outputs": [],
   "source": [
    "def merge_motifs(df, n=100_000):\n",
    "    df_mergable = df[df.offset_1].reset_index()\n",
    "    df_mergable.head(n).groupby(\"subgroup\").agg({\n",
    "        'motif': degen_merge_with_offset,\n",
    "    })\n",
    "    return df_mergable"
   ]
  },
  {
   "cell_type": "code",
   "execution_count": null,
   "metadata": {},
   "outputs": [],
   "source": [
    "N = 100_000\n",
    "df_mergable_with_type = df_mergable.head(N).copy().reset_index()\n",
    "df_merge_type = df_mergable_with_type.head(N).groupby(by=\"subgroup\").agg({\n",
    "    'motif': get_merge_type\n",
    "})\n",
    "df_mergable_with_type = df_mergable_with_type.join(\n",
    "    df_merge_type.rename(columns={\"motif\": \"merge_type\"}),\n",
    "    on=\"subgroup\",\n",
    "    how=\"inner\",\n",
    ")\n",
    "df_mergable_with_type"
   ]
  },
  {
   "cell_type": "code",
   "execution_count": null,
   "metadata": {},
   "outputs": [],
   "source": [
    "def get_counts_and_percentage(df):\n",
    "    return pd.concat([\n",
    "        df.value_counts(), \n",
    "        df.value_counts(normalize=True) * 100,\n",
    "    ],axis=1, keys=('counts','percentage'))"
   ]
  },
  {
   "cell_type": "code",
   "execution_count": null,
   "metadata": {},
   "outputs": [],
   "source": [
    "get_counts_and_percentage(df_mergable_with_type[\"merge_type\"])"
   ]
  },
  {
   "cell_type": "code",
   "execution_count": null,
   "metadata": {},
   "outputs": [],
   "source": [
    "df_merged_motifs = df_merged.groupby(\"motif\").agg(\n",
    "    {\n",
    "        'motif': 'size',\n",
    "    }\n",
    "    ).rename(columns={'motif': 'count'}).sort_values('count', ascending=False).reset_index()\n",
    "df_merged_motifs"
   ]
  },
  {
   "cell_type": "markdown",
   "metadata": {},
   "source": [
    "## Compare motifs"
   ]
  },
  {
   "cell_type": "code",
   "execution_count": null,
   "metadata": {},
   "outputs": [],
   "source": [
    "def load_jaspar(location=\"jaspar\"):\n",
    "    jaspar_motifs = []\n",
    "    for location in Path(\"jaspar\").iterdir():\n",
    "        with open(str(location)) as fh:\n",
    "            for m in motifs.parse(fh, \"jaspar\"):\n",
    "                jaspar_motifs.append(m)\n",
    "    return jaspar_motifs"
   ]
  },
  {
   "cell_type": "code",
   "execution_count": null,
   "metadata": {},
   "outputs": [],
   "source": [
    "jaspar_motifs = load_jaspar(\"jaspar\")\n",
    "len(jaspar_motifs)"
   ]
  },
  {
   "cell_type": "code",
   "execution_count": null,
   "metadata": {},
   "outputs": [],
   "source": [
    "df_jaspar = pd.DataFrame([str(m.degenerate_consensus.strip(\"N\")) for m in jaspar_motifs], columns=[\"motif\"])\n",
    "df_jaspar[\"motif_length\"] = df_jaspar[\"motif\"].apply(len)\n",
    "df_jaspar"
   ]
  },
  {
   "cell_type": "code",
   "execution_count": null,
   "metadata": {},
   "outputs": [],
   "source": [
    "df_jaspar.motif_length.value_counts().sort_index().plot.bar()"
   ]
  },
  {
   "cell_type": "code",
   "execution_count": null,
   "metadata": {},
   "outputs": [],
   "source": [
    "df_jaspar_8 = df_jaspar[df_jaspar.motif_length == 8]"
   ]
  },
  {
   "cell_type": "code",
   "execution_count": null,
   "metadata": {},
   "outputs": [],
   "source": [
    "len(df_jaspar_8)"
   ]
  },
  {
   "cell_type": "code",
   "execution_count": null,
   "metadata": {},
   "outputs": [],
   "source": [
    "matched_motifs = df_motifs.motif.str.contains(df_jaspar.motif.str.cat(sep=\"|\"), regex=True)\n",
    "matched_motifs.mean()"
   ]
  },
  {
   "cell_type": "code",
   "execution_count": null,
   "metadata": {},
   "outputs": [],
   "source": [
    "def motif_to_regex(m):\n",
    "    output = []\n",
    "    for c in m:\n",
    "        poss = ambiguous_dna_list(c)\n",
    "        if len(poss) == 1:\n",
    "            output.append(poss[0])\n",
    "        else:\n",
    "            output.append(f\"[{''.join(poss)}]\")\n",
    "    return \"\".join(output)"
   ]
  },
  {
   "cell_type": "code",
   "execution_count": null,
   "metadata": {},
   "outputs": [],
   "source": [
    "aligner = Align.PairwiseAligner()\n",
    "aligner.substitution_matrix = Align.substitution_matrices.load(\"NUC.4.4\")\n",
    "aligner.mode = 'global'\n",
    "aligner.target_left_extend_gap_score = -2.5\n",
    "aligner.target_right_extend_gap_score = -2.5\n",
    "aligner.query_left_extend_gap_score = -2.5\n",
    "aligner.query_right_extend_gap_score = -2.5\n",
    "aligner.target_left_open_gap_score = -2.5\n",
    "aligner.target_right_open_gap_score = -2.5\n",
    "aligner.query_left_open_gap_score = -2.5\n",
    "aligner.query_right_open_gap_score = -2.5\n",
    "aligner.query_internal_open_gap_score = -2.5\n",
    "aligner.query_internal_extend_gap_score = -2.5\n",
    "aligner.target_internal_open_gap_score = -2.5\n",
    "aligner.target_internal_extend_gap_score = -2.5\n",
    "aligner.open_gap_score = -2.5\n",
    "aligner.extend_gap_score = -2.5"
   ]
  },
  {
   "cell_type": "code",
   "execution_count": null,
   "metadata": {},
   "outputs": [],
   "source": [
    "def score(seq, motif, max_score=5):\n",
    "    return aligner.score(seq, motif) / (max_score * len(motif))\n",
    "\n",
    "def get_best_motif(seq):\n",
    "    jaspar_scores = df_jaspar.motif.apply(lambda m: score(seq, m))\n",
    "#     adjusted_scores = jaspar_scores * df_jaspar.motif_length\n",
    "    i = np.argmax(jaspar_scores)\n",
    "    return pd.Series({\n",
    "        \"match_score\": jaspar_scores[i],\n",
    "        \"jaspar_motif\": df_jaspar.motif[i],\n",
    "        \"motif\": seq,\n",
    "    })"
   ]
  },
  {
   "cell_type": "code",
   "execution_count": null,
   "metadata": {},
   "outputs": [],
   "source": [
    "aligner.score(\"AAA\", \"ANA\")"
   ]
  },
  {
   "cell_type": "code",
   "execution_count": null,
   "metadata": {},
   "outputs": [],
   "source": [
    "score(\"AAABCAAA\", \"A\")"
   ]
  },
  {
   "cell_type": "code",
   "execution_count": null,
   "metadata": {},
   "outputs": [],
   "source": [
    "get_best_motif(\"AAAAGAAABA\")"
   ]
  },
  {
   "cell_type": "code",
   "execution_count": null,
   "metadata": {},
   "outputs": [],
   "source": [
    "score(\"AABA\", \"AAMN\")"
   ]
  },
  {
   "cell_type": "code",
   "execution_count": null,
   "metadata": {},
   "outputs": [],
   "source": []
  },
  {
   "cell_type": "code",
   "execution_count": null,
   "metadata": {},
   "outputs": [],
   "source": [
    "from Bio.Align import substitution_matrices "
   ]
  },
  {
   "cell_type": "markdown",
   "metadata": {},
   "source": [
    "## Compare motifs after merge"
   ]
  },
  {
   "cell_type": "code",
   "execution_count": null,
   "metadata": {},
   "outputs": [],
   "source": [
    "df_merged_motifs = df_merged_motifs.motif.apply(get_best_motif)\n",
    "df_merged_motifs"
   ]
  },
  {
   "cell_type": "code",
   "execution_count": null,
   "metadata": {},
   "outputs": [],
   "source": [
    "df_merged_motifs"
   ]
  },
  {
   "cell_type": "code",
   "execution_count": null,
   "metadata": {},
   "outputs": [],
   "source": [
    "get_unique_motifs(df_merged_motifs)"
   ]
  },
  {
   "cell_type": "code",
   "execution_count": null,
   "metadata": {},
   "outputs": [],
   "source": [
    "plot_jaspar_matches(df_85)"
   ]
  },
  {
   "cell_type": "code",
   "execution_count": null,
   "metadata": {},
   "outputs": [],
   "source": [
    "plot_jaspar_matches(df_90)"
   ]
  },
  {
   "cell_type": "code",
   "execution_count": null,
   "metadata": {},
   "outputs": [],
   "source": [
    "plot_jaspar_matches(df_85, cumulative=True)"
   ]
  },
  {
   "cell_type": "code",
   "execution_count": null,
   "metadata": {},
   "outputs": [],
   "source": [
    "plot_jaspar_matches(df_90, cumulative=True)"
   ]
  },
  {
   "cell_type": "code",
   "execution_count": null,
   "metadata": {},
   "outputs": [],
   "source": [
    "deg"
   ]
  },
  {
   "cell_type": "code",
   "execution_count": null,
   "metadata": {},
   "outputs": [],
   "source": [
    "plot_unique_motifs(df_merged_motifs)"
   ]
  },
  {
   "cell_type": "code",
   "execution_count": null,
   "metadata": {},
   "outputs": [],
   "source": [
    "def plot_unique_motifs(df):\n",
    "    df_unique = get_unique_motifs(df)\n",
    "    return df_unique.motif.apply(get_best_motif).match_score.plot.hist(logy=True, bins=30)"
   ]
  },
  {
   "cell_type": "code",
   "execution_count": null,
   "metadata": {},
   "outputs": [],
   "source": [
    "def get_jaspar_matches(df):\n",
    "    df = get_unique_motifs(df).motif.apply(get_best_motif)\n",
    "    df = df.sort_values(by=\"match_score\", ascending=False)\n",
    "    return df"
   ]
  },
  {
   "cell_type": "code",
   "execution_count": null,
   "metadata": {},
   "outputs": [],
   "source": [
    "def plot_jaspar_matches(df, agg=\"max\", **kwargs):\n",
    "    return get_jaspar_matches(df).groupby(\"jaspar_motif\").agg({'match_score': agg}).hist(**kwargs)"
   ]
  },
  {
   "cell_type": "code",
   "execution_count": null,
   "metadata": {},
   "outputs": [],
   "source": [
    "plot_unique_motifs(df_90)"
   ]
  },
  {
   "cell_type": "code",
   "execution_count": null,
   "metadata": {},
   "outputs": [],
   "source": [
    "plot_unique_motifs(df_85)"
   ]
  },
  {
   "cell_type": "code",
   "execution_count": null,
   "metadata": {},
   "outputs": [],
   "source": [
    "df_90_jaspar = get_jaspar_matches(df_90)\n",
    "df_90_jaspar                      "
   ]
  },
  {
   "cell_type": "code",
   "execution_count": null,
   "metadata": {},
   "outputs": [],
   "source": [
    "df_90_jaspar."
   ]
  },
  {
   "cell_type": "code",
   "execution_count": null,
   "metadata": {},
   "outputs": [],
   "source": [
    "df_merged_motifs.sort_values(by=\"match_score\", ascending=False)[:100]"
   ]
  },
  {
   "cell_type": "code",
   "execution_count": null,
   "metadata": {},
   "outputs": [],
   "source": [
    "df_merged_motifs.sort_values(by=\"match_score\", ascending=False)[:100]"
   ]
  },
  {
   "cell_type": "code",
   "execution_count": null,
   "metadata": {},
   "outputs": [],
   "source": [
    "df_merged_motifs.sort_values(by=\"match_score\", ascending=False)[-100:]"
   ]
  },
  {
   "cell_type": "code",
   "execution_count": null,
   "metadata": {},
   "outputs": [],
   "source": [
    "df_motifs.motif.apply(get_best_motif).sort_values(by=\"match_score\", ascending=False)[:100]"
   ]
  },
  {
   "cell_type": "markdown",
   "metadata": {},
   "source": [
    "## Lookup motif"
   ]
  },
  {
   "cell_type": "code",
   "execution_count": null,
   "metadata": {},
   "outputs": [],
   "source": [
    "def get_motif_name(motif):\n",
    "    for location in Path(\"jaspar\").iterdir():\n",
    "        with open(str(location)) as fh:\n",
    "            for m in motifs.parse(fh, \"jaspar\"):\n",
    "                if m.degenerate_consensus == motif:\n",
    "                    print(location)"
   ]
  },
  {
   "cell_type": "code",
   "execution_count": null,
   "metadata": {},
   "outputs": [],
   "source": [
    "get_motif_name(\"GCGCCGCC\")"
   ]
  },
  {
   "cell_type": "markdown",
   "metadata": {},
   "source": [
    "- [Jaspar entry](http://jaspar.genereg.net/matrix/MA0975.1/)\n",
    "- CRF2 (term in [STRING](https://string-db.org/network/3702.AT4G23750.1))\n",
    "- class: AP2/ERF domain\n",
    "- stress response\n",
    "- [chr1A:174,364-174,422](https://bioinformatics.psb.ugent.be/plaza/versions/plaza_v4_5_monocots/igv/show_region/tae)\n",
    "- 44 motifs"
   ]
  }
 ],
 "metadata": {
  "kernelspec": {
   "display_name": "Python [conda env:root] *",
   "language": "python",
   "name": "conda-root-py"
  },
  "language_info": {
   "codemirror_mode": {
    "name": "ipython",
    "version": 3
   },
   "file_extension": ".py",
   "mimetype": "text/x-python",
   "name": "python",
   "nbconvert_exporter": "python",
   "pygments_lexer": "ipython3",
   "version": "3.8.5"
  }
 },
 "nbformat": 4,
 "nbformat_minor": 4
}
