{
 "cells": [
  {
   "cell_type": "code",
   "execution_count": 17,
   "metadata": {},
   "outputs": [],
   "source": [
    "import pandas as pd\n",
    "import numpy as np\n",
    "import matplotlib.pyplot as plt\n",
    "import seaborn as sns\n",
    "from pathlib import Path\n",
    "from Bio import motifs\n",
    "from Bio import Align"
   ]
  },
  {
   "cell_type": "code",
   "execution_count": 2,
   "metadata": {},
   "outputs": [],
   "source": [
    "bls_thresholds = [0.07, 0.13, 0.41, 0.54, 0.95]\n",
    "bls_threshold_names = [\"07\", \"13\", \"41\", \"54\", \"95\"]\n",
    "# count number for BLS threshold\n",
    "bls_count_names = [f\"C{x}\" for x in bls_threshold_names]\n",
    "# confidence score for BLS threshold\n",
    "bls_t_names = [f\"T{x}\" for x in bls_threshold_names]"
   ]
  },
  {
   "cell_type": "code",
   "execution_count": 3,
   "metadata": {},
   "outputs": [
    {
     "data": {
      "text/html": [
       "<div>\n",
       "<style scoped>\n",
       "    .dataframe tbody tr th:only-of-type {\n",
       "        vertical-align: middle;\n",
       "    }\n",
       "\n",
       "    .dataframe tbody tr th {\n",
       "        vertical-align: top;\n",
       "    }\n",
       "\n",
       "    .dataframe thead th {\n",
       "        text-align: right;\n",
       "    }\n",
       "</style>\n",
       "<table border=\"1\" class=\"dataframe\">\n",
       "  <thead>\n",
       "    <tr style=\"text-align: right;\">\n",
       "      <th></th>\n",
       "      <th>motif</th>\n",
       "      <th>C07</th>\n",
       "      <th>C13</th>\n",
       "      <th>C41</th>\n",
       "      <th>C54</th>\n",
       "      <th>C95</th>\n",
       "      <th>T07</th>\n",
       "      <th>T13</th>\n",
       "      <th>T41</th>\n",
       "      <th>T54</th>\n",
       "      <th>T95</th>\n",
       "    </tr>\n",
       "  </thead>\n",
       "  <tbody>\n",
       "    <tr>\n",
       "      <th>0</th>\n",
       "      <td>CCWCCGCC</td>\n",
       "      <td>20038</td>\n",
       "      <td>19747</td>\n",
       "      <td>16155</td>\n",
       "      <td>12544</td>\n",
       "      <td>1393</td>\n",
       "      <td>0.136042</td>\n",
       "      <td>0.183775</td>\n",
       "      <td>0.551842</td>\n",
       "      <td>0.698661</td>\n",
       "      <td>0.857143</td>\n",
       "    </tr>\n",
       "    <tr>\n",
       "      <th>1</th>\n",
       "      <td>GCCWCCCC</td>\n",
       "      <td>18667</td>\n",
       "      <td>17920</td>\n",
       "      <td>10342</td>\n",
       "      <td>6373</td>\n",
       "      <td>410</td>\n",
       "      <td>0.072588</td>\n",
       "      <td>0.100558</td>\n",
       "      <td>0.299942</td>\n",
       "      <td>0.406873</td>\n",
       "      <td>0.514634</td>\n",
       "    </tr>\n",
       "    <tr>\n",
       "      <th>2</th>\n",
       "      <td>CCGCCWCC</td>\n",
       "      <td>20094</td>\n",
       "      <td>19802</td>\n",
       "      <td>16242</td>\n",
       "      <td>12594</td>\n",
       "      <td>1446</td>\n",
       "      <td>0.138449</td>\n",
       "      <td>0.186042</td>\n",
       "      <td>0.554242</td>\n",
       "      <td>0.699857</td>\n",
       "      <td>0.862379</td>\n",
       "    </tr>\n",
       "    <tr>\n",
       "      <th>3</th>\n",
       "      <td>GCCCCWCC</td>\n",
       "      <td>18581</td>\n",
       "      <td>17820</td>\n",
       "      <td>10236</td>\n",
       "      <td>6162</td>\n",
       "      <td>449</td>\n",
       "      <td>0.068296</td>\n",
       "      <td>0.095511</td>\n",
       "      <td>0.292692</td>\n",
       "      <td>0.386563</td>\n",
       "      <td>0.556793</td>\n",
       "    </tr>\n",
       "    <tr>\n",
       "      <th>4</th>\n",
       "      <td>CGCCWCCC</td>\n",
       "      <td>18821</td>\n",
       "      <td>18174</td>\n",
       "      <td>11126</td>\n",
       "      <td>6891</td>\n",
       "      <td>488</td>\n",
       "      <td>0.080176</td>\n",
       "      <td>0.113129</td>\n",
       "      <td>0.349272</td>\n",
       "      <td>0.451458</td>\n",
       "      <td>0.592213</td>\n",
       "    </tr>\n",
       "    <tr>\n",
       "      <th>...</th>\n",
       "      <td>...</td>\n",
       "      <td>...</td>\n",
       "      <td>...</td>\n",
       "      <td>...</td>\n",
       "      <td>...</td>\n",
       "      <td>...</td>\n",
       "      <td>...</td>\n",
       "      <td>...</td>\n",
       "      <td>...</td>\n",
       "      <td>...</td>\n",
       "      <td>...</td>\n",
       "    </tr>\n",
       "    <tr>\n",
       "      <th>1612744</th>\n",
       "      <td>TGCANKGS</td>\n",
       "      <td>21624</td>\n",
       "      <td>21586</td>\n",
       "      <td>21455</td>\n",
       "      <td>21284</td>\n",
       "      <td>14979</td>\n",
       "      <td>0.014336</td>\n",
       "      <td>0.017141</td>\n",
       "      <td>0.035190</td>\n",
       "      <td>0.067140</td>\n",
       "      <td>0.520529</td>\n",
       "    </tr>\n",
       "    <tr>\n",
       "      <th>1612745</th>\n",
       "      <td>KGSATGCN</td>\n",
       "      <td>21607</td>\n",
       "      <td>21569</td>\n",
       "      <td>21415</td>\n",
       "      <td>21181</td>\n",
       "      <td>14365</td>\n",
       "      <td>0.013560</td>\n",
       "      <td>0.016366</td>\n",
       "      <td>0.033388</td>\n",
       "      <td>0.062603</td>\n",
       "      <td>0.500035</td>\n",
       "    </tr>\n",
       "    <tr>\n",
       "      <th>1612746</th>\n",
       "      <td>TGSAGCNK</td>\n",
       "      <td>21626</td>\n",
       "      <td>21591</td>\n",
       "      <td>21480</td>\n",
       "      <td>21324</td>\n",
       "      <td>15494</td>\n",
       "      <td>0.014427</td>\n",
       "      <td>0.017368</td>\n",
       "      <td>0.036313</td>\n",
       "      <td>0.068890</td>\n",
       "      <td>0.536466</td>\n",
       "    </tr>\n",
       "    <tr>\n",
       "      <th>1612747</th>\n",
       "      <td>CATGGNKS</td>\n",
       "      <td>21628</td>\n",
       "      <td>21590</td>\n",
       "      <td>21438</td>\n",
       "      <td>21257</td>\n",
       "      <td>14424</td>\n",
       "      <td>0.014518</td>\n",
       "      <td>0.017323</td>\n",
       "      <td>0.034425</td>\n",
       "      <td>0.065955</td>\n",
       "      <td>0.502080</td>\n",
       "    </tr>\n",
       "    <tr>\n",
       "      <th>1612748</th>\n",
       "      <td>GSNTGCAK</td>\n",
       "      <td>21633</td>\n",
       "      <td>21599</td>\n",
       "      <td>21477</td>\n",
       "      <td>21308</td>\n",
       "      <td>15526</td>\n",
       "      <td>0.014746</td>\n",
       "      <td>0.017732</td>\n",
       "      <td>0.036178</td>\n",
       "      <td>0.068190</td>\n",
       "      <td>0.537421</td>\n",
       "    </tr>\n",
       "  </tbody>\n",
       "</table>\n",
       "<p>1612749 rows × 11 columns</p>\n",
       "</div>"
      ],
      "text/plain": [
       "            motif    C07    C13    C41    C54    C95       T07       T13  \\\n",
       "0        CCWCCGCC  20038  19747  16155  12544   1393  0.136042  0.183775   \n",
       "1        GCCWCCCC  18667  17920  10342   6373    410  0.072588  0.100558   \n",
       "2        CCGCCWCC  20094  19802  16242  12594   1446  0.138449  0.186042   \n",
       "3        GCCCCWCC  18581  17820  10236   6162    449  0.068296  0.095511   \n",
       "4        CGCCWCCC  18821  18174  11126   6891    488  0.080176  0.113129   \n",
       "...           ...    ...    ...    ...    ...    ...       ...       ...   \n",
       "1612744  TGCANKGS  21624  21586  21455  21284  14979  0.014336  0.017141   \n",
       "1612745  KGSATGCN  21607  21569  21415  21181  14365  0.013560  0.016366   \n",
       "1612746  TGSAGCNK  21626  21591  21480  21324  15494  0.014427  0.017368   \n",
       "1612747  CATGGNKS  21628  21590  21438  21257  14424  0.014518  0.017323   \n",
       "1612748  GSNTGCAK  21633  21599  21477  21308  15526  0.014746  0.017732   \n",
       "\n",
       "              T41       T54       T95  \n",
       "0        0.551842  0.698661  0.857143  \n",
       "1        0.299942  0.406873  0.514634  \n",
       "2        0.554242  0.699857  0.862379  \n",
       "3        0.292692  0.386563  0.556793  \n",
       "4        0.349272  0.451458  0.592213  \n",
       "...           ...       ...       ...  \n",
       "1612744  0.035190  0.067140  0.520529  \n",
       "1612745  0.033388  0.062603  0.500035  \n",
       "1612746  0.036313  0.068890  0.536466  \n",
       "1612747  0.034425  0.065955  0.502080  \n",
       "1612748  0.036178  0.068190  0.537421  \n",
       "\n",
       "[1612749 rows x 11 columns]"
      ]
     },
     "execution_count": 3,
     "metadata": {},
     "output_type": "execute_result"
    }
   ],
   "source": [
    "df = pd.read_csv(\"wheat_all_len8_degen3_alpha3.txt\", sep=\"\\t\", header=None, names=[\n",
    "    \"motif\",\n",
    "    *bls_count_names,\n",
    "    *bls_t_names\n",
    "], index_col=False)\n",
    "df"
   ]
  },
  {
   "cell_type": "code",
   "execution_count": 4,
   "metadata": {},
   "outputs": [
    {
     "data": {
      "text/plain": [
       "motif    0\n",
       "C07      0\n",
       "C13      0\n",
       "C41      0\n",
       "C54      0\n",
       "C95      0\n",
       "T07      0\n",
       "T13      0\n",
       "T41      0\n",
       "T54      0\n",
       "T95      0\n",
       "dtype: int64"
      ]
     },
     "execution_count": 4,
     "metadata": {},
     "output_type": "execute_result"
    }
   ],
   "source": [
    "df.isna().sum()"
   ]
  },
  {
   "cell_type": "code",
   "execution_count": 4,
   "metadata": {},
   "outputs": [],
   "source": [
    "score_dic = {\n",
    "    \"A\": 1,\n",
    "    \"T\": 1,\n",
    "    \"C\": 1,\n",
    "    \"G\": 1,\n",
    "    \"R\": 2,\n",
    "    \"Y\": 2,\n",
    "    \"S\": 2,\n",
    "    \"W\": 2,\n",
    "    \"K\": 2,\n",
    "    \"M\": 2,\n",
    "    \"B\": 3,\n",
    "    \"D\": 3,\n",
    "    \"H\": 3,\n",
    "    \"V\": 3,\n",
    "    \"N\": 4,\n",
    "}\n",
    "\n",
    "def degen_score(s):\n",
    "    output = 1\n",
    "    for c in s:\n",
    "        output *= score_dic[c]\n",
    "    return output"
   ]
  },
  {
   "cell_type": "code",
   "execution_count": 5,
   "metadata": {},
   "outputs": [
    {
     "data": {
      "text/plain": [
       "[1, 4, 6, 65536]"
      ]
     },
     "execution_count": 5,
     "metadata": {},
     "output_type": "execute_result"
    }
   ],
   "source": [
    "[degen_score(s) for s in [\"AAA\", \"AAN\", \"RTH\", \"N\"*8]]"
   ]
  },
  {
   "cell_type": "code",
   "execution_count": 6,
   "metadata": {},
   "outputs": [
    {
     "data": {
      "text/html": [
       "<div>\n",
       "<style scoped>\n",
       "    .dataframe tbody tr th:only-of-type {\n",
       "        vertical-align: middle;\n",
       "    }\n",
       "\n",
       "    .dataframe tbody tr th {\n",
       "        vertical-align: top;\n",
       "    }\n",
       "\n",
       "    .dataframe thead th {\n",
       "        text-align: right;\n",
       "    }\n",
       "</style>\n",
       "<table border=\"1\" class=\"dataframe\">\n",
       "  <thead>\n",
       "    <tr style=\"text-align: right;\">\n",
       "      <th></th>\n",
       "      <th>motif</th>\n",
       "      <th>C07</th>\n",
       "      <th>C13</th>\n",
       "      <th>C41</th>\n",
       "      <th>C54</th>\n",
       "      <th>C95</th>\n",
       "      <th>T07</th>\n",
       "      <th>T13</th>\n",
       "      <th>T41</th>\n",
       "      <th>T54</th>\n",
       "      <th>T95</th>\n",
       "      <th>degen</th>\n",
       "    </tr>\n",
       "  </thead>\n",
       "  <tbody>\n",
       "    <tr>\n",
       "      <th>0</th>\n",
       "      <td>CCWCCGCC</td>\n",
       "      <td>20038</td>\n",
       "      <td>19747</td>\n",
       "      <td>16155</td>\n",
       "      <td>12544</td>\n",
       "      <td>1393</td>\n",
       "      <td>0.136042</td>\n",
       "      <td>0.183775</td>\n",
       "      <td>0.551842</td>\n",
       "      <td>0.698661</td>\n",
       "      <td>0.857143</td>\n",
       "      <td>2</td>\n",
       "    </tr>\n",
       "    <tr>\n",
       "      <th>1</th>\n",
       "      <td>GCCWCCCC</td>\n",
       "      <td>18667</td>\n",
       "      <td>17920</td>\n",
       "      <td>10342</td>\n",
       "      <td>6373</td>\n",
       "      <td>410</td>\n",
       "      <td>0.072588</td>\n",
       "      <td>0.100558</td>\n",
       "      <td>0.299942</td>\n",
       "      <td>0.406873</td>\n",
       "      <td>0.514634</td>\n",
       "      <td>2</td>\n",
       "    </tr>\n",
       "    <tr>\n",
       "      <th>2</th>\n",
       "      <td>CCGCCWCC</td>\n",
       "      <td>20094</td>\n",
       "      <td>19802</td>\n",
       "      <td>16242</td>\n",
       "      <td>12594</td>\n",
       "      <td>1446</td>\n",
       "      <td>0.138449</td>\n",
       "      <td>0.186042</td>\n",
       "      <td>0.554242</td>\n",
       "      <td>0.699857</td>\n",
       "      <td>0.862379</td>\n",
       "      <td>2</td>\n",
       "    </tr>\n",
       "    <tr>\n",
       "      <th>3</th>\n",
       "      <td>GCCCCWCC</td>\n",
       "      <td>18581</td>\n",
       "      <td>17820</td>\n",
       "      <td>10236</td>\n",
       "      <td>6162</td>\n",
       "      <td>449</td>\n",
       "      <td>0.068296</td>\n",
       "      <td>0.095511</td>\n",
       "      <td>0.292692</td>\n",
       "      <td>0.386563</td>\n",
       "      <td>0.556793</td>\n",
       "      <td>2</td>\n",
       "    </tr>\n",
       "    <tr>\n",
       "      <th>4</th>\n",
       "      <td>CGCCWCCC</td>\n",
       "      <td>18821</td>\n",
       "      <td>18174</td>\n",
       "      <td>11126</td>\n",
       "      <td>6891</td>\n",
       "      <td>488</td>\n",
       "      <td>0.080176</td>\n",
       "      <td>0.113129</td>\n",
       "      <td>0.349272</td>\n",
       "      <td>0.451458</td>\n",
       "      <td>0.592213</td>\n",
       "      <td>2</td>\n",
       "    </tr>\n",
       "    <tr>\n",
       "      <th>...</th>\n",
       "      <td>...</td>\n",
       "      <td>...</td>\n",
       "      <td>...</td>\n",
       "      <td>...</td>\n",
       "      <td>...</td>\n",
       "      <td>...</td>\n",
       "      <td>...</td>\n",
       "      <td>...</td>\n",
       "      <td>...</td>\n",
       "      <td>...</td>\n",
       "      <td>...</td>\n",
       "      <td>...</td>\n",
       "    </tr>\n",
       "    <tr>\n",
       "      <th>1612744</th>\n",
       "      <td>TGCANKGS</td>\n",
       "      <td>21624</td>\n",
       "      <td>21586</td>\n",
       "      <td>21455</td>\n",
       "      <td>21284</td>\n",
       "      <td>14979</td>\n",
       "      <td>0.014336</td>\n",
       "      <td>0.017141</td>\n",
       "      <td>0.035190</td>\n",
       "      <td>0.067140</td>\n",
       "      <td>0.520529</td>\n",
       "      <td>16</td>\n",
       "    </tr>\n",
       "    <tr>\n",
       "      <th>1612745</th>\n",
       "      <td>KGSATGCN</td>\n",
       "      <td>21607</td>\n",
       "      <td>21569</td>\n",
       "      <td>21415</td>\n",
       "      <td>21181</td>\n",
       "      <td>14365</td>\n",
       "      <td>0.013560</td>\n",
       "      <td>0.016366</td>\n",
       "      <td>0.033388</td>\n",
       "      <td>0.062603</td>\n",
       "      <td>0.500035</td>\n",
       "      <td>16</td>\n",
       "    </tr>\n",
       "    <tr>\n",
       "      <th>1612746</th>\n",
       "      <td>TGSAGCNK</td>\n",
       "      <td>21626</td>\n",
       "      <td>21591</td>\n",
       "      <td>21480</td>\n",
       "      <td>21324</td>\n",
       "      <td>15494</td>\n",
       "      <td>0.014427</td>\n",
       "      <td>0.017368</td>\n",
       "      <td>0.036313</td>\n",
       "      <td>0.068890</td>\n",
       "      <td>0.536466</td>\n",
       "      <td>16</td>\n",
       "    </tr>\n",
       "    <tr>\n",
       "      <th>1612747</th>\n",
       "      <td>CATGGNKS</td>\n",
       "      <td>21628</td>\n",
       "      <td>21590</td>\n",
       "      <td>21438</td>\n",
       "      <td>21257</td>\n",
       "      <td>14424</td>\n",
       "      <td>0.014518</td>\n",
       "      <td>0.017323</td>\n",
       "      <td>0.034425</td>\n",
       "      <td>0.065955</td>\n",
       "      <td>0.502080</td>\n",
       "      <td>16</td>\n",
       "    </tr>\n",
       "    <tr>\n",
       "      <th>1612748</th>\n",
       "      <td>GSNTGCAK</td>\n",
       "      <td>21633</td>\n",
       "      <td>21599</td>\n",
       "      <td>21477</td>\n",
       "      <td>21308</td>\n",
       "      <td>15526</td>\n",
       "      <td>0.014746</td>\n",
       "      <td>0.017732</td>\n",
       "      <td>0.036178</td>\n",
       "      <td>0.068190</td>\n",
       "      <td>0.537421</td>\n",
       "      <td>16</td>\n",
       "    </tr>\n",
       "  </tbody>\n",
       "</table>\n",
       "<p>1612749 rows × 12 columns</p>\n",
       "</div>"
      ],
      "text/plain": [
       "            motif    C07    C13    C41    C54    C95       T07       T13  \\\n",
       "0        CCWCCGCC  20038  19747  16155  12544   1393  0.136042  0.183775   \n",
       "1        GCCWCCCC  18667  17920  10342   6373    410  0.072588  0.100558   \n",
       "2        CCGCCWCC  20094  19802  16242  12594   1446  0.138449  0.186042   \n",
       "3        GCCCCWCC  18581  17820  10236   6162    449  0.068296  0.095511   \n",
       "4        CGCCWCCC  18821  18174  11126   6891    488  0.080176  0.113129   \n",
       "...           ...    ...    ...    ...    ...    ...       ...       ...   \n",
       "1612744  TGCANKGS  21624  21586  21455  21284  14979  0.014336  0.017141   \n",
       "1612745  KGSATGCN  21607  21569  21415  21181  14365  0.013560  0.016366   \n",
       "1612746  TGSAGCNK  21626  21591  21480  21324  15494  0.014427  0.017368   \n",
       "1612747  CATGGNKS  21628  21590  21438  21257  14424  0.014518  0.017323   \n",
       "1612748  GSNTGCAK  21633  21599  21477  21308  15526  0.014746  0.017732   \n",
       "\n",
       "              T41       T54       T95  degen  \n",
       "0        0.551842  0.698661  0.857143      2  \n",
       "1        0.299942  0.406873  0.514634      2  \n",
       "2        0.554242  0.699857  0.862379      2  \n",
       "3        0.292692  0.386563  0.556793      2  \n",
       "4        0.349272  0.451458  0.592213      2  \n",
       "...           ...       ...       ...    ...  \n",
       "1612744  0.035190  0.067140  0.520529     16  \n",
       "1612745  0.033388  0.062603  0.500035     16  \n",
       "1612746  0.036313  0.068890  0.536466     16  \n",
       "1612747  0.034425  0.065955  0.502080     16  \n",
       "1612748  0.036178  0.068190  0.537421     16  \n",
       "\n",
       "[1612749 rows x 12 columns]"
      ]
     },
     "execution_count": 6,
     "metadata": {},
     "output_type": "execute_result"
    }
   ],
   "source": [
    "df[\"degen\"] = df.motif.apply(degen_score)\n",
    "df"
   ]
  },
  {
   "cell_type": "code",
   "execution_count": 7,
   "metadata": {},
   "outputs": [
    {
     "data": {
      "text/plain": [
       "64"
      ]
     },
     "execution_count": 7,
     "metadata": {},
     "output_type": "execute_result"
    }
   ],
   "source": [
    "df.degen.max()"
   ]
  },
  {
   "cell_type": "code",
   "execution_count": 9,
   "metadata": {},
   "outputs": [
    {
     "data": {
      "text/plain": [
       "[Text(0.5, 1.0, 'Distribution of confidence scores per BLS threshold'),\n",
       " Text(0.5, 0, 'BLS thresholds'),\n",
       " Text(0, 0.5, 'Confidence scores')]"
      ]
     },
     "execution_count": 9,
     "metadata": {},
     "output_type": "execute_result"
    },
    {
     "data": {
      "image/png": "[encoded data removed]",
      "text/plain": [
       "<Figure size 432x288 with 1 Axes>"
      ]
     },
     "metadata": {
      "needs_background": "light"
     },
     "output_type": "display_data"
    }
   ],
   "source": [
    "fig = sns.violinplot(data=df[bls_t_names].melt(var_name='threshold',  value_name='vals'), x=\"threshold\", y=\"vals\", kind=\"line\")\n",
    "fig.set(title=\"Distribution of confidence scores per BLS threshold\", xlabel=\"BLS thresholds\", ylabel=\"Confidence scores\")"
   ]
  },
  {
   "cell_type": "code",
   "execution_count": 8,
   "metadata": {},
   "outputs": [
    {
     "name": "stderr",
     "output_type": "stream",
     "text": [
      "<ipython-input-8-3c949742b6f2>:4: FutureWarning: The 'lookup' method is deprecated and will beremoved in a future version.You can use DataFrame.melt and DataFrame.locas a substitute.\n",
      "  df.lookup(i.index, i.values),\n"
     ]
    },
    {
     "ename": "ValueError",
     "evalue": "2 columns passed, passed data had 1612749 columns",
     "output_type": "error",
     "traceback": [
      "\u001b[0;31m---------------------------------------------------------------------------\u001b[0m",
      "\u001b[0;31mAssertionError\u001b[0m                            Traceback (most recent call last)",
      "\u001b[0;32m~/miniconda3/envs/motif_comparison/lib/python3.9/site-packages/pandas/core/internals/construction.py\u001b[0m in \u001b[0;36m_list_to_arrays\u001b[0;34m(data, columns, coerce_float, dtype)\u001b[0m\n\u001b[1;32m    567\u001b[0m     \u001b[0;32mtry\u001b[0m\u001b[0;34m:\u001b[0m\u001b[0;34m\u001b[0m\u001b[0;34m\u001b[0m\u001b[0m\n\u001b[0;32m--> 568\u001b[0;31m         \u001b[0mcolumns\u001b[0m \u001b[0;34m=\u001b[0m \u001b[0m_validate_or_indexify_columns\u001b[0m\u001b[0;34m(\u001b[0m\u001b[0mcontent\u001b[0m\u001b[0;34m,\u001b[0m \u001b[0mcolumns\u001b[0m\u001b[0;34m)\u001b[0m\u001b[0;34m\u001b[0m\u001b[0;34m\u001b[0m\u001b[0m\n\u001b[0m\u001b[1;32m    569\u001b[0m         \u001b[0mresult\u001b[0m \u001b[0;34m=\u001b[0m \u001b[0m_convert_object_array\u001b[0m\u001b[0;34m(\u001b[0m\u001b[0mcontent\u001b[0m\u001b[0;34m,\u001b[0m \u001b[0mdtype\u001b[0m\u001b[0;34m=\u001b[0m\u001b[0mdtype\u001b[0m\u001b[0;34m,\u001b[0m \u001b[0mcoerce_float\u001b[0m\u001b[0;34m=\u001b[0m\u001b[0mcoerce_float\u001b[0m\u001b[0;34m)\u001b[0m\u001b[0;34m\u001b[0m\u001b[0;34m\u001b[0m\u001b[0m\n",
      "\u001b[0;32m~/miniconda3/envs/motif_comparison/lib/python3.9/site-packages/pandas/core/internals/construction.py\u001b[0m in \u001b[0;36m_validate_or_indexify_columns\u001b[0;34m(content, columns)\u001b[0m\n\u001b[1;32m    691\u001b[0m             \u001b[0;31m# caller's responsibility to check for this...\u001b[0m\u001b[0;34m\u001b[0m\u001b[0;34m\u001b[0m\u001b[0;34m\u001b[0m\u001b[0m\n\u001b[0;32m--> 692\u001b[0;31m             raise AssertionError(\n\u001b[0m\u001b[1;32m    693\u001b[0m                 \u001b[0;34mf\"{len(columns)} columns passed, passed data had \"\u001b[0m\u001b[0;34m\u001b[0m\u001b[0;34m\u001b[0m\u001b[0m\n",
      "\u001b[0;31mAssertionError\u001b[0m: 2 columns passed, passed data had 1612749 columns",
      "\nThe above exception was the direct cause of the following exception:\n",
      "\u001b[0;31mValueError\u001b[0m                                Traceback (most recent call last)",
      "\u001b[0;32m<ipython-input-8-3c949742b6f2>\u001b[0m in \u001b[0;36m<module>\u001b[0;34m\u001b[0m\n\u001b[1;32m      1\u001b[0m \u001b[0mi\u001b[0m \u001b[0;34m=\u001b[0m \u001b[0mdf\u001b[0m\u001b[0;34m[\u001b[0m\u001b[0mbls_t_names\u001b[0m\u001b[0;34m]\u001b[0m\u001b[0;34m.\u001b[0m\u001b[0midxmax\u001b[0m\u001b[0;34m(\u001b[0m\u001b[0maxis\u001b[0m\u001b[0;34m=\u001b[0m\u001b[0;36m1\u001b[0m\u001b[0;34m)\u001b[0m\u001b[0;34m\u001b[0m\u001b[0;34m\u001b[0m\u001b[0m\n\u001b[0;32m----> 2\u001b[0;31m df_max = pd.DataFrame([\n\u001b[0m\u001b[1;32m      3\u001b[0m     \u001b[0mi\u001b[0m\u001b[0;34m.\u001b[0m\u001b[0mvalues\u001b[0m\u001b[0;34m,\u001b[0m\u001b[0;34m\u001b[0m\u001b[0;34m\u001b[0m\u001b[0m\n\u001b[1;32m      4\u001b[0m     \u001b[0mdf\u001b[0m\u001b[0;34m.\u001b[0m\u001b[0mlookup\u001b[0m\u001b[0;34m(\u001b[0m\u001b[0mi\u001b[0m\u001b[0;34m.\u001b[0m\u001b[0mindex\u001b[0m\u001b[0;34m,\u001b[0m \u001b[0mi\u001b[0m\u001b[0;34m.\u001b[0m\u001b[0mvalues\u001b[0m\u001b[0;34m)\u001b[0m\u001b[0;34m,\u001b[0m\u001b[0;34m\u001b[0m\u001b[0;34m\u001b[0m\u001b[0m\n\u001b[1;32m      5\u001b[0m ], columns = [\"threshold\", \"value\"])\n",
      "\u001b[0;32m~/miniconda3/envs/motif_comparison/lib/python3.9/site-packages/pandas/core/frame.py\u001b[0m in \u001b[0;36m__init__\u001b[0;34m(self, data, index, columns, dtype, copy)\u001b[0m\n\u001b[1;32m    568\u001b[0m                     \u001b[0;32mif\u001b[0m \u001b[0mis_named_tuple\u001b[0m\u001b[0;34m(\u001b[0m\u001b[0mdata\u001b[0m\u001b[0;34m[\u001b[0m\u001b[0;36m0\u001b[0m\u001b[0;34m]\u001b[0m\u001b[0;34m)\u001b[0m \u001b[0;32mand\u001b[0m \u001b[0mcolumns\u001b[0m \u001b[0;32mis\u001b[0m \u001b[0;32mNone\u001b[0m\u001b[0;34m:\u001b[0m\u001b[0;34m\u001b[0m\u001b[0;34m\u001b[0m\u001b[0m\n\u001b[1;32m    569\u001b[0m                         \u001b[0mcolumns\u001b[0m \u001b[0;34m=\u001b[0m \u001b[0mdata\u001b[0m\u001b[0;34m[\u001b[0m\u001b[0;36m0\u001b[0m\u001b[0;34m]\u001b[0m\u001b[0;34m.\u001b[0m\u001b[0m_fields\u001b[0m\u001b[0;34m\u001b[0m\u001b[0;34m\u001b[0m\u001b[0m\n\u001b[0;32m--> 570\u001b[0;31m                     \u001b[0marrays\u001b[0m\u001b[0;34m,\u001b[0m \u001b[0mcolumns\u001b[0m \u001b[0;34m=\u001b[0m \u001b[0mto_arrays\u001b[0m\u001b[0;34m(\u001b[0m\u001b[0mdata\u001b[0m\u001b[0;34m,\u001b[0m \u001b[0mcolumns\u001b[0m\u001b[0;34m,\u001b[0m \u001b[0mdtype\u001b[0m\u001b[0;34m=\u001b[0m\u001b[0mdtype\u001b[0m\u001b[0;34m)\u001b[0m\u001b[0;34m\u001b[0m\u001b[0;34m\u001b[0m\u001b[0m\n\u001b[0m\u001b[1;32m    571\u001b[0m                     \u001b[0mcolumns\u001b[0m \u001b[0;34m=\u001b[0m \u001b[0mensure_index\u001b[0m\u001b[0;34m(\u001b[0m\u001b[0mcolumns\u001b[0m\u001b[0;34m)\u001b[0m\u001b[0;34m\u001b[0m\u001b[0;34m\u001b[0m\u001b[0m\n\u001b[1;32m    572\u001b[0m \u001b[0;34m\u001b[0m\u001b[0m\n",
      "\u001b[0;32m~/miniconda3/envs/motif_comparison/lib/python3.9/site-packages/pandas/core/internals/construction.py\u001b[0m in \u001b[0;36mto_arrays\u001b[0;34m(data, columns, coerce_float, dtype)\u001b[0m\n\u001b[1;32m    550\u001b[0m         \u001b[0;31m# last ditch effort\u001b[0m\u001b[0;34m\u001b[0m\u001b[0;34m\u001b[0m\u001b[0;34m\u001b[0m\u001b[0m\n\u001b[1;32m    551\u001b[0m         \u001b[0mdata\u001b[0m \u001b[0;34m=\u001b[0m \u001b[0;34m[\u001b[0m\u001b[0mtuple\u001b[0m\u001b[0;34m(\u001b[0m\u001b[0mx\u001b[0m\u001b[0;34m)\u001b[0m \u001b[0;32mfor\u001b[0m \u001b[0mx\u001b[0m \u001b[0;32min\u001b[0m \u001b[0mdata\u001b[0m\u001b[0;34m]\u001b[0m\u001b[0;34m\u001b[0m\u001b[0;34m\u001b[0m\u001b[0m\n\u001b[0;32m--> 552\u001b[0;31m         \u001b[0;32mreturn\u001b[0m \u001b[0m_list_to_arrays\u001b[0m\u001b[0;34m(\u001b[0m\u001b[0mdata\u001b[0m\u001b[0;34m,\u001b[0m \u001b[0mcolumns\u001b[0m\u001b[0;34m,\u001b[0m \u001b[0mcoerce_float\u001b[0m\u001b[0;34m=\u001b[0m\u001b[0mcoerce_float\u001b[0m\u001b[0;34m,\u001b[0m \u001b[0mdtype\u001b[0m\u001b[0;34m=\u001b[0m\u001b[0mdtype\u001b[0m\u001b[0;34m)\u001b[0m\u001b[0;34m\u001b[0m\u001b[0;34m\u001b[0m\u001b[0m\n\u001b[0m\u001b[1;32m    553\u001b[0m \u001b[0;34m\u001b[0m\u001b[0m\n\u001b[1;32m    554\u001b[0m \u001b[0;34m\u001b[0m\u001b[0m\n",
      "\u001b[0;32m~/miniconda3/envs/motif_comparison/lib/python3.9/site-packages/pandas/core/internals/construction.py\u001b[0m in \u001b[0;36m_list_to_arrays\u001b[0;34m(data, columns, coerce_float, dtype)\u001b[0m\n\u001b[1;32m    569\u001b[0m         \u001b[0mresult\u001b[0m \u001b[0;34m=\u001b[0m \u001b[0m_convert_object_array\u001b[0m\u001b[0;34m(\u001b[0m\u001b[0mcontent\u001b[0m\u001b[0;34m,\u001b[0m \u001b[0mdtype\u001b[0m\u001b[0;34m=\u001b[0m\u001b[0mdtype\u001b[0m\u001b[0;34m,\u001b[0m \u001b[0mcoerce_float\u001b[0m\u001b[0;34m=\u001b[0m\u001b[0mcoerce_float\u001b[0m\u001b[0;34m)\u001b[0m\u001b[0;34m\u001b[0m\u001b[0;34m\u001b[0m\u001b[0m\n\u001b[1;32m    570\u001b[0m     \u001b[0;32mexcept\u001b[0m \u001b[0mAssertionError\u001b[0m \u001b[0;32mas\u001b[0m \u001b[0me\u001b[0m\u001b[0;34m:\u001b[0m\u001b[0;34m\u001b[0m\u001b[0;34m\u001b[0m\u001b[0m\n\u001b[0;32m--> 571\u001b[0;31m         \u001b[0;32mraise\u001b[0m \u001b[0mValueError\u001b[0m\u001b[0;34m(\u001b[0m\u001b[0me\u001b[0m\u001b[0;34m)\u001b[0m \u001b[0;32mfrom\u001b[0m \u001b[0me\u001b[0m\u001b[0;34m\u001b[0m\u001b[0;34m\u001b[0m\u001b[0m\n\u001b[0m\u001b[1;32m    572\u001b[0m     \u001b[0;32mreturn\u001b[0m \u001b[0mresult\u001b[0m\u001b[0;34m,\u001b[0m \u001b[0mcolumns\u001b[0m\u001b[0;34m\u001b[0m\u001b[0;34m\u001b[0m\u001b[0m\n\u001b[1;32m    573\u001b[0m \u001b[0;34m\u001b[0m\u001b[0m\n",
      "\u001b[0;31mValueError\u001b[0m: 2 columns passed, passed data had 1612749 columns"
     ]
    }
   ],
   "source": [
    "i = df[bls_t_names].idxmax(axis=1)\n",
    "df_max = pd.DataFrame([\n",
    "    i.values,\n",
    "    df.lookup(i.index, i.values),\n",
    "], columns = [\"threshold\", \"value\"])\n",
    "df_max"
   ]
  },
  {
   "cell_type": "code",
   "execution_count": 11,
   "metadata": {},
   "outputs": [
    {
     "name": "stderr",
     "output_type": "stream",
     "text": [
      "<ipython-input-11-f02afa56440f>:3: FutureWarning: The 'lookup' method is deprecated and will beremoved in a future version.You can use DataFrame.melt and DataFrame.locas a substitute.\n",
      "  df_max[\"value\"] = df.lookup(i.index, i.values)\n"
     ]
    },
    {
     "data": {
      "text/html": [
       "<div>\n",
       "<style scoped>\n",
       "    .dataframe tbody tr th:only-of-type {\n",
       "        vertical-align: middle;\n",
       "    }\n",
       "\n",
       "    .dataframe tbody tr th {\n",
       "        vertical-align: top;\n",
       "    }\n",
       "\n",
       "    .dataframe thead th {\n",
       "        text-align: right;\n",
       "    }\n",
       "</style>\n",
       "<table border=\"1\" class=\"dataframe\">\n",
       "  <thead>\n",
       "    <tr style=\"text-align: right;\">\n",
       "      <th></th>\n",
       "      <th>threshold</th>\n",
       "      <th>value</th>\n",
       "    </tr>\n",
       "  </thead>\n",
       "  <tbody>\n",
       "    <tr>\n",
       "      <th>0</th>\n",
       "      <td>T95</td>\n",
       "      <td>0.857143</td>\n",
       "    </tr>\n",
       "    <tr>\n",
       "      <th>1</th>\n",
       "      <td>T95</td>\n",
       "      <td>0.514634</td>\n",
       "    </tr>\n",
       "    <tr>\n",
       "      <th>2</th>\n",
       "      <td>T95</td>\n",
       "      <td>0.862379</td>\n",
       "    </tr>\n",
       "    <tr>\n",
       "      <th>3</th>\n",
       "      <td>T95</td>\n",
       "      <td>0.556793</td>\n",
       "    </tr>\n",
       "    <tr>\n",
       "      <th>4</th>\n",
       "      <td>T95</td>\n",
       "      <td>0.592213</td>\n",
       "    </tr>\n",
       "    <tr>\n",
       "      <th>...</th>\n",
       "      <td>...</td>\n",
       "      <td>...</td>\n",
       "    </tr>\n",
       "    <tr>\n",
       "      <th>1612744</th>\n",
       "      <td>T95</td>\n",
       "      <td>0.520529</td>\n",
       "    </tr>\n",
       "    <tr>\n",
       "      <th>1612745</th>\n",
       "      <td>T95</td>\n",
       "      <td>0.500035</td>\n",
       "    </tr>\n",
       "    <tr>\n",
       "      <th>1612746</th>\n",
       "      <td>T95</td>\n",
       "      <td>0.536466</td>\n",
       "    </tr>\n",
       "    <tr>\n",
       "      <th>1612747</th>\n",
       "      <td>T95</td>\n",
       "      <td>0.502080</td>\n",
       "    </tr>\n",
       "    <tr>\n",
       "      <th>1612748</th>\n",
       "      <td>T95</td>\n",
       "      <td>0.537421</td>\n",
       "    </tr>\n",
       "  </tbody>\n",
       "</table>\n",
       "<p>1612749 rows × 2 columns</p>\n",
       "</div>"
      ],
      "text/plain": [
       "        threshold     value\n",
       "0             T95  0.857143\n",
       "1             T95  0.514634\n",
       "2             T95  0.862379\n",
       "3             T95  0.556793\n",
       "4             T95  0.592213\n",
       "...           ...       ...\n",
       "1612744       T95  0.520529\n",
       "1612745       T95  0.500035\n",
       "1612746       T95  0.536466\n",
       "1612747       T95  0.502080\n",
       "1612748       T95  0.537421\n",
       "\n",
       "[1612749 rows x 2 columns]"
      ]
     },
     "execution_count": 11,
     "metadata": {},
     "output_type": "execute_result"
    }
   ],
   "source": [
    "df_max = pd.DataFrame()\n",
    "df_max[\"threshold\"] = i\n",
    "df_max[\"value\"] = df.lookup(i.index, i.values)\n",
    "df_max"
   ]
  },
  {
   "cell_type": "code",
   "execution_count": 12,
   "metadata": {},
   "outputs": [],
   "source": [
    "df_max = df_max.sort_values(by=\"threshold\")"
   ]
  },
  {
   "cell_type": "code",
   "execution_count": 13,
   "metadata": {},
   "outputs": [
    {
     "data": {
      "text/html": [
       "<div>\n",
       "<style scoped>\n",
       "    .dataframe tbody tr th:only-of-type {\n",
       "        vertical-align: middle;\n",
       "    }\n",
       "\n",
       "    .dataframe tbody tr th {\n",
       "        vertical-align: top;\n",
       "    }\n",
       "\n",
       "    .dataframe thead th {\n",
       "        text-align: right;\n",
       "    }\n",
       "</style>\n",
       "<table border=\"1\" class=\"dataframe\">\n",
       "  <thead>\n",
       "    <tr style=\"text-align: right;\">\n",
       "      <th></th>\n",
       "      <th>value</th>\n",
       "    </tr>\n",
       "    <tr>\n",
       "      <th>threshold</th>\n",
       "      <th></th>\n",
       "    </tr>\n",
       "  </thead>\n",
       "  <tbody>\n",
       "    <tr>\n",
       "      <th>T07</th>\n",
       "      <td>1748</td>\n",
       "    </tr>\n",
       "    <tr>\n",
       "      <th>T13</th>\n",
       "      <td>46</td>\n",
       "    </tr>\n",
       "    <tr>\n",
       "      <th>T41</th>\n",
       "      <td>35</td>\n",
       "    </tr>\n",
       "    <tr>\n",
       "      <th>T54</th>\n",
       "      <td>8100</td>\n",
       "    </tr>\n",
       "    <tr>\n",
       "      <th>T95</th>\n",
       "      <td>1602820</td>\n",
       "    </tr>\n",
       "  </tbody>\n",
       "</table>\n",
       "</div>"
      ],
      "text/plain": [
       "             value\n",
       "threshold         \n",
       "T07           1748\n",
       "T13             46\n",
       "T41             35\n",
       "T54           8100\n",
       "T95        1602820"
      ]
     },
     "execution_count": 13,
     "metadata": {},
     "output_type": "execute_result"
    }
   ],
   "source": [
    "df_max.groupby(\"threshold\").count()"
   ]
  },
  {
   "cell_type": "code",
   "execution_count": 22,
   "metadata": {},
   "outputs": [
    {
     "data": {
      "image/png": "[encoded data removed]",
      "text/plain": [
       "<Figure size 864x576 with 1 Axes>"
      ]
     },
     "metadata": {
      "needs_background": "light"
     },
     "output_type": "display_data"
    }
   ],
   "source": [
    "plt.rcParams.update({'font.size': 18})\n",
    "fig, ax = plt.subplots(figsize=(12, 8))\n",
    "fig = sns.boxplot(data=df_max, x=\"threshold\", y=\"value\", ax=ax)\n",
    "fig.set(title=\"Distribution of motifs for the BLS threshold with the highest confidence score\", xlabel=\"BLS thresholds\", ylabel=\"Confidence scores\")\n",
    "plt.savefig(\"conf.svg\")"
   ]
  },
  {
   "cell_type": "code",
   "execution_count": 50,
   "metadata": {},
   "outputs": [
    {
     "data": {
      "text/plain": [
       "RangeIndex(start=0, stop=1612749, step=1)"
      ]
     },
     "execution_count": 50,
     "metadata": {},
     "output_type": "execute_result"
    }
   ],
   "source": []
  },
  {
   "cell_type": "code",
   "execution_count": 10,
   "metadata": {},
   "outputs": [
    {
     "data": {
      "text/html": [
       "<div>\n",
       "<style scoped>\n",
       "    .dataframe tbody tr th:only-of-type {\n",
       "        vertical-align: middle;\n",
       "    }\n",
       "\n",
       "    .dataframe tbody tr th {\n",
       "        vertical-align: top;\n",
       "    }\n",
       "\n",
       "    .dataframe thead th {\n",
       "        text-align: right;\n",
       "    }\n",
       "</style>\n",
       "<table border=\"1\" class=\"dataframe\">\n",
       "  <thead>\n",
       "    <tr style=\"text-align: right;\">\n",
       "      <th></th>\n",
       "      <th>threshold</th>\n",
       "      <th>vals</th>\n",
       "    </tr>\n",
       "  </thead>\n",
       "  <tbody>\n",
       "    <tr>\n",
       "      <th>0</th>\n",
       "      <td>T07</td>\n",
       "      <td>0.136042</td>\n",
       "    </tr>\n",
       "    <tr>\n",
       "      <th>1</th>\n",
       "      <td>T07</td>\n",
       "      <td>0.072588</td>\n",
       "    </tr>\n",
       "    <tr>\n",
       "      <th>2</th>\n",
       "      <td>T07</td>\n",
       "      <td>0.138449</td>\n",
       "    </tr>\n",
       "    <tr>\n",
       "      <th>3</th>\n",
       "      <td>T07</td>\n",
       "      <td>0.068296</td>\n",
       "    </tr>\n",
       "    <tr>\n",
       "      <th>4</th>\n",
       "      <td>T07</td>\n",
       "      <td>0.080176</td>\n",
       "    </tr>\n",
       "    <tr>\n",
       "      <th>...</th>\n",
       "      <td>...</td>\n",
       "      <td>...</td>\n",
       "    </tr>\n",
       "    <tr>\n",
       "      <th>8063740</th>\n",
       "      <td>T95</td>\n",
       "      <td>0.520529</td>\n",
       "    </tr>\n",
       "    <tr>\n",
       "      <th>8063741</th>\n",
       "      <td>T95</td>\n",
       "      <td>0.500035</td>\n",
       "    </tr>\n",
       "    <tr>\n",
       "      <th>8063742</th>\n",
       "      <td>T95</td>\n",
       "      <td>0.536466</td>\n",
       "    </tr>\n",
       "    <tr>\n",
       "      <th>8063743</th>\n",
       "      <td>T95</td>\n",
       "      <td>0.502080</td>\n",
       "    </tr>\n",
       "    <tr>\n",
       "      <th>8063744</th>\n",
       "      <td>T95</td>\n",
       "      <td>0.537421</td>\n",
       "    </tr>\n",
       "  </tbody>\n",
       "</table>\n",
       "<p>8063745 rows × 2 columns</p>\n",
       "</div>"
      ],
      "text/plain": [
       "        threshold      vals\n",
       "0             T07  0.136042\n",
       "1             T07  0.072588\n",
       "2             T07  0.138449\n",
       "3             T07  0.068296\n",
       "4             T07  0.080176\n",
       "...           ...       ...\n",
       "8063740       T95  0.520529\n",
       "8063741       T95  0.500035\n",
       "8063742       T95  0.536466\n",
       "8063743       T95  0.502080\n",
       "8063744       T95  0.537421\n",
       "\n",
       "[8063745 rows x 2 columns]"
      ]
     },
     "execution_count": 10,
     "metadata": {},
     "output_type": "execute_result"
    }
   ],
   "source": [
    "df[bls_t_names].melt(var_name='threshold',  value_name='vals')"
   ]
  },
  {
   "cell_type": "code",
   "execution_count": 13,
   "metadata": {},
   "outputs": [],
   "source": [
    "df_low = df[(df[bls_t_names] < 0.02).all(axis=1)].copy()\n",
    "df_high = df[df[bls_t_names].max(axis=1) > 0.88].copy()"
   ]
  },
  {
   "cell_type": "code",
   "execution_count": 14,
   "metadata": {},
   "outputs": [
    {
     "data": {
      "text/html": [
       "<div>\n",
       "<style scoped>\n",
       "    .dataframe tbody tr th:only-of-type {\n",
       "        vertical-align: middle;\n",
       "    }\n",
       "\n",
       "    .dataframe tbody tr th {\n",
       "        vertical-align: top;\n",
       "    }\n",
       "\n",
       "    .dataframe thead th {\n",
       "        text-align: right;\n",
       "    }\n",
       "</style>\n",
       "<table border=\"1\" class=\"dataframe\">\n",
       "  <thead>\n",
       "    <tr style=\"text-align: right;\">\n",
       "      <th></th>\n",
       "      <th>motif</th>\n",
       "      <th>C07</th>\n",
       "      <th>C13</th>\n",
       "      <th>C41</th>\n",
       "      <th>C54</th>\n",
       "      <th>C95</th>\n",
       "      <th>T07</th>\n",
       "      <th>T13</th>\n",
       "      <th>T41</th>\n",
       "      <th>T54</th>\n",
       "      <th>T95</th>\n",
       "      <th>degen</th>\n",
       "    </tr>\n",
       "  </thead>\n",
       "  <tbody>\n",
       "    <tr>\n",
       "      <th>5</th>\n",
       "      <td>AMCGMVAG</td>\n",
       "      <td>21095</td>\n",
       "      <td>20960</td>\n",
       "      <td>20205</td>\n",
       "      <td>18961</td>\n",
       "      <td>5416</td>\n",
       "      <td>0.000000</td>\n",
       "      <td>0.000000</td>\n",
       "      <td>0.000000</td>\n",
       "      <td>0.000000</td>\n",
       "      <td>0.000000</td>\n",
       "      <td>12</td>\n",
       "    </tr>\n",
       "    <tr>\n",
       "      <th>818</th>\n",
       "      <td>YTWBGGTG</td>\n",
       "      <td>21497</td>\n",
       "      <td>21428</td>\n",
       "      <td>21169</td>\n",
       "      <td>20691</td>\n",
       "      <td>10815</td>\n",
       "      <td>0.000372</td>\n",
       "      <td>0.000140</td>\n",
       "      <td>0.000803</td>\n",
       "      <td>0.000000</td>\n",
       "      <td>0.000000</td>\n",
       "      <td>12</td>\n",
       "    </tr>\n",
       "    <tr>\n",
       "      <th>819</th>\n",
       "      <td>THAVGRTA</td>\n",
       "      <td>21541</td>\n",
       "      <td>21480</td>\n",
       "      <td>21263</td>\n",
       "      <td>20850</td>\n",
       "      <td>12474</td>\n",
       "      <td>0.000000</td>\n",
       "      <td>0.000000</td>\n",
       "      <td>0.000000</td>\n",
       "      <td>0.000000</td>\n",
       "      <td>0.000000</td>\n",
       "      <td>18</td>\n",
       "    </tr>\n",
       "    <tr>\n",
       "      <th>820</th>\n",
       "      <td>TAVACVNG</td>\n",
       "      <td>21681</td>\n",
       "      <td>21660</td>\n",
       "      <td>21592</td>\n",
       "      <td>21499</td>\n",
       "      <td>17742</td>\n",
       "      <td>0.000000</td>\n",
       "      <td>0.000000</td>\n",
       "      <td>0.000000</td>\n",
       "      <td>0.000000</td>\n",
       "      <td>0.000000</td>\n",
       "      <td>36</td>\n",
       "    </tr>\n",
       "    <tr>\n",
       "      <th>821</th>\n",
       "      <td>ASATTDAS</td>\n",
       "      <td>21516</td>\n",
       "      <td>21454</td>\n",
       "      <td>21232</td>\n",
       "      <td>20841</td>\n",
       "      <td>12101</td>\n",
       "      <td>0.000000</td>\n",
       "      <td>0.000000</td>\n",
       "      <td>0.000000</td>\n",
       "      <td>0.000000</td>\n",
       "      <td>0.000000</td>\n",
       "      <td>12</td>\n",
       "    </tr>\n",
       "    <tr>\n",
       "      <th>...</th>\n",
       "      <td>...</td>\n",
       "      <td>...</td>\n",
       "      <td>...</td>\n",
       "      <td>...</td>\n",
       "      <td>...</td>\n",
       "      <td>...</td>\n",
       "      <td>...</td>\n",
       "      <td>...</td>\n",
       "      <td>...</td>\n",
       "      <td>...</td>\n",
       "      <td>...</td>\n",
       "      <td>...</td>\n",
       "    </tr>\n",
       "    <tr>\n",
       "      <th>1605579</th>\n",
       "      <td>ASGBGACW</td>\n",
       "      <td>20902</td>\n",
       "      <td>20760</td>\n",
       "      <td>19558</td>\n",
       "      <td>17832</td>\n",
       "      <td>4097</td>\n",
       "      <td>0.000000</td>\n",
       "      <td>0.000000</td>\n",
       "      <td>0.000000</td>\n",
       "      <td>0.000000</td>\n",
       "      <td>0.000000</td>\n",
       "      <td>12</td>\n",
       "    </tr>\n",
       "    <tr>\n",
       "      <th>1607031</th>\n",
       "      <td>TRGGKCSA</td>\n",
       "      <td>20370</td>\n",
       "      <td>20152</td>\n",
       "      <td>17234</td>\n",
       "      <td>14031</td>\n",
       "      <td>1841</td>\n",
       "      <td>0.000000</td>\n",
       "      <td>0.000000</td>\n",
       "      <td>0.000000</td>\n",
       "      <td>0.000000</td>\n",
       "      <td>0.000000</td>\n",
       "      <td>8</td>\n",
       "    </tr>\n",
       "    <tr>\n",
       "      <th>1607971</th>\n",
       "      <td>CGTKSGAS</td>\n",
       "      <td>20266</td>\n",
       "      <td>20027</td>\n",
       "      <td>17153</td>\n",
       "      <td>13702</td>\n",
       "      <td>1796</td>\n",
       "      <td>0.000000</td>\n",
       "      <td>0.000000</td>\n",
       "      <td>0.000000</td>\n",
       "      <td>0.000000</td>\n",
       "      <td>0.012806</td>\n",
       "      <td>8</td>\n",
       "    </tr>\n",
       "    <tr>\n",
       "      <th>1609697</th>\n",
       "      <td>ATMTAWTV</td>\n",
       "      <td>21658</td>\n",
       "      <td>21632</td>\n",
       "      <td>21536</td>\n",
       "      <td>21390</td>\n",
       "      <td>16542</td>\n",
       "      <td>0.000000</td>\n",
       "      <td>0.000000</td>\n",
       "      <td>0.000000</td>\n",
       "      <td>0.000000</td>\n",
       "      <td>0.000000</td>\n",
       "      <td>12</td>\n",
       "    </tr>\n",
       "    <tr>\n",
       "      <th>1609698</th>\n",
       "      <td>BTVGATHT</td>\n",
       "      <td>21705</td>\n",
       "      <td>21697</td>\n",
       "      <td>21654</td>\n",
       "      <td>21616</td>\n",
       "      <td>19571</td>\n",
       "      <td>0.000000</td>\n",
       "      <td>0.000138</td>\n",
       "      <td>0.000000</td>\n",
       "      <td>0.000601</td>\n",
       "      <td>0.000511</td>\n",
       "      <td>27</td>\n",
       "    </tr>\n",
       "  </tbody>\n",
       "</table>\n",
       "<p>2064 rows × 12 columns</p>\n",
       "</div>"
      ],
      "text/plain": [
       "            motif    C07    C13    C41    C54    C95       T07       T13  \\\n",
       "5        AMCGMVAG  21095  20960  20205  18961   5416  0.000000  0.000000   \n",
       "818      YTWBGGTG  21497  21428  21169  20691  10815  0.000372  0.000140   \n",
       "819      THAVGRTA  21541  21480  21263  20850  12474  0.000000  0.000000   \n",
       "820      TAVACVNG  21681  21660  21592  21499  17742  0.000000  0.000000   \n",
       "821      ASATTDAS  21516  21454  21232  20841  12101  0.000000  0.000000   \n",
       "...           ...    ...    ...    ...    ...    ...       ...       ...   \n",
       "1605579  ASGBGACW  20902  20760  19558  17832   4097  0.000000  0.000000   \n",
       "1607031  TRGGKCSA  20370  20152  17234  14031   1841  0.000000  0.000000   \n",
       "1607971  CGTKSGAS  20266  20027  17153  13702   1796  0.000000  0.000000   \n",
       "1609697  ATMTAWTV  21658  21632  21536  21390  16542  0.000000  0.000000   \n",
       "1609698  BTVGATHT  21705  21697  21654  21616  19571  0.000000  0.000138   \n",
       "\n",
       "              T41       T54       T95  degen  \n",
       "5        0.000000  0.000000  0.000000     12  \n",
       "818      0.000803  0.000000  0.000000     12  \n",
       "819      0.000000  0.000000  0.000000     18  \n",
       "820      0.000000  0.000000  0.000000     36  \n",
       "821      0.000000  0.000000  0.000000     12  \n",
       "...           ...       ...       ...    ...  \n",
       "1605579  0.000000  0.000000  0.000000     12  \n",
       "1607031  0.000000  0.000000  0.000000      8  \n",
       "1607971  0.000000  0.000000  0.012806      8  \n",
       "1609697  0.000000  0.000000  0.000000     12  \n",
       "1609698  0.000000  0.000601  0.000511     27  \n",
       "\n",
       "[2064 rows x 12 columns]"
      ]
     },
     "execution_count": 14,
     "metadata": {},
     "output_type": "execute_result"
    }
   ],
   "source": [
    "df_low"
   ]
  },
  {
   "cell_type": "code",
   "execution_count": 15,
   "metadata": {},
   "outputs": [
    {
     "data": {
      "text/html": [
       "<div>\n",
       "<style scoped>\n",
       "    .dataframe tbody tr th:only-of-type {\n",
       "        vertical-align: middle;\n",
       "    }\n",
       "\n",
       "    .dataframe tbody tr th {\n",
       "        vertical-align: top;\n",
       "    }\n",
       "\n",
       "    .dataframe thead th {\n",
       "        text-align: right;\n",
       "    }\n",
       "</style>\n",
       "<table border=\"1\" class=\"dataframe\">\n",
       "  <thead>\n",
       "    <tr style=\"text-align: right;\">\n",
       "      <th></th>\n",
       "      <th>motif</th>\n",
       "      <th>C07</th>\n",
       "      <th>C13</th>\n",
       "      <th>C41</th>\n",
       "      <th>C54</th>\n",
       "      <th>C95</th>\n",
       "      <th>T07</th>\n",
       "      <th>T13</th>\n",
       "      <th>T41</th>\n",
       "      <th>T54</th>\n",
       "      <th>T95</th>\n",
       "      <th>degen</th>\n",
       "    </tr>\n",
       "  </thead>\n",
       "  <tbody>\n",
       "    <tr>\n",
       "      <th>540</th>\n",
       "      <td>CMGCWGCA</td>\n",
       "      <td>20874</td>\n",
       "      <td>20716</td>\n",
       "      <td>19716</td>\n",
       "      <td>18108</td>\n",
       "      <td>4517</td>\n",
       "      <td>0.099166</td>\n",
       "      <td>0.120824</td>\n",
       "      <td>0.415500</td>\n",
       "      <td>0.591617</td>\n",
       "      <td>0.892406</td>\n",
       "      <td>4</td>\n",
       "    </tr>\n",
       "    <tr>\n",
       "      <th>546</th>\n",
       "      <td>CWGCMGCA</td>\n",
       "      <td>20812</td>\n",
       "      <td>20661</td>\n",
       "      <td>19611</td>\n",
       "      <td>18063</td>\n",
       "      <td>4562</td>\n",
       "      <td>0.096483</td>\n",
       "      <td>0.118484</td>\n",
       "      <td>0.412371</td>\n",
       "      <td>0.590600</td>\n",
       "      <td>0.893468</td>\n",
       "      <td>4</td>\n",
       "    </tr>\n",
       "    <tr>\n",
       "      <th>548</th>\n",
       "      <td>CWGCAGCM</td>\n",
       "      <td>20967</td>\n",
       "      <td>20823</td>\n",
       "      <td>20054</td>\n",
       "      <td>18767</td>\n",
       "      <td>5510</td>\n",
       "      <td>0.103162</td>\n",
       "      <td>0.125342</td>\n",
       "      <td>0.425352</td>\n",
       "      <td>0.605957</td>\n",
       "      <td>0.911797</td>\n",
       "      <td>4</td>\n",
       "    </tr>\n",
       "    <tr>\n",
       "      <th>653</th>\n",
       "      <td>CAGCWGCM</td>\n",
       "      <td>20986</td>\n",
       "      <td>20840</td>\n",
       "      <td>20001</td>\n",
       "      <td>18696</td>\n",
       "      <td>5305</td>\n",
       "      <td>0.103974</td>\n",
       "      <td>0.126056</td>\n",
       "      <td>0.423829</td>\n",
       "      <td>0.604461</td>\n",
       "      <td>0.908388</td>\n",
       "      <td>4</td>\n",
       "    </tr>\n",
       "    <tr>\n",
       "      <th>703</th>\n",
       "      <td>CAGCMGCW</td>\n",
       "      <td>20841</td>\n",
       "      <td>20705</td>\n",
       "      <td>19638</td>\n",
       "      <td>17999</td>\n",
       "      <td>4363</td>\n",
       "      <td>0.097740</td>\n",
       "      <td>0.120357</td>\n",
       "      <td>0.413179</td>\n",
       "      <td>0.589144</td>\n",
       "      <td>0.888609</td>\n",
       "      <td>4</td>\n",
       "    </tr>\n",
       "    <tr>\n",
       "      <th>...</th>\n",
       "      <td>...</td>\n",
       "      <td>...</td>\n",
       "      <td>...</td>\n",
       "      <td>...</td>\n",
       "      <td>...</td>\n",
       "      <td>...</td>\n",
       "      <td>...</td>\n",
       "      <td>...</td>\n",
       "      <td>...</td>\n",
       "      <td>...</td>\n",
       "      <td>...</td>\n",
       "      <td>...</td>\n",
       "    </tr>\n",
       "    <tr>\n",
       "      <th>1589854</th>\n",
       "      <td>RGCAGCAR</td>\n",
       "      <td>21148</td>\n",
       "      <td>21035</td>\n",
       "      <td>20441</td>\n",
       "      <td>19459</td>\n",
       "      <td>6909</td>\n",
       "      <td>0.081568</td>\n",
       "      <td>0.095175</td>\n",
       "      <td>0.310993</td>\n",
       "      <td>0.481422</td>\n",
       "      <td>0.881748</td>\n",
       "      <td>4</td>\n",
       "    </tr>\n",
       "    <tr>\n",
       "      <th>1609024</th>\n",
       "      <td>YWGCTGCT</td>\n",
       "      <td>21093</td>\n",
       "      <td>20951</td>\n",
       "      <td>20314</td>\n",
       "      <td>19295</td>\n",
       "      <td>6612</td>\n",
       "      <td>0.084436</td>\n",
       "      <td>0.097609</td>\n",
       "      <td>0.318401</td>\n",
       "      <td>0.490231</td>\n",
       "      <td>0.882184</td>\n",
       "      <td>4</td>\n",
       "    </tr>\n",
       "    <tr>\n",
       "      <th>1609199</th>\n",
       "      <td>YTGCTGCW</td>\n",
       "      <td>21224</td>\n",
       "      <td>21117</td>\n",
       "      <td>20624</td>\n",
       "      <td>19853</td>\n",
       "      <td>8076</td>\n",
       "      <td>0.090087</td>\n",
       "      <td>0.104702</td>\n",
       "      <td>0.328646</td>\n",
       "      <td>0.504559</td>\n",
       "      <td>0.903541</td>\n",
       "      <td>4</td>\n",
       "    </tr>\n",
       "    <tr>\n",
       "      <th>1609623</th>\n",
       "      <td>CTGYTGCW</td>\n",
       "      <td>21084</td>\n",
       "      <td>20961</td>\n",
       "      <td>20321</td>\n",
       "      <td>19337</td>\n",
       "      <td>6735</td>\n",
       "      <td>0.084045</td>\n",
       "      <td>0.098039</td>\n",
       "      <td>0.318636</td>\n",
       "      <td>0.491338</td>\n",
       "      <td>0.884336</td>\n",
       "      <td>4</td>\n",
       "    </tr>\n",
       "    <tr>\n",
       "      <th>1609634</th>\n",
       "      <td>YTGCWGCT</td>\n",
       "      <td>21168</td>\n",
       "      <td>21049</td>\n",
       "      <td>20503</td>\n",
       "      <td>19644</td>\n",
       "      <td>7228</td>\n",
       "      <td>0.087680</td>\n",
       "      <td>0.101810</td>\n",
       "      <td>0.324684</td>\n",
       "      <td>0.499287</td>\n",
       "      <td>0.892225</td>\n",
       "      <td>4</td>\n",
       "    </tr>\n",
       "  </tbody>\n",
       "</table>\n",
       "<p>2208 rows × 12 columns</p>\n",
       "</div>"
      ],
      "text/plain": [
       "            motif    C07    C13    C41    C54   C95       T07       T13  \\\n",
       "540      CMGCWGCA  20874  20716  19716  18108  4517  0.099166  0.120824   \n",
       "546      CWGCMGCA  20812  20661  19611  18063  4562  0.096483  0.118484   \n",
       "548      CWGCAGCM  20967  20823  20054  18767  5510  0.103162  0.125342   \n",
       "653      CAGCWGCM  20986  20840  20001  18696  5305  0.103974  0.126056   \n",
       "703      CAGCMGCW  20841  20705  19638  17999  4363  0.097740  0.120357   \n",
       "...           ...    ...    ...    ...    ...   ...       ...       ...   \n",
       "1589854  RGCAGCAR  21148  21035  20441  19459  6909  0.081568  0.095175   \n",
       "1609024  YWGCTGCT  21093  20951  20314  19295  6612  0.084436  0.097609   \n",
       "1609199  YTGCTGCW  21224  21117  20624  19853  8076  0.090087  0.104702   \n",
       "1609623  CTGYTGCW  21084  20961  20321  19337  6735  0.084045  0.098039   \n",
       "1609634  YTGCWGCT  21168  21049  20503  19644  7228  0.087680  0.101810   \n",
       "\n",
       "              T41       T54       T95  degen  \n",
       "540      0.415500  0.591617  0.892406      4  \n",
       "546      0.412371  0.590600  0.893468      4  \n",
       "548      0.425352  0.605957  0.911797      4  \n",
       "653      0.423829  0.604461  0.908388      4  \n",
       "703      0.413179  0.589144  0.888609      4  \n",
       "...           ...       ...       ...    ...  \n",
       "1589854  0.310993  0.481422  0.881748      4  \n",
       "1609024  0.318401  0.490231  0.882184      4  \n",
       "1609199  0.328646  0.504559  0.903541      4  \n",
       "1609623  0.318636  0.491338  0.884336      4  \n",
       "1609634  0.324684  0.499287  0.892225      4  \n",
       "\n",
       "[2208 rows x 12 columns]"
      ]
     },
     "execution_count": 15,
     "metadata": {},
     "output_type": "execute_result"
    }
   ],
   "source": [
    "df_high"
   ]
  },
  {
   "cell_type": "code",
   "execution_count": 16,
   "metadata": {},
   "outputs": [
    {
     "data": {
      "text/plain": [
       "STGCTGCY    1\n",
       "CAGCWSCA    1\n",
       "GCAGYWGC    1\n",
       "RGCMTGCA    1\n",
       "SAGCAKCA    1\n",
       "           ..\n",
       "RCAGCRGC    1\n",
       "GYYGCTGC    1\n",
       "GCTWGCTG    1\n",
       "YTGCAGCM    1\n",
       "TTGCAWGC    1\n",
       "Name: motif, Length: 2208, dtype: int64"
      ]
     },
     "execution_count": 16,
     "metadata": {},
     "output_type": "execute_result"
    }
   ],
   "source": [
    "df_high.motif.value_counts()"
   ]
  },
  {
   "cell_type": "code",
   "execution_count": 17,
   "metadata": {},
   "outputs": [
    {
     "data": {
      "text/plain": [
       "AGRTTWYA    1\n",
       "MAGCCGVT    1\n",
       "GDTAHADA    1\n",
       "GYCGBAAH    1\n",
       "AGHNTAAC    1\n",
       "           ..\n",
       "CVGAYKTT    1\n",
       "VGKTYGCC    1\n",
       "CATAWMCK    1\n",
       "CANTWACC    1\n",
       "GGTVAVSC    1\n",
       "Name: motif, Length: 2064, dtype: int64"
      ]
     },
     "execution_count": 17,
     "metadata": {},
     "output_type": "execute_result"
    }
   ],
   "source": [
    "df_low.motif.value_counts()"
   ]
  },
  {
   "cell_type": "code",
   "execution_count": 18,
   "metadata": {},
   "outputs": [
    {
     "data": {
      "text/plain": [
       "(2208,)"
      ]
     },
     "execution_count": 18,
     "metadata": {},
     "output_type": "execute_result"
    }
   ],
   "source": [
    "df_high_motifs = df_high.motif.unique()\n",
    "df_high_motifs.shape"
   ]
  },
  {
   "cell_type": "code",
   "execution_count": 19,
   "metadata": {},
   "outputs": [
    {
     "data": {
      "text/plain": [
       "(2064,)"
      ]
     },
     "execution_count": 19,
     "metadata": {},
     "output_type": "execute_result"
    }
   ],
   "source": [
    "df_low_motifs = df_low.motif.unique()\n",
    "df_low_motifs.shape"
   ]
  },
  {
   "cell_type": "code",
   "execution_count": 20,
   "metadata": {},
   "outputs": [],
   "source": [
    "def load_jaspar(location=\"jaspar\"):\n",
    "    jaspar_motifs = []\n",
    "    for location in Path(\"jaspar\").iterdir():\n",
    "        with open(str(location)) as fh:\n",
    "            for m in motifs.parse(fh, \"jaspar\"):\n",
    "                jaspar_motifs.append(m)\n",
    "    return jaspar_motifs"
   ]
  },
  {
   "cell_type": "code",
   "execution_count": 21,
   "metadata": {},
   "outputs": [
    {
     "data": {
      "text/plain": [
       "530"
      ]
     },
     "execution_count": 21,
     "metadata": {},
     "output_type": "execute_result"
    }
   ],
   "source": [
    "jaspar_motifs = load_jaspar(\"jaspar\")\n",
    "len(jaspar_motifs)"
   ]
  },
  {
   "cell_type": "code",
   "execution_count": 22,
   "metadata": {},
   "outputs": [
    {
     "data": {
      "text/html": [
       "<div>\n",
       "<style scoped>\n",
       "    .dataframe tbody tr th:only-of-type {\n",
       "        vertical-align: middle;\n",
       "    }\n",
       "\n",
       "    .dataframe tbody tr th {\n",
       "        vertical-align: top;\n",
       "    }\n",
       "\n",
       "    .dataframe thead th {\n",
       "        text-align: right;\n",
       "    }\n",
       "</style>\n",
       "<table border=\"1\" class=\"dataframe\">\n",
       "  <thead>\n",
       "    <tr style=\"text-align: right;\">\n",
       "      <th></th>\n",
       "      <th>motif</th>\n",
       "      <th>motif_length</th>\n",
       "    </tr>\n",
       "  </thead>\n",
       "  <tbody>\n",
       "    <tr>\n",
       "      <th>0</th>\n",
       "      <td>TNCCAWWWATAGNW</td>\n",
       "      <td>14</td>\n",
       "    </tr>\n",
       "    <tr>\n",
       "      <th>1</th>\n",
       "      <td>TTWCCWAAWNNGGNAA</td>\n",
       "      <td>16</td>\n",
       "    </tr>\n",
       "    <tr>\n",
       "      <th>2</th>\n",
       "      <td>YNCAATTATTGS</td>\n",
       "      <td>12</td>\n",
       "    </tr>\n",
       "    <tr>\n",
       "      <th>3</th>\n",
       "      <td>AAAGC</td>\n",
       "      <td>5</td>\n",
       "    </tr>\n",
       "    <tr>\n",
       "      <th>4</th>\n",
       "      <td>AAAGYV</td>\n",
       "      <td>6</td>\n",
       "    </tr>\n",
       "    <tr>\n",
       "      <th>...</th>\n",
       "      <td>...</td>\n",
       "      <td>...</td>\n",
       "    </tr>\n",
       "    <tr>\n",
       "      <th>525</th>\n",
       "      <td>YGGTCAAC</td>\n",
       "      <td>8</td>\n",
       "    </tr>\n",
       "    <tr>\n",
       "      <th>526</th>\n",
       "      <td>TGGTCAAC</td>\n",
       "      <td>8</td>\n",
       "    </tr>\n",
       "    <tr>\n",
       "      <th>527</th>\n",
       "      <td>GGTCAAC</td>\n",
       "      <td>7</td>\n",
       "    </tr>\n",
       "    <tr>\n",
       "      <th>528</th>\n",
       "      <td>RGTCAAC</td>\n",
       "      <td>7</td>\n",
       "    </tr>\n",
       "    <tr>\n",
       "      <th>529</th>\n",
       "      <td>RGTCAA</td>\n",
       "      <td>6</td>\n",
       "    </tr>\n",
       "  </tbody>\n",
       "</table>\n",
       "<p>530 rows × 2 columns</p>\n",
       "</div>"
      ],
      "text/plain": [
       "                motif  motif_length\n",
       "0      TNCCAWWWATAGNW            14\n",
       "1    TTWCCWAAWNNGGNAA            16\n",
       "2        YNCAATTATTGS            12\n",
       "3               AAAGC             5\n",
       "4              AAAGYV             6\n",
       "..                ...           ...\n",
       "525          YGGTCAAC             8\n",
       "526          TGGTCAAC             8\n",
       "527           GGTCAAC             7\n",
       "528           RGTCAAC             7\n",
       "529            RGTCAA             6\n",
       "\n",
       "[530 rows x 2 columns]"
      ]
     },
     "execution_count": 22,
     "metadata": {},
     "output_type": "execute_result"
    }
   ],
   "source": [
    "df_jaspar = pd.DataFrame([str(m.degenerate_consensus.strip(\"N\")) for m in jaspar_motifs], columns=[\"motif\"])\n",
    "df_jaspar[\"motif_length\"] = df_jaspar[\"motif\"].apply(len)\n",
    "df_jaspar"
   ]
  },
  {
   "cell_type": "code",
   "execution_count": 25,
   "metadata": {},
   "outputs": [],
   "source": [
    "nuc = Align.substitution_matrices.load(\"NUC.4.4\")"
   ]
  },
  {
   "cell_type": "code",
   "execution_count": 27,
   "metadata": {},
   "outputs": [
    {
     "data": {
      "text/plain": [
       "<AxesSubplot:>"
      ]
     },
     "execution_count": 27,
     "metadata": {},
     "output_type": "execute_result"
    },
    {
     "data": {
      "image/png": "[encoded data removed]",
      "text/plain": [
       "<Figure size 432x288 with 2 Axes>"
      ]
     },
     "metadata": {
      "needs_background": "light"
     },
     "output_type": "display_data"
    }
   ],
   "source": [
    "sns.heatmap(nuc, cmap='Blues', xticklabels=nuc.alphabet, yticklabels=nuc.alphabet)"
   ]
  },
  {
   "cell_type": "code",
   "execution_count": 28,
   "metadata": {},
   "outputs": [],
   "source": [
    "def get_aligner(gap_score=-2.5):\n",
    "    aligner = Align.PairwiseAligner()\n",
    "    aligner.substitution_matrix = Align.substitution_matrices.load(\"NUC.4.4\")\n",
    "    aligner.mode = 'global'\n",
    "    aligner.target_left_extend_gap_score = gap_score\n",
    "    aligner.target_right_extend_gap_score = gap_score\n",
    "    aligner.query_left_extend_gap_score = gap_score\n",
    "    aligner.query_right_extend_gap_score = gap_score\n",
    "    aligner.target_left_open_gap_score = gap_score\n",
    "    aligner.target_right_open_gap_score = gap_score\n",
    "    aligner.query_left_open_gap_score = gap_score\n",
    "    aligner.query_right_open_gap_score = gap_score\n",
    "    aligner.query_internal_open_gap_score = gap_score\n",
    "    aligner.query_internal_extend_gap_score = gap_score\n",
    "    aligner.target_internal_open_gap_score = gap_score\n",
    "    aligner.target_internal_extend_gap_score = gap_score\n",
    "    aligner.open_gap_score = gap_score\n",
    "    aligner.extend_gap_score = gap_score\n",
    "    return aligner"
   ]
  },
  {
   "cell_type": "code",
   "execution_count": 29,
   "metadata": {},
   "outputs": [],
   "source": [
    "aligner = get_aligner()"
   ]
  },
  {
   "cell_type": "code",
   "execution_count": 30,
   "metadata": {},
   "outputs": [],
   "source": [
    "def score(seq, motif, max_score=5):\n",
    "    return aligner.score(seq, motif) / (max_score * len(motif))\n",
    "\n",
    "def get_best_motif(seq):\n",
    "    jaspar_scores = df_jaspar.motif.apply(lambda m: score(seq, m))\n",
    "#     adjusted_scores = jaspar_scores * df_jaspar.motif_length\n",
    "    i = np.argmax(jaspar_scores)\n",
    "    return pd.Series({\n",
    "        \"match_score\": jaspar_scores[i],\n",
    "        \"jaspar_motif\": df_jaspar.motif[i],\n",
    "        \"motif\": seq,\n",
    "    })"
   ]
  },
  {
   "cell_type": "code",
   "execution_count": 31,
   "metadata": {},
   "outputs": [
    {
     "data": {
      "text/plain": [
       "1.0"
      ]
     },
     "execution_count": 31,
     "metadata": {},
     "output_type": "execute_result"
    }
   ],
   "source": [
    "score(\"AAA\", \"AAA\")"
   ]
  },
  {
   "cell_type": "code",
   "execution_count": 32,
   "metadata": {},
   "outputs": [
    {
     "data": {
      "text/plain": [
       "0.7333333333333333"
      ]
     },
     "execution_count": 32,
     "metadata": {},
     "output_type": "execute_result"
    }
   ],
   "source": [
    "score(\"AAA\", \"ARA\")"
   ]
  },
  {
   "cell_type": "code",
   "execution_count": 33,
   "metadata": {},
   "outputs": [
    {
     "data": {
      "text/plain": [
       "0.6"
      ]
     },
     "execution_count": 33,
     "metadata": {},
     "output_type": "execute_result"
    }
   ],
   "source": [
    "score(\"AAA\", \"ADA\")"
   ]
  },
  {
   "cell_type": "code",
   "execution_count": 34,
   "metadata": {},
   "outputs": [
    {
     "data": {
      "text/plain": [
       "0.5333333333333333"
      ]
     },
     "execution_count": 34,
     "metadata": {},
     "output_type": "execute_result"
    }
   ],
   "source": [
    "score(\"AAA\", \"ANA\")"
   ]
  },
  {
   "cell_type": "code",
   "execution_count": 35,
   "metadata": {},
   "outputs": [
    {
     "data": {
      "text/plain": [
       "0.4"
      ]
     },
     "execution_count": 35,
     "metadata": {},
     "output_type": "execute_result"
    }
   ],
   "source": [
    "score(\"AAA\", \"ATA\")"
   ]
  },
  {
   "cell_type": "code",
   "execution_count": 36,
   "metadata": {},
   "outputs": [
    {
     "data": {
      "text/plain": [
       "match_score        0.425\n",
       "jaspar_motif    AGTCAACG\n",
       "motif           NTCVAVCG\n",
       "dtype: object"
      ]
     },
     "execution_count": 36,
     "metadata": {},
     "output_type": "execute_result"
    }
   ],
   "source": [
    "get_best_motif(\"NTCVAVCG\")"
   ]
  },
  {
   "cell_type": "code",
   "execution_count": 37,
   "metadata": {},
   "outputs": [],
   "source": [
    "def get_jaspar_matches(df):\n",
    "    df = df.motif.apply(get_best_motif)\n",
    "    df = df.sort_values(by=\"match_score\", ascending=False)\n",
    "    df[\"degen\"] = df.motif.apply(degen_score)\n",
    "    df[\"jaspar_degen\"] = df.jaspar_motif.apply(degen_score)\n",
    "    return df"
   ]
  },
  {
   "cell_type": "code",
   "execution_count": 38,
   "metadata": {},
   "outputs": [],
   "source": [
    "def plot_jaspar_matches(df, agg=\"max\", cutoff=0.8, **kwargs):\n",
    "    len_motifs = len(df)\n",
    "    df = get_jaspar_matches(df)\n",
    "    print(f\"Fraction of matches > {cutoff}: {(df.match_score > cutoff).mean()}\")\n",
    "    df = df.groupby(\"jaspar_motif\").agg({'match_score': agg}).reset_index()\n",
    "    df[\"degen\"] = df.jaspar_motif.apply(degen_score)\n",
    "    print(f\"Fraction of jaspar motifs matched > {cutoff}: {(df.match_score > cutoff).sum() / len(jaspar_motifs)}\")\n",
    "    \n",
    "    norm = plt.Normalize(df[\"degen\"].min(), df[\"degen\"].max())\n",
    "    sm = plt.cm.ScalarMappable(cmap=\"Reds\", norm=norm)\n",
    "    sm.set_array([])\n",
    "\n",
    "    f, (ax_box, ax_hist) = plt.subplots(2, sharex=True, \n",
    "                                    gridspec_kw={\"height_ratios\": (.15, .85)})\n",
    "    sns.boxplot(data=df, x=\"match_score\", ax=ax_box)\n",
    "    sns.histplot(data=df, x=\"match_score\", ax=ax_hist, bins=20, hue=\"degen\", palette=\"Reds\")\n",
    "\n",
    "    ax_hist.get_legend().remove()\n",
    "    ax_box.set(yticks=[], xlim=[0, 1])\n",
    "    sns.despine(ax=ax_hist)\n",
    "    sns.despine(ax=ax_box, left=True)\n",
    "    ax_hist.figure.colorbar(sm)"
   ]
  },
  {
   "cell_type": "code",
   "execution_count": 39,
   "metadata": {},
   "outputs": [],
   "source": [
    "def plot_matches_to_jaspar(df, agg=\"max\", cutoff=0.8, axis=None, **kwargs):\n",
    "    len_motifs = len(df)\n",
    "    df = get_jaspar_matches(df)\n",
    "    print(f\"Fraction of matches > {cutoff}: {(df.match_score > cutoff).mean()}\")\n",
    "    df_jaspar = df.groupby(\"jaspar_motif\").agg({'match_score': agg}).reset_index()\n",
    "    print(f\"Fraction of jaspar motifs matched > {cutoff}: {(df_jaspar.match_score > cutoff).sum() / len(jaspar_motifs)}\")\n",
    "    \n",
    "    f, (ax_box, ax_hist) = plt.subplots(2, sharex=True, \n",
    "                                    gridspec_kw={\"height_ratios\": (.15, .85)})\n",
    "    sns.boxplot(data=df, x=\"match_score\", ax=ax_box)\n",
    "    sns.histplot(data=df, x=\"match_score\", ax=ax_hist, bins=20, hue=\"degen\")\n",
    "\n",
    "    ax_box.set(yticks=[], xlim=[0, 1])\n",
    "    sns.despine(ax=ax_hist)\n",
    "    sns.despine(ax=ax_box, left=True)"
   ]
  },
  {
   "cell_type": "code",
   "execution_count": 40,
   "metadata": {},
   "outputs": [
    {
     "data": {
      "text/plain": [
       "<AxesSubplot:>"
      ]
     },
     "execution_count": 40,
     "metadata": {},
     "output_type": "execute_result"
    },
    {
     "data": {
      "image/png": "[encoded data removed]",
      "text/plain": [
       "<Figure size 432x288 with 1 Axes>"
      ]
     },
     "metadata": {
      "needs_background": "light"
     },
     "output_type": "display_data"
    }
   ],
   "source": [
    "df_low.degen.hist()"
   ]
  },
  {
   "cell_type": "code",
   "execution_count": 41,
   "metadata": {},
   "outputs": [
    {
     "data": {
      "text/plain": [
       "<AxesSubplot:>"
      ]
     },
     "execution_count": 41,
     "metadata": {},
     "output_type": "execute_result"
    },
    {
     "data": {
      "image/png": "[encoded data removed]",
      "text/plain": [
       "<Figure size 432x288 with 1 Axes>"
      ]
     },
     "metadata": {
      "needs_background": "light"
     },
     "output_type": "display_data"
    }
   ],
   "source": [
    "df_high.degen.hist()"
   ]
  },
  {
   "cell_type": "code",
   "execution_count": 42,
   "metadata": {},
   "outputs": [
    {
     "data": {
      "image/png": "[encoded data removed]",
      "text/plain": [
       "<Figure size 864x864 with 9 Axes>"
      ]
     },
     "metadata": {
      "needs_background": "light"
     },
     "output_type": "display_data"
    }
   ],
   "source": [
    "import matplotlib.pyplot as plt\n",
    "import matplotlib.gridspec as gridspec\n",
    "from matplotlib.colors import Normalize, LinearSegmentedColormap\n",
    "\n",
    "limit = None\n",
    "\n",
    "fig = plt.figure(figsize=(12,12))\n",
    "\n",
    "colors = [\"green\", \"lawngreen\", \"gold\", \"darkorange\", \"red\"]\n",
    "nodes = [0, .1, .3, .6, 1.0]\n",
    "palette = LinearSegmentedColormap.from_list(\"mycmap\", list(zip(nodes, colors)))\n",
    "norm = Normalize(0, 64)\n",
    "        \n",
    "# gridspec inside gridspec\n",
    "axes = fig.subplots(4,2, sharex=True, gridspec_kw={\n",
    "             \"height_ratios\": (.15, .85, .15, .85),\n",
    "             \"width_ratios\": (.5, .5)\n",
    "         })\n",
    "\n",
    "def plot_helper(df, ax_box, ax_hist):\n",
    "    df = df.groupby(\"jaspar_motif\").agg({\"match_score\": \"median\", \"degen\": \"median\"})\n",
    "    sns.boxplot(data=df, x=\"match_score\", ax=ax_box)\n",
    "    ax_box.set(xlabel=None)\n",
    "#     df.degen /= 64\n",
    "    sns.histplot(data=df, x=\"match_score\", ax=ax_hist, bins=20, hue=\"degen\", multiple=\"stack\", palette=palette, hue_norm=norm)\n",
    "\n",
    "    ax_box.set(yticks=[], xlim=[-.1, 1])\n",
    "    ax_hist.set(ylim=[0, 40])\n",
    "    sns.despine(ax=ax_hist)\n",
    "    sns.despine(ax=ax_box, left=True)\n",
    "\n",
    "    # Remove the legend and add a colorbar\n",
    "    ax_hist.get_legend().remove()\n",
    "    \n",
    "aligner = get_aligner()\n",
    "\n",
    "ax_box = axes[0,0]\n",
    "ax_hist = axes[1,0]\n",
    "df_ax1 = get_jaspar_matches(df_low[:limit])\n",
    "plot_helper(df_ax1, ax_box, ax_hist)\n",
    "\n",
    "ax_box = axes[2,0]\n",
    "ax_hist = axes[3,0]\n",
    "df_ax1 = get_jaspar_matches(df_high[:limit])\n",
    "plot_helper(df_ax1, ax_box, ax_hist)\n",
    "\n",
    "\n",
    "aligner = get_aligner(-100)\n",
    "\n",
    "ax_box = axes[0,1]\n",
    "ax_hist = axes[1,1]\n",
    "df_ax1 = get_jaspar_matches(df_low[:limit])\n",
    "plot_helper(df_ax1, ax_box, ax_hist)\n",
    "\n",
    "ax_box = axes[2,1]\n",
    "ax_hist = axes[3,1]\n",
    "df_ax1 = get_jaspar_matches(df_high[:limit])\n",
    "plot_helper(df_ax1, ax_box, ax_hist)\n",
    "\n",
    "sm = plt.cm.ScalarMappable(norm, cmap=palette)\n",
    "# sm.set_array([])\n",
    "\n",
    "fig.colorbar(sm, ax=axes).ax.set_title(\"Degen score\")\n",
    "\n",
    "plt.suptitle(\"Histogram of JASPAR motifs, with median score of matched putative motifs and their median degen score\")\n",
    "axes[0,0].set_title('Low confidence, gap_score = -2.5')\n",
    "axes[2,0].set_title('High confidence, gap_score = -2.5')\n",
    "axes[0,1].set_title('Low confidence, gap_score = -100')\n",
    "axes[2,1].set_title('High confidence, gap_score = -100')\n",
    "plt.show()"
   ]
  },
  {
   "cell_type": "code",
   "execution_count": 43,
   "metadata": {},
   "outputs": [
    {
     "data": {
      "image/png": "[encoded data removed]",
      "text/plain": [
       "<Figure size 864x864 with 9 Axes>"
      ]
     },
     "metadata": {
      "needs_background": "light"
     },
     "output_type": "display_data"
    }
   ],
   "source": [
    "import matplotlib.pyplot as plt\n",
    "import matplotlib.gridspec as gridspec\n",
    "from matplotlib.colors import Normalize, LinearSegmentedColormap\n",
    "\n",
    "limit = None\n",
    "\n",
    "fig = plt.figure(figsize=(12,12))\n",
    "\n",
    "colors = [\"green\", \"lawngreen\", \"gold\", \"darkorange\", \"red\"]\n",
    "nodes = [0, .1, .3, .6, 1.0]\n",
    "palette = LinearSegmentedColormap.from_list(\"mycmap\", list(zip(nodes, colors)))\n",
    "norm = Normalize(0, 64)\n",
    "        \n",
    "# gridspec inside gridspec\n",
    "axes = fig.subplots(4,2, sharex=True, gridspec_kw={\n",
    "             \"height_ratios\": (.15, .85, .15, .85),\n",
    "             \"width_ratios\": (.5, .5)\n",
    "         })\n",
    "\n",
    "def plot_helper(df, ax_box, ax_hist):\n",
    "    sns.boxplot(data=df, x=\"match_score\", ax=ax_box)\n",
    "    ax_box.set(xlabel=None)\n",
    "#     df.degen /= 64\n",
    "    sns.histplot(data=df, x=\"match_score\", ax=ax_hist, bins=20, hue=\"degen\", multiple=\"stack\", palette=palette, hue_norm=norm)\n",
    "\n",
    "    ax_box.set(yticks=[], xlim=[-.1, 1])\n",
    "    ax_hist.set(ylim=[0, 600])\n",
    "    sns.despine(ax=ax_hist)\n",
    "    sns.despine(ax=ax_box, left=True)\n",
    "\n",
    "    # Remove the legend and add a colorbar\n",
    "    ax_hist.get_legend().remove()\n",
    "    \n",
    "aligner = get_aligner()\n",
    "\n",
    "ax_box = axes[0,0]\n",
    "ax_hist = axes[1,0]\n",
    "df_ax1 = get_jaspar_matches(df_low[:limit])\n",
    "plot_helper(df_ax1, ax_box, ax_hist)\n",
    "\n",
    "ax_box = axes[2,0]\n",
    "ax_hist = axes[3,0]\n",
    "df_ax1 = get_jaspar_matches(df_high[:limit])\n",
    "plot_helper(df_ax1, ax_box, ax_hist)\n",
    "\n",
    "\n",
    "aligner = get_aligner(-100)\n",
    "\n",
    "ax_box = axes[0,1]\n",
    "ax_hist = axes[1,1]\n",
    "df_ax1 = get_jaspar_matches(df_low[:limit])\n",
    "plot_helper(df_ax1, ax_box, ax_hist)\n",
    "\n",
    "ax_box = axes[2,1]\n",
    "ax_hist = axes[3,1]\n",
    "df_ax1 = get_jaspar_matches(df_high[:limit])\n",
    "plot_helper(df_ax1, ax_box, ax_hist)\n",
    "\n",
    "sm = plt.cm.ScalarMappable(norm, cmap=palette)\n",
    "# sm.set_array([])\n",
    "\n",
    "fig.colorbar(sm, ax=axes).ax.set_title(\"Degen score\")\n",
    "\n",
    "plt.suptitle(\"Histogram of putative motifs, scored to JASPAR motifs\")\n",
    "axes[0,0].set_title('Low confidence, gap_score = -2.5')\n",
    "axes[2,0].set_title('High confidence, gap_score = -2.5')\n",
    "axes[0,1].set_title('Low confidence, gap_score = -100')\n",
    "axes[2,1].set_title('High confidence, gap_score = -100')\n",
    "plt.show()"
   ]
  },
  {
   "cell_type": "markdown",
   "metadata": {},
   "source": [
    "## Random matches"
   ]
  },
  {
   "cell_type": "code",
   "execution_count": 149,
   "metadata": {},
   "outputs": [
    {
     "name": "stdout",
     "output_type": "stream",
     "text": [
      "5       AMCGMVAG\n",
      "818     YTWBGGTG\n",
      "819     THAVGRTA\n",
      "820     TAVACVNG\n",
      "821     ASATTDAS\n",
      "1808    CCKBAAGR\n",
      "1980    RCABCCKA\n",
      "2596    CCGKKKAG\n",
      "6580    GCGCRKRA\n",
      "6785    SACCYCNA\n",
      "Name: motif, dtype: object\n",
      "5       GAVMGCMA\n",
      "818     GTGGBWTY\n",
      "819     ATRGVAHT\n",
      "820     GNVCAVAT\n",
      "821     SADTTASA\n",
      "1808    RGAABKCC\n",
      "1980    AKCCBACR\n",
      "2596    GAKKKGCC\n",
      "6580    ARKRCGCG\n",
      "6785    ANCYCCAS\n",
      "Name: motif, dtype: object\n",
      "5       AGVAMCGM\n",
      "818     TBTGYGGW\n",
      "819     AARVTGHT\n",
      "820     GAVVANCT\n",
      "821     AASATSDT\n",
      "1808    RBCACKAG\n",
      "1980    ABCAKRCC\n",
      "2596    AKCKCGGK\n",
      "6580    RKAGGCRC\n",
      "6785    ASAYCCNC\n",
      "Name: motif, dtype: object\n",
      "5       YTMGVWHC\n",
      "818     THWSCBYR\n",
      "819     HDNSABGW\n",
      "820     HGBMCSVA\n",
      "821     YSKGAVHC\n",
      "1808    GMAVYWKC\n",
      "1980    HVRKYBSN\n",
      "2596    NAHCDMSK\n",
      "6580    WDHKCANS\n",
      "6785    CDHNGMTS\n",
      "Name: motif, dtype: object\n"
     ]
    }
   ],
   "source": [
    "import random\n",
    "\n",
    "def reverse_motifs(df):\n",
    "    df = df.copy()\n",
    "    df.motif = df.motif.apply(lambda x: x[::-1])\n",
    "    return df\n",
    "\n",
    "def shuffled_motifs(df):\n",
    "    df = df.copy()\n",
    "    df.motif = df.motif.apply(lambda x: \"\".join(random.sample(x, len(x))))\n",
    "    return df\n",
    "\n",
    "def random_motifs(df):\n",
    "    df = df.copy()\n",
    "    df.motif = df.motif.apply(lambda x: \"\".join(random.sample(\"ACGTRYSWKMBDHVN\", len(x))))\n",
    "    return df\n",
    "\n",
    "print(df_low[:10].motif)\n",
    "print(reverse_motifs(df_low[:10]).motif)\n",
    "print(shuffled_motifs(df_low[:10]).motif)\n",
    "print(random_motifs(df_low[:10]).motif)"
   ]
  },
  {
   "cell_type": "code",
   "execution_count": 152,
   "metadata": {},
   "outputs": [],
   "source": [
    "df_low_rev = reverse_motifs(df_low)\n",
    "df_high_rev = reverse_motifs(df_high)\n",
    "df_low_shuffled = shuffled_motifs(df_low)\n",
    "df_high_shuffled = shuffled_motifs(df_high)\n",
    "df_low_random = random_motifs(df_low)\n",
    "df_high_random = random_motifs(df_high)"
   ]
  },
  {
   "cell_type": "code",
   "execution_count": 153,
   "metadata": {},
   "outputs": [
    {
     "data": {
      "image/png": "[encoded data removed]",
      "text/plain": [
       "<Figure size 864x864 with 9 Axes>"
      ]
     },
     "metadata": {
      "needs_background": "light"
     },
     "output_type": "display_data"
    }
   ],
   "source": [
    "limit = None\n",
    "\n",
    "fig = plt.figure(figsize=(12,12))\n",
    "\n",
    "colors = [\"green\", \"lawngreen\", \"gold\", \"darkorange\", \"red\"]\n",
    "nodes = [0, .1, .3, .6, 1.0]\n",
    "palette = LinearSegmentedColormap.from_list(\"mycmap\", list(zip(nodes, colors)))\n",
    "norm = Normalize(0, 64)\n",
    "        \n",
    "# gridspec inside gridspec\n",
    "axes = fig.subplots(4,2, sharex=True, gridspec_kw={\n",
    "             \"height_ratios\": (.15, .85, .15, .85),\n",
    "             \"width_ratios\": (.5, .5)\n",
    "         })\n",
    "    \n",
    "aligner = get_aligner()\n",
    "\n",
    "ax_box = axes[0,0]\n",
    "ax_hist = axes[1,0]\n",
    "df_ax1 = get_jaspar_matches(df_low_random[:limit])\n",
    "plot_helper(df_ax1, ax_box, ax_hist)\n",
    "\n",
    "ax_box = axes[2,0]\n",
    "ax_hist = axes[3,0]\n",
    "df_ax1 = get_jaspar_matches(df_high_random[:limit])\n",
    "plot_helper(df_ax1, ax_box, ax_hist)\n",
    "\n",
    "\n",
    "aligner = get_aligner(-100)\n",
    "\n",
    "ax_box = axes[0,1]\n",
    "ax_hist = axes[1,1]\n",
    "df_ax1 = get_jaspar_matches(df_low_random[:limit])\n",
    "plot_helper(df_ax1, ax_box, ax_hist)\n",
    "\n",
    "ax_box = axes[2,1]\n",
    "ax_hist = axes[3,1]\n",
    "df_ax1 = get_jaspar_matches(df_high_random[:limit])\n",
    "plot_helper(df_ax1, ax_box, ax_hist)\n",
    "\n",
    "sm = plt.cm.ScalarMappable(norm, cmap=palette)\n",
    "\n",
    "fig.colorbar(sm, ax=axes).ax.set_title(\"Degen score\")\n",
    "\n",
    "plt.suptitle(\"RANDOM Histogram of putative motifs, scored to JASPAR motifs\")\n",
    "axes[0,0].set_title('Low confidence, gap_score = -2.5')\n",
    "axes[2,0].set_title('High confidence, gap_score = -2.5')\n",
    "axes[0,1].set_title('Low confidence, gap_score = -100')\n",
    "axes[2,1].set_title('High confidence, gap_score = -100')\n",
    "plt.show()"
   ]
  },
  {
   "cell_type": "code",
   "execution_count": 154,
   "metadata": {},
   "outputs": [
    {
     "data": {
      "image/png": "[encoded data removed]",
      "text/plain": [
       "<Figure size 864x864 with 9 Axes>"
      ]
     },
     "metadata": {
      "needs_background": "light"
     },
     "output_type": "display_data"
    }
   ],
   "source": [
    "limit = None\n",
    "\n",
    "fig = plt.figure(figsize=(12,12))\n",
    "\n",
    "colors = [\"green\", \"lawngreen\", \"gold\", \"darkorange\", \"red\"]\n",
    "nodes = [0, .1, .3, .6, 1.0]\n",
    "palette = LinearSegmentedColormap.from_list(\"mycmap\", list(zip(nodes, colors)))\n",
    "norm = Normalize(0, 64)\n",
    "        \n",
    "# gridspec inside gridspec\n",
    "axes = fig.subplots(4,2, sharex=True, gridspec_kw={\n",
    "             \"height_ratios\": (.15, .85, .15, .85),\n",
    "             \"width_ratios\": (.5, .5)\n",
    "         })\n",
    "    \n",
    "aligner = get_aligner()\n",
    "\n",
    "ax_box = axes[0,0]\n",
    "ax_hist = axes[1,0]\n",
    "df_ax1 = get_jaspar_matches(df_low_rev[:limit])\n",
    "plot_helper(df_ax1, ax_box, ax_hist)\n",
    "\n",
    "ax_box = axes[2,0]\n",
    "ax_hist = axes[3,0]\n",
    "df_ax1 = get_jaspar_matches(df_high_rev[:limit])\n",
    "plot_helper(df_ax1, ax_box, ax_hist)\n",
    "\n",
    "\n",
    "aligner = get_aligner(-100)\n",
    "\n",
    "ax_box = axes[0,1]\n",
    "ax_hist = axes[1,1]\n",
    "df_ax1 = get_jaspar_matches(df_low_rev[:limit])\n",
    "plot_helper(df_ax1, ax_box, ax_hist)\n",
    "\n",
    "ax_box = axes[2,1]\n",
    "ax_hist = axes[3,1]\n",
    "df_ax1 = get_jaspar_matches(df_high_rev[:limit])\n",
    "plot_helper(df_ax1, ax_box, ax_hist)\n",
    "\n",
    "sm = plt.cm.ScalarMappable(norm, cmap=palette)\n",
    "\n",
    "fig.colorbar(sm, ax=axes).ax.set_title(\"Degen score\")\n",
    "\n",
    "plt.suptitle(\"REVERSE Histogram of putative motifs, scored to JASPAR motifs\")\n",
    "axes[0,0].set_title('Low confidence, gap_score = -2.5')\n",
    "axes[2,0].set_title('High confidence, gap_score = -2.5')\n",
    "axes[0,1].set_title('Low confidence, gap_score = -100')\n",
    "axes[2,1].set_title('High confidence, gap_score = -100')\n",
    "plt.show()"
   ]
  },
  {
   "cell_type": "code",
   "execution_count": 155,
   "metadata": {},
   "outputs": [
    {
     "data": {
      "image/png": "[encoded data removed]",
      "text/plain": [
       "<Figure size 864x864 with 9 Axes>"
      ]
     },
     "metadata": {
      "needs_background": "light"
     },
     "output_type": "display_data"
    }
   ],
   "source": [
    "limit = None\n",
    "\n",
    "fig = plt.figure(figsize=(12,12))\n",
    "\n",
    "colors = [\"green\", \"lawngreen\", \"gold\", \"darkorange\", \"red\"]\n",
    "nodes = [0, .1, .3, .6, 1.0]\n",
    "palette = LinearSegmentedColormap.from_list(\"mycmap\", list(zip(nodes, colors)))\n",
    "norm = Normalize(0, 64)\n",
    "        \n",
    "# gridspec inside gridspec\n",
    "axes = fig.subplots(4,2, sharex=True, gridspec_kw={\n",
    "             \"height_ratios\": (.15, .85, .15, .85),\n",
    "             \"width_ratios\": (.5, .5)\n",
    "         })\n",
    "    \n",
    "aligner = get_aligner()\n",
    "\n",
    "ax_box = axes[0,0]\n",
    "ax_hist = axes[1,0]\n",
    "df_ax1 = get_jaspar_matches(df_low_shuffled[:limit])\n",
    "plot_helper(df_ax1, ax_box, ax_hist)\n",
    "\n",
    "ax_box = axes[2,0]\n",
    "ax_hist = axes[3,0]\n",
    "df_ax1 = get_jaspar_matches(df_high_shuffled[:limit])\n",
    "plot_helper(df_ax1, ax_box, ax_hist)\n",
    "\n",
    "\n",
    "aligner = get_aligner(-100)\n",
    "\n",
    "ax_box = axes[0,1]\n",
    "ax_hist = axes[1,1]\n",
    "df_ax1 = get_jaspar_matches(df_low_shuffled[:limit])\n",
    "plot_helper(df_ax1, ax_box, ax_hist)\n",
    "\n",
    "ax_box = axes[2,1]\n",
    "ax_hist = axes[3,1]\n",
    "df_ax1 = get_jaspar_matches(df_high_shuffled[:limit])\n",
    "plot_helper(df_ax1, ax_box, ax_hist)\n",
    "\n",
    "sm = plt.cm.ScalarMappable(norm, cmap=palette)\n",
    "\n",
    "fig.colorbar(sm, ax=axes).ax.set_title(\"Degen score\")\n",
    "\n",
    "plt.suptitle(\"SHUFFLED Histogram of putative motifs, scored to JASPAR motifs\")\n",
    "axes[0,0].set_title('Low confidence, gap_score = -2.5')\n",
    "axes[2,0].set_title('High confidence, gap_score = -2.5')\n",
    "axes[0,1].set_title('Low confidence, gap_score = -100')\n",
    "axes[2,1].set_title('High confidence, gap_score = -100')\n",
    "plt.show()"
   ]
  },
  {
   "cell_type": "markdown",
   "metadata": {},
   "source": [
    "## Jaspar motifs and degen"
   ]
  },
  {
   "cell_type": "code",
   "execution_count": 44,
   "metadata": {},
   "outputs": [
    {
     "data": {
      "text/plain": [
       "2.8990036231884058"
      ]
     },
     "execution_count": 44,
     "metadata": {},
     "output_type": "execute_result"
    }
   ],
   "source": [
    "get_jaspar_matches(df_high).degen.mean()"
   ]
  },
  {
   "cell_type": "code",
   "execution_count": 45,
   "metadata": {},
   "outputs": [
    {
     "data": {
      "text/plain": [
       "15.36531007751938"
      ]
     },
     "execution_count": 45,
     "metadata": {},
     "output_type": "execute_result"
    }
   ],
   "source": [
    "get_jaspar_matches(df_low).degen.mean()"
   ]
  },
  {
   "cell_type": "code",
   "execution_count": 46,
   "metadata": {},
   "outputs": [],
   "source": [
    "def plot_degen(df):\n",
    "    df = get_jaspar_matches(df)\n",
    "    sns.histplot(data=df, x=\"match_score\", hue=\"degen\")"
   ]
  },
  {
   "cell_type": "code",
   "execution_count": 47,
   "metadata": {},
   "outputs": [
    {
     "data": {
      "text/html": [
       "<div>\n",
       "<style scoped>\n",
       "    .dataframe tbody tr th:only-of-type {\n",
       "        vertical-align: middle;\n",
       "    }\n",
       "\n",
       "    .dataframe tbody tr th {\n",
       "        vertical-align: top;\n",
       "    }\n",
       "\n",
       "    .dataframe thead th {\n",
       "        text-align: right;\n",
       "    }\n",
       "</style>\n",
       "<table border=\"1\" class=\"dataframe\">\n",
       "  <thead>\n",
       "    <tr style=\"text-align: right;\">\n",
       "      <th></th>\n",
       "      <th>jaspar_motif</th>\n",
       "      <th>match_score</th>\n",
       "    </tr>\n",
       "  </thead>\n",
       "  <tbody>\n",
       "    <tr>\n",
       "      <th>0</th>\n",
       "      <td>AAATATCT</td>\n",
       "      <td>0.325</td>\n",
       "    </tr>\n",
       "    <tr>\n",
       "      <th>1</th>\n",
       "      <td>AACGGTCA</td>\n",
       "      <td>0.325</td>\n",
       "    </tr>\n",
       "    <tr>\n",
       "      <th>2</th>\n",
       "      <td>AAGATACG</td>\n",
       "      <td>0.225</td>\n",
       "    </tr>\n",
       "    <tr>\n",
       "      <th>3</th>\n",
       "      <td>AATGATTG</td>\n",
       "      <td>0.550</td>\n",
       "    </tr>\n",
       "    <tr>\n",
       "      <th>4</th>\n",
       "      <td>ACACGCAA</td>\n",
       "      <td>0.550</td>\n",
       "    </tr>\n",
       "    <tr>\n",
       "      <th>...</th>\n",
       "      <td>...</td>\n",
       "      <td>...</td>\n",
       "    </tr>\n",
       "    <tr>\n",
       "      <th>66</th>\n",
       "      <td>TTGCGTRT</td>\n",
       "      <td>0.575</td>\n",
       "    </tr>\n",
       "    <tr>\n",
       "      <th>67</th>\n",
       "      <td>WRMCCTAR</td>\n",
       "      <td>0.600</td>\n",
       "    </tr>\n",
       "    <tr>\n",
       "      <th>68</th>\n",
       "      <td>YAACCGMC</td>\n",
       "      <td>0.250</td>\n",
       "    </tr>\n",
       "    <tr>\n",
       "      <th>69</th>\n",
       "      <td>YAATCATK</td>\n",
       "      <td>0.475</td>\n",
       "    </tr>\n",
       "    <tr>\n",
       "      <th>70</th>\n",
       "      <td>YACGTAAY</td>\n",
       "      <td>0.275</td>\n",
       "    </tr>\n",
       "  </tbody>\n",
       "</table>\n",
       "<p>71 rows × 2 columns</p>\n",
       "</div>"
      ],
      "text/plain": [
       "   jaspar_motif  match_score\n",
       "0      AAATATCT        0.325\n",
       "1      AACGGTCA        0.325\n",
       "2      AAGATACG        0.225\n",
       "3      AATGATTG        0.550\n",
       "4      ACACGCAA        0.550\n",
       "..          ...          ...\n",
       "66     TTGCGTRT        0.575\n",
       "67     WRMCCTAR        0.600\n",
       "68     YAACCGMC        0.250\n",
       "69     YAATCATK        0.475\n",
       "70     YACGTAAY        0.275\n",
       "\n",
       "[71 rows x 2 columns]"
      ]
     },
     "execution_count": 47,
     "metadata": {},
     "output_type": "execute_result"
    }
   ],
   "source": [
    "bla = get_jaspar_matches(df_high).groupby(\"jaspar_motif\").agg({'match_score': \"max\"}).reset_index()\n",
    "bla"
   ]
  },
  {
   "cell_type": "code",
   "execution_count": 48,
   "metadata": {},
   "outputs": [
    {
     "name": "stdout",
     "output_type": "stream",
     "text": [
      "Fraction of matches > 0.8: 0.009510869565217392\n",
      "Fraction of jaspar motifs matched > 0.8: 0.009433962264150943\n"
     ]
    },
    {
     "data": {
      "image/png": "[encoded data removed]",
      "text/plain": [
       "<Figure size 432x288 with 3 Axes>"
      ]
     },
     "metadata": {
      "needs_background": "light"
     },
     "output_type": "display_data"
    }
   ],
   "source": [
    "plot_jaspar_matches(df_high)"
   ]
  },
  {
   "cell_type": "code",
   "execution_count": 49,
   "metadata": {},
   "outputs": [
    {
     "name": "stdout",
     "output_type": "stream",
     "text": [
      "Fraction of matches > 0.8: 0.0\n",
      "Fraction of jaspar motifs matched > 0.8: 0.0\n"
     ]
    },
    {
     "data": {
      "image/png": "[encoded data removed]",
      "text/plain": [
       "<Figure size 432x288 with 3 Axes>"
      ]
     },
     "metadata": {
      "needs_background": "light"
     },
     "output_type": "display_data"
    }
   ],
   "source": [
    "plot_jaspar_matches(df_low)"
   ]
  },
  {
   "cell_type": "markdown",
   "metadata": {},
   "source": [
    "Skew for high to right.\n",
    "Low distributed around 0.5."
   ]
  },
  {
   "cell_type": "code",
   "execution_count": 50,
   "metadata": {},
   "outputs": [
    {
     "data": {
      "text/html": [
       "<div>\n",
       "<style scoped>\n",
       "    .dataframe tbody tr th:only-of-type {\n",
       "        vertical-align: middle;\n",
       "    }\n",
       "\n",
       "    .dataframe tbody tr th {\n",
       "        vertical-align: top;\n",
       "    }\n",
       "\n",
       "    .dataframe thead th {\n",
       "        text-align: right;\n",
       "    }\n",
       "</style>\n",
       "<table border=\"1\" class=\"dataframe\">\n",
       "  <thead>\n",
       "    <tr style=\"text-align: right;\">\n",
       "      <th></th>\n",
       "      <th>match_score</th>\n",
       "      <th>jaspar_motif</th>\n",
       "      <th>motif</th>\n",
       "      <th>degen</th>\n",
       "      <th>jaspar_degen</th>\n",
       "    </tr>\n",
       "  </thead>\n",
       "  <tbody>\n",
       "    <tr>\n",
       "      <th>1112554</th>\n",
       "      <td>0.9</td>\n",
       "      <td>CTGCATGC</td>\n",
       "      <td>CTGCAWGC</td>\n",
       "      <td>2</td>\n",
       "      <td>1</td>\n",
       "    </tr>\n",
       "    <tr>\n",
       "      <th>601675</th>\n",
       "      <td>0.9</td>\n",
       "      <td>CTGCATGC</td>\n",
       "      <td>CTGCATGY</td>\n",
       "      <td>2</td>\n",
       "      <td>1</td>\n",
       "    </tr>\n",
       "    <tr>\n",
       "      <th>769269</th>\n",
       "      <td>0.9</td>\n",
       "      <td>CTGCATGC</td>\n",
       "      <td>CTGCAYGC</td>\n",
       "      <td>2</td>\n",
       "      <td>1</td>\n",
       "    </tr>\n",
       "    <tr>\n",
       "      <th>1112524</th>\n",
       "      <td>0.9</td>\n",
       "      <td>CTGCATGC</td>\n",
       "      <td>CWGCATGC</td>\n",
       "      <td>2</td>\n",
       "      <td>1</td>\n",
       "    </tr>\n",
       "    <tr>\n",
       "      <th>1466950</th>\n",
       "      <td>0.9</td>\n",
       "      <td>CTGCATGC</td>\n",
       "      <td>CTGCAKGC</td>\n",
       "      <td>2</td>\n",
       "      <td>1</td>\n",
       "    </tr>\n",
       "    <tr>\n",
       "      <th>...</th>\n",
       "      <td>...</td>\n",
       "      <td>...</td>\n",
       "      <td>...</td>\n",
       "      <td>...</td>\n",
       "      <td>...</td>\n",
       "    </tr>\n",
       "    <tr>\n",
       "      <th>1383908</th>\n",
       "      <td>0.1</td>\n",
       "      <td>CCTCGTAC</td>\n",
       "      <td>CATGGCAK</td>\n",
       "      <td>2</td>\n",
       "      <td>1</td>\n",
       "    </tr>\n",
       "    <tr>\n",
       "      <th>963108</th>\n",
       "      <td>0.1</td>\n",
       "      <td>CCTCGTAC</td>\n",
       "      <td>CATGGCAW</td>\n",
       "      <td>2</td>\n",
       "      <td>1</td>\n",
       "    </tr>\n",
       "    <tr>\n",
       "      <th>1450634</th>\n",
       "      <td>0.1</td>\n",
       "      <td>GCCGACAT</td>\n",
       "      <td>GRCGGCGG</td>\n",
       "      <td>2</td>\n",
       "      <td>1</td>\n",
       "    </tr>\n",
       "    <tr>\n",
       "      <th>88047</th>\n",
       "      <td>0.1</td>\n",
       "      <td>GCCGACAT</td>\n",
       "      <td>GKCGGCGG</td>\n",
       "      <td>2</td>\n",
       "      <td>1</td>\n",
       "    </tr>\n",
       "    <tr>\n",
       "      <th>199571</th>\n",
       "      <td>0.1</td>\n",
       "      <td>CCTCGTAC</td>\n",
       "      <td>CATGGCAD</td>\n",
       "      <td>3</td>\n",
       "      <td>1</td>\n",
       "    </tr>\n",
       "  </tbody>\n",
       "</table>\n",
       "<p>2208 rows × 5 columns</p>\n",
       "</div>"
      ],
      "text/plain": [
       "         match_score jaspar_motif     motif  degen  jaspar_degen\n",
       "1112554          0.9     CTGCATGC  CTGCAWGC      2             1\n",
       "601675           0.9     CTGCATGC  CTGCATGY      2             1\n",
       "769269           0.9     CTGCATGC  CTGCAYGC      2             1\n",
       "1112524          0.9     CTGCATGC  CWGCATGC      2             1\n",
       "1466950          0.9     CTGCATGC  CTGCAKGC      2             1\n",
       "...              ...          ...       ...    ...           ...\n",
       "1383908          0.1     CCTCGTAC  CATGGCAK      2             1\n",
       "963108           0.1     CCTCGTAC  CATGGCAW      2             1\n",
       "1450634          0.1     GCCGACAT  GRCGGCGG      2             1\n",
       "88047            0.1     GCCGACAT  GKCGGCGG      2             1\n",
       "199571           0.1     CCTCGTAC  CATGGCAD      3             1\n",
       "\n",
       "[2208 rows x 5 columns]"
      ]
     },
     "execution_count": 50,
     "metadata": {},
     "output_type": "execute_result"
    }
   ],
   "source": [
    "get_jaspar_matches(df_high)"
   ]
  },
  {
   "cell_type": "code",
   "execution_count": 51,
   "metadata": {},
   "outputs": [
    {
     "data": {
      "text/html": [
       "<div>\n",
       "<style scoped>\n",
       "    .dataframe tbody tr th:only-of-type {\n",
       "        vertical-align: middle;\n",
       "    }\n",
       "\n",
       "    .dataframe tbody tr th {\n",
       "        vertical-align: top;\n",
       "    }\n",
       "\n",
       "    .dataframe thead th {\n",
       "        text-align: right;\n",
       "    }\n",
       "</style>\n",
       "<table border=\"1\" class=\"dataframe\">\n",
       "  <thead>\n",
       "    <tr style=\"text-align: right;\">\n",
       "      <th></th>\n",
       "      <th>match_score</th>\n",
       "      <th>jaspar_motif</th>\n",
       "      <th>motif</th>\n",
       "      <th>degen</th>\n",
       "      <th>jaspar_degen</th>\n",
       "    </tr>\n",
       "  </thead>\n",
       "  <tbody>\n",
       "    <tr>\n",
       "      <th>241366</th>\n",
       "      <td>0.750</td>\n",
       "      <td>GTTAACCA</td>\n",
       "      <td>RBTAACCA</td>\n",
       "      <td>6</td>\n",
       "      <td>1</td>\n",
       "    </tr>\n",
       "    <tr>\n",
       "      <th>155007</th>\n",
       "      <td>0.700</td>\n",
       "      <td>TAACCGTT</td>\n",
       "      <td>YAWCCGKT</td>\n",
       "      <td>8</td>\n",
       "      <td>1</td>\n",
       "    </tr>\n",
       "    <tr>\n",
       "      <th>1184203</th>\n",
       "      <td>0.675</td>\n",
       "      <td>TAACCGTT</td>\n",
       "      <td>TAACSGTG</td>\n",
       "      <td>2</td>\n",
       "      <td>1</td>\n",
       "    </tr>\n",
       "    <tr>\n",
       "      <th>449437</th>\n",
       "      <td>0.650</td>\n",
       "      <td>CGTTGACC</td>\n",
       "      <td>CGTTRAYB</td>\n",
       "      <td>12</td>\n",
       "      <td>1</td>\n",
       "    </tr>\n",
       "    <tr>\n",
       "      <th>44186</th>\n",
       "      <td>0.650</td>\n",
       "      <td>GTTAGGTA</td>\n",
       "      <td>STTAGKHA</td>\n",
       "      <td>12</td>\n",
       "      <td>1</td>\n",
       "    </tr>\n",
       "    <tr>\n",
       "      <th>...</th>\n",
       "      <td>...</td>\n",
       "      <td>...</td>\n",
       "      <td>...</td>\n",
       "      <td>...</td>\n",
       "      <td>...</td>\n",
       "    </tr>\n",
       "    <tr>\n",
       "      <th>461634</th>\n",
       "      <td>-0.025</td>\n",
       "      <td>TGTACGGA</td>\n",
       "      <td>YRCAGBGT</td>\n",
       "      <td>12</td>\n",
       "      <td>1</td>\n",
       "    </tr>\n",
       "    <tr>\n",
       "      <th>136727</th>\n",
       "      <td>-0.025</td>\n",
       "      <td>ATGTCGGY</td>\n",
       "      <td>DTCYTRGG</td>\n",
       "      <td>12</td>\n",
       "      <td>2</td>\n",
       "    </tr>\n",
       "    <tr>\n",
       "      <th>330563</th>\n",
       "      <td>-0.025</td>\n",
       "      <td>GTRATTAR</td>\n",
       "      <td>GTSTDAVG</td>\n",
       "      <td>18</td>\n",
       "      <td>4</td>\n",
       "    </tr>\n",
       "    <tr>\n",
       "      <th>12039</th>\n",
       "      <td>-0.025</td>\n",
       "      <td>YACGTAAY</td>\n",
       "      <td>ARGGKGAN</td>\n",
       "      <td>16</td>\n",
       "      <td>4</td>\n",
       "    </tr>\n",
       "    <tr>\n",
       "      <th>112891</th>\n",
       "      <td>-0.075</td>\n",
       "      <td>TAACCGTT</td>\n",
       "      <td>WATCVCGH</td>\n",
       "      <td>18</td>\n",
       "      <td>1</td>\n",
       "    </tr>\n",
       "  </tbody>\n",
       "</table>\n",
       "<p>2064 rows × 5 columns</p>\n",
       "</div>"
      ],
      "text/plain": [
       "         match_score jaspar_motif     motif  degen  jaspar_degen\n",
       "241366         0.750     GTTAACCA  RBTAACCA      6             1\n",
       "155007         0.700     TAACCGTT  YAWCCGKT      8             1\n",
       "1184203        0.675     TAACCGTT  TAACSGTG      2             1\n",
       "449437         0.650     CGTTGACC  CGTTRAYB     12             1\n",
       "44186          0.650     GTTAGGTA  STTAGKHA     12             1\n",
       "...              ...          ...       ...    ...           ...\n",
       "461634        -0.025     TGTACGGA  YRCAGBGT     12             1\n",
       "136727        -0.025     ATGTCGGY  DTCYTRGG     12             2\n",
       "330563        -0.025     GTRATTAR  GTSTDAVG     18             4\n",
       "12039         -0.025     YACGTAAY  ARGGKGAN     16             4\n",
       "112891        -0.075     TAACCGTT  WATCVCGH     18             1\n",
       "\n",
       "[2064 rows x 5 columns]"
      ]
     },
     "execution_count": 51,
     "metadata": {},
     "output_type": "execute_result"
    }
   ],
   "source": [
    "get_jaspar_matches(df_low)"
   ]
  },
  {
   "cell_type": "markdown",
   "metadata": {},
   "source": [
    "Disallowing gaps heavily impacts the less degenerated high, but the top hits do remain."
   ]
  },
  {
   "cell_type": "code",
   "execution_count": 52,
   "metadata": {},
   "outputs": [],
   "source": [
    "aligner = get_aligner(-100)"
   ]
  },
  {
   "cell_type": "code",
   "execution_count": 53,
   "metadata": {},
   "outputs": [
    {
     "name": "stdout",
     "output_type": "stream",
     "text": [
      "Fraction of matches > 0.8: 0.009510869565217392\n",
      "Fraction of jaspar motifs matched > 0.8: 0.009433962264150943\n"
     ]
    },
    {
     "data": {
      "image/png": "[encoded data removed]",
      "text/plain": [
       "<Figure size 432x288 with 3 Axes>"
      ]
     },
     "metadata": {
      "needs_background": "light"
     },
     "output_type": "display_data"
    }
   ],
   "source": [
    "plot_jaspar_matches(df_high)"
   ]
  },
  {
   "cell_type": "code",
   "execution_count": 54,
   "metadata": {},
   "outputs": [
    {
     "name": "stdout",
     "output_type": "stream",
     "text": [
      "Fraction of matches > 0.8: 0.0\n",
      "Fraction of jaspar motifs matched > 0.8: 0.0\n"
     ]
    },
    {
     "data": {
      "image/png": "[encoded data removed]",
      "text/plain": [
       "<Figure size 432x288 with 3 Axes>"
      ]
     },
     "metadata": {
      "needs_background": "light"
     },
     "output_type": "display_data"
    }
   ],
   "source": [
    "plot_jaspar_matches(df_low)"
   ]
  },
  {
   "cell_type": "code",
   "execution_count": 55,
   "metadata": {},
   "outputs": [
    {
     "data": {
      "text/html": [
       "<div>\n",
       "<style scoped>\n",
       "    .dataframe tbody tr th:only-of-type {\n",
       "        vertical-align: middle;\n",
       "    }\n",
       "\n",
       "    .dataframe tbody tr th {\n",
       "        vertical-align: top;\n",
       "    }\n",
       "\n",
       "    .dataframe thead th {\n",
       "        text-align: right;\n",
       "    }\n",
       "</style>\n",
       "<table border=\"1\" class=\"dataframe\">\n",
       "  <thead>\n",
       "    <tr style=\"text-align: right;\">\n",
       "      <th></th>\n",
       "      <th>match_score</th>\n",
       "      <th>jaspar_motif</th>\n",
       "      <th>motif</th>\n",
       "      <th>degen</th>\n",
       "      <th>jaspar_degen</th>\n",
       "    </tr>\n",
       "  </thead>\n",
       "  <tbody>\n",
       "    <tr>\n",
       "      <th>1112554</th>\n",
       "      <td>0.9</td>\n",
       "      <td>CTGCATGC</td>\n",
       "      <td>CTGCAWGC</td>\n",
       "      <td>2</td>\n",
       "      <td>1</td>\n",
       "    </tr>\n",
       "    <tr>\n",
       "      <th>601675</th>\n",
       "      <td>0.9</td>\n",
       "      <td>CTGCATGC</td>\n",
       "      <td>CTGCATGY</td>\n",
       "      <td>2</td>\n",
       "      <td>1</td>\n",
       "    </tr>\n",
       "    <tr>\n",
       "      <th>769269</th>\n",
       "      <td>0.9</td>\n",
       "      <td>CTGCATGC</td>\n",
       "      <td>CTGCAYGC</td>\n",
       "      <td>2</td>\n",
       "      <td>1</td>\n",
       "    </tr>\n",
       "    <tr>\n",
       "      <th>1112524</th>\n",
       "      <td>0.9</td>\n",
       "      <td>CTGCATGC</td>\n",
       "      <td>CWGCATGC</td>\n",
       "      <td>2</td>\n",
       "      <td>1</td>\n",
       "    </tr>\n",
       "    <tr>\n",
       "      <th>1466950</th>\n",
       "      <td>0.9</td>\n",
       "      <td>CTGCATGC</td>\n",
       "      <td>CTGCAKGC</td>\n",
       "      <td>2</td>\n",
       "      <td>1</td>\n",
       "    </tr>\n",
       "    <tr>\n",
       "      <th>...</th>\n",
       "      <td>...</td>\n",
       "      <td>...</td>\n",
       "      <td>...</td>\n",
       "      <td>...</td>\n",
       "      <td>...</td>\n",
       "    </tr>\n",
       "    <tr>\n",
       "      <th>1383908</th>\n",
       "      <td>0.1</td>\n",
       "      <td>CCTCGTAC</td>\n",
       "      <td>CATGGCAK</td>\n",
       "      <td>2</td>\n",
       "      <td>1</td>\n",
       "    </tr>\n",
       "    <tr>\n",
       "      <th>963108</th>\n",
       "      <td>0.1</td>\n",
       "      <td>CCTCGTAC</td>\n",
       "      <td>CATGGCAW</td>\n",
       "      <td>2</td>\n",
       "      <td>1</td>\n",
       "    </tr>\n",
       "    <tr>\n",
       "      <th>1450634</th>\n",
       "      <td>0.1</td>\n",
       "      <td>GCCGACAT</td>\n",
       "      <td>GRCGGCGG</td>\n",
       "      <td>2</td>\n",
       "      <td>1</td>\n",
       "    </tr>\n",
       "    <tr>\n",
       "      <th>88047</th>\n",
       "      <td>0.1</td>\n",
       "      <td>GCCGACAT</td>\n",
       "      <td>GKCGGCGG</td>\n",
       "      <td>2</td>\n",
       "      <td>1</td>\n",
       "    </tr>\n",
       "    <tr>\n",
       "      <th>199571</th>\n",
       "      <td>0.1</td>\n",
       "      <td>CCTCGTAC</td>\n",
       "      <td>CATGGCAD</td>\n",
       "      <td>3</td>\n",
       "      <td>1</td>\n",
       "    </tr>\n",
       "  </tbody>\n",
       "</table>\n",
       "<p>2208 rows × 5 columns</p>\n",
       "</div>"
      ],
      "text/plain": [
       "         match_score jaspar_motif     motif  degen  jaspar_degen\n",
       "1112554          0.9     CTGCATGC  CTGCAWGC      2             1\n",
       "601675           0.9     CTGCATGC  CTGCATGY      2             1\n",
       "769269           0.9     CTGCATGC  CTGCAYGC      2             1\n",
       "1112524          0.9     CTGCATGC  CWGCATGC      2             1\n",
       "1466950          0.9     CTGCATGC  CTGCAKGC      2             1\n",
       "...              ...          ...       ...    ...           ...\n",
       "1383908          0.1     CCTCGTAC  CATGGCAK      2             1\n",
       "963108           0.1     CCTCGTAC  CATGGCAW      2             1\n",
       "1450634          0.1     GCCGACAT  GRCGGCGG      2             1\n",
       "88047            0.1     GCCGACAT  GKCGGCGG      2             1\n",
       "199571           0.1     CCTCGTAC  CATGGCAD      3             1\n",
       "\n",
       "[2208 rows x 5 columns]"
      ]
     },
     "execution_count": 55,
     "metadata": {},
     "output_type": "execute_result"
    }
   ],
   "source": [
    "get_jaspar_matches(df_high)"
   ]
  },
  {
   "cell_type": "code",
   "execution_count": 56,
   "metadata": {},
   "outputs": [
    {
     "data": {
      "text/html": [
       "<div>\n",
       "<style scoped>\n",
       "    .dataframe tbody tr th:only-of-type {\n",
       "        vertical-align: middle;\n",
       "    }\n",
       "\n",
       "    .dataframe tbody tr th {\n",
       "        vertical-align: top;\n",
       "    }\n",
       "\n",
       "    .dataframe thead th {\n",
       "        text-align: right;\n",
       "    }\n",
       "</style>\n",
       "<table border=\"1\" class=\"dataframe\">\n",
       "  <thead>\n",
       "    <tr style=\"text-align: right;\">\n",
       "      <th></th>\n",
       "      <th>match_score</th>\n",
       "      <th>jaspar_motif</th>\n",
       "      <th>motif</th>\n",
       "      <th>degen</th>\n",
       "      <th>jaspar_degen</th>\n",
       "    </tr>\n",
       "  </thead>\n",
       "  <tbody>\n",
       "    <tr>\n",
       "      <th>241366</th>\n",
       "      <td>0.750</td>\n",
       "      <td>GTTAACCA</td>\n",
       "      <td>RBTAACCA</td>\n",
       "      <td>6</td>\n",
       "      <td>1</td>\n",
       "    </tr>\n",
       "    <tr>\n",
       "      <th>155007</th>\n",
       "      <td>0.700</td>\n",
       "      <td>TAACCGTT</td>\n",
       "      <td>YAWCCGKT</td>\n",
       "      <td>8</td>\n",
       "      <td>1</td>\n",
       "    </tr>\n",
       "    <tr>\n",
       "      <th>1184203</th>\n",
       "      <td>0.675</td>\n",
       "      <td>TAACCGTT</td>\n",
       "      <td>TAACSGTG</td>\n",
       "      <td>2</td>\n",
       "      <td>1</td>\n",
       "    </tr>\n",
       "    <tr>\n",
       "      <th>449437</th>\n",
       "      <td>0.650</td>\n",
       "      <td>CGTTGACC</td>\n",
       "      <td>CGTTRAYB</td>\n",
       "      <td>12</td>\n",
       "      <td>1</td>\n",
       "    </tr>\n",
       "    <tr>\n",
       "      <th>44186</th>\n",
       "      <td>0.650</td>\n",
       "      <td>GTTAGGTA</td>\n",
       "      <td>STTAGKHA</td>\n",
       "      <td>12</td>\n",
       "      <td>1</td>\n",
       "    </tr>\n",
       "    <tr>\n",
       "      <th>...</th>\n",
       "      <td>...</td>\n",
       "      <td>...</td>\n",
       "      <td>...</td>\n",
       "      <td>...</td>\n",
       "      <td>...</td>\n",
       "    </tr>\n",
       "    <tr>\n",
       "      <th>461634</th>\n",
       "      <td>-0.025</td>\n",
       "      <td>TGTACGGA</td>\n",
       "      <td>YRCAGBGT</td>\n",
       "      <td>12</td>\n",
       "      <td>1</td>\n",
       "    </tr>\n",
       "    <tr>\n",
       "      <th>136727</th>\n",
       "      <td>-0.025</td>\n",
       "      <td>ATGTCGGY</td>\n",
       "      <td>DTCYTRGG</td>\n",
       "      <td>12</td>\n",
       "      <td>2</td>\n",
       "    </tr>\n",
       "    <tr>\n",
       "      <th>330563</th>\n",
       "      <td>-0.025</td>\n",
       "      <td>GTRATTAR</td>\n",
       "      <td>GTSTDAVG</td>\n",
       "      <td>18</td>\n",
       "      <td>4</td>\n",
       "    </tr>\n",
       "    <tr>\n",
       "      <th>12039</th>\n",
       "      <td>-0.025</td>\n",
       "      <td>YACGTAAY</td>\n",
       "      <td>ARGGKGAN</td>\n",
       "      <td>16</td>\n",
       "      <td>4</td>\n",
       "    </tr>\n",
       "    <tr>\n",
       "      <th>112891</th>\n",
       "      <td>-0.075</td>\n",
       "      <td>TAACCGTT</td>\n",
       "      <td>WATCVCGH</td>\n",
       "      <td>18</td>\n",
       "      <td>1</td>\n",
       "    </tr>\n",
       "  </tbody>\n",
       "</table>\n",
       "<p>2064 rows × 5 columns</p>\n",
       "</div>"
      ],
      "text/plain": [
       "         match_score jaspar_motif     motif  degen  jaspar_degen\n",
       "241366         0.750     GTTAACCA  RBTAACCA      6             1\n",
       "155007         0.700     TAACCGTT  YAWCCGKT      8             1\n",
       "1184203        0.675     TAACCGTT  TAACSGTG      2             1\n",
       "449437         0.650     CGTTGACC  CGTTRAYB     12             1\n",
       "44186          0.650     GTTAGGTA  STTAGKHA     12             1\n",
       "...              ...          ...       ...    ...           ...\n",
       "461634        -0.025     TGTACGGA  YRCAGBGT     12             1\n",
       "136727        -0.025     ATGTCGGY  DTCYTRGG     12             2\n",
       "330563        -0.025     GTRATTAR  GTSTDAVG     18             4\n",
       "12039         -0.025     YACGTAAY  ARGGKGAN     16             4\n",
       "112891        -0.075     TAACCGTT  WATCVCGH     18             1\n",
       "\n",
       "[2064 rows x 5 columns]"
      ]
     },
     "execution_count": 56,
     "metadata": {},
     "output_type": "execute_result"
    }
   ],
   "source": [
    "get_jaspar_matches(df_low)"
   ]
  },
  {
   "cell_type": "code",
   "execution_count": 57,
   "metadata": {},
   "outputs": [],
   "source": [
    "def degen_fraction(df):\n",
    "    return df.motif.str.replace(\"[ACGT]\", \"\").str.len() / df.motif.str.len()"
   ]
  },
  {
   "cell_type": "code",
   "execution_count": 58,
   "metadata": {},
   "outputs": [
    {
     "data": {
      "text/plain": [
       "5          0.375\n",
       "818        0.375\n",
       "819        0.375\n",
       "820        0.375\n",
       "821        0.375\n",
       "           ...  \n",
       "1605579    0.375\n",
       "1607031    0.375\n",
       "1607971    0.375\n",
       "1609697    0.375\n",
       "1609698    0.375\n",
       "Name: motif, Length: 2064, dtype: float64"
      ]
     },
     "execution_count": 58,
     "metadata": {},
     "output_type": "execute_result"
    }
   ],
   "source": [
    "df_low_degen = degen_fraction(df_low)\n",
    "df_low_degen"
   ]
  },
  {
   "cell_type": "code",
   "execution_count": 59,
   "metadata": {},
   "outputs": [
    {
     "data": {
      "text/plain": [
       "<AxesSubplot:>"
      ]
     },
     "execution_count": 59,
     "metadata": {},
     "output_type": "execute_result"
    },
    {
     "data": {
      "image/png": "[encoded data removed]",
      "text/plain": [
       "<Figure size 432x288 with 1 Axes>"
      ]
     },
     "metadata": {
      "needs_background": "light"
     },
     "output_type": "display_data"
    }
   ],
   "source": [
    "df_low_degen.hist()"
   ]
  },
  {
   "cell_type": "code",
   "execution_count": 60,
   "metadata": {},
   "outputs": [
    {
     "data": {
      "text/plain": [
       "<AxesSubplot:>"
      ]
     },
     "execution_count": 60,
     "metadata": {},
     "output_type": "execute_result"
    },
    {
     "data": {
      "image/png": "[encoded data removed]",
      "text/plain": [
       "<Figure size 432x288 with 1 Axes>"
      ]
     },
     "metadata": {
      "needs_background": "light"
     },
     "output_type": "display_data"
    }
   ],
   "source": [
    "degen_fraction(df_high).hist()"
   ]
  },
  {
   "cell_type": "markdown",
   "metadata": {},
   "source": [
    "## Orthogroups"
   ]
  },
  {
   "cell_type": "code",
   "execution_count": 61,
   "metadata": {},
   "outputs": [
    {
     "data": {
      "text/plain": [
       "array([[<AxesSubplot:title={'center':'C07'}>,\n",
       "        <AxesSubplot:title={'center':'C13'}>],\n",
       "       [<AxesSubplot:title={'center':'C41'}>,\n",
       "        <AxesSubplot:title={'center':'C54'}>],\n",
       "       [<AxesSubplot:title={'center':'C95'}>, <AxesSubplot:>]],\n",
       "      dtype=object)"
      ]
     },
     "execution_count": 61,
     "metadata": {},
     "output_type": "execute_result"
    },
    {
     "data": {
      "image/png": "[encoded data removed]",
      "text/plain": [
       "<Figure size 432x288 with 6 Axes>"
      ]
     },
     "metadata": {
      "needs_background": "light"
     },
     "output_type": "display_data"
    }
   ],
   "source": [
    "df_high[bls_count_names].hist()"
   ]
  },
  {
   "cell_type": "code",
   "execution_count": 62,
   "metadata": {},
   "outputs": [
    {
     "data": {
      "text/plain": [
       "array([[<AxesSubplot:title={'center':'C07'}>,\n",
       "        <AxesSubplot:title={'center':'C13'}>],\n",
       "       [<AxesSubplot:title={'center':'C41'}>,\n",
       "        <AxesSubplot:title={'center':'C54'}>],\n",
       "       [<AxesSubplot:title={'center':'C95'}>, <AxesSubplot:>]],\n",
       "      dtype=object)"
      ]
     },
     "execution_count": 62,
     "metadata": {},
     "output_type": "execute_result"
    },
    {
     "data": {
      "image/png": "[encoded data removed]",
      "text/plain": [
       "<Figure size 432x288 with 6 Axes>"
      ]
     },
     "metadata": {
      "needs_background": "light"
     },
     "output_type": "display_data"
    }
   ],
   "source": [
    "df_low[bls_count_names].hist()"
   ]
  },
  {
   "cell_type": "code",
   "execution_count": 63,
   "metadata": {},
   "outputs": [
    {
     "data": {
      "text/html": [
       "<div>\n",
       "<style scoped>\n",
       "    .dataframe tbody tr th:only-of-type {\n",
       "        vertical-align: middle;\n",
       "    }\n",
       "\n",
       "    .dataframe tbody tr th {\n",
       "        vertical-align: top;\n",
       "    }\n",
       "\n",
       "    .dataframe thead th {\n",
       "        text-align: right;\n",
       "    }\n",
       "</style>\n",
       "<table border=\"1\" class=\"dataframe\">\n",
       "  <thead>\n",
       "    <tr style=\"text-align: right;\">\n",
       "      <th></th>\n",
       "      <th>match_score</th>\n",
       "      <th>jaspar_motif</th>\n",
       "      <th>motif</th>\n",
       "      <th>degen_x</th>\n",
       "      <th>jaspar_degen</th>\n",
       "      <th>C07</th>\n",
       "      <th>C13</th>\n",
       "      <th>C41</th>\n",
       "      <th>C54</th>\n",
       "      <th>C95</th>\n",
       "      <th>T07</th>\n",
       "      <th>T13</th>\n",
       "      <th>T41</th>\n",
       "      <th>T54</th>\n",
       "      <th>T95</th>\n",
       "      <th>degen_y</th>\n",
       "    </tr>\n",
       "  </thead>\n",
       "  <tbody>\n",
       "    <tr>\n",
       "      <th>0</th>\n",
       "      <td>0.9</td>\n",
       "      <td>CTGCATGC</td>\n",
       "      <td>CTGCAWGC</td>\n",
       "      <td>2</td>\n",
       "      <td>1</td>\n",
       "      <td>19456</td>\n",
       "      <td>19079</td>\n",
       "      <td>14370</td>\n",
       "      <td>10809</td>\n",
       "      <td>1176</td>\n",
       "      <td>0.232936</td>\n",
       "      <td>0.310027</td>\n",
       "      <td>0.718580</td>\n",
       "      <td>0.828569</td>\n",
       "      <td>0.914116</td>\n",
       "      <td>2</td>\n",
       "    </tr>\n",
       "    <tr>\n",
       "      <th>1</th>\n",
       "      <td>0.9</td>\n",
       "      <td>CTGCATGC</td>\n",
       "      <td>CTGCATGY</td>\n",
       "      <td>2</td>\n",
       "      <td>1</td>\n",
       "      <td>19647</td>\n",
       "      <td>19265</td>\n",
       "      <td>15099</td>\n",
       "      <td>11628</td>\n",
       "      <td>1541</td>\n",
       "      <td>0.195297</td>\n",
       "      <td>0.255801</td>\n",
       "      <td>0.651964</td>\n",
       "      <td>0.781390</td>\n",
       "      <td>0.914341</td>\n",
       "      <td>2</td>\n",
       "    </tr>\n",
       "    <tr>\n",
       "      <th>2</th>\n",
       "      <td>0.9</td>\n",
       "      <td>CTGCATGC</td>\n",
       "      <td>CTGCAYGC</td>\n",
       "      <td>2</td>\n",
       "      <td>1</td>\n",
       "      <td>18964</td>\n",
       "      <td>18440</td>\n",
       "      <td>12820</td>\n",
       "      <td>9173</td>\n",
       "      <td>942</td>\n",
       "      <td>0.207551</td>\n",
       "      <td>0.282267</td>\n",
       "      <td>0.683463</td>\n",
       "      <td>0.798975</td>\n",
       "      <td>0.889597</td>\n",
       "      <td>2</td>\n",
       "    </tr>\n",
       "    <tr>\n",
       "      <th>3</th>\n",
       "      <td>0.9</td>\n",
       "      <td>CTGCATGC</td>\n",
       "      <td>CWGCATGC</td>\n",
       "      <td>2</td>\n",
       "      <td>1</td>\n",
       "      <td>19259</td>\n",
       "      <td>18837</td>\n",
       "      <td>13713</td>\n",
       "      <td>9995</td>\n",
       "      <td>1082</td>\n",
       "      <td>0.225090</td>\n",
       "      <td>0.301163</td>\n",
       "      <td>0.705097</td>\n",
       "      <td>0.814607</td>\n",
       "      <td>0.906654</td>\n",
       "      <td>2</td>\n",
       "    </tr>\n",
       "    <tr>\n",
       "      <th>4</th>\n",
       "      <td>0.9</td>\n",
       "      <td>CTGCATGC</td>\n",
       "      <td>CTGCAKGC</td>\n",
       "      <td>2</td>\n",
       "      <td>1</td>\n",
       "      <td>19171</td>\n",
       "      <td>18689</td>\n",
       "      <td>13286</td>\n",
       "      <td>9580</td>\n",
       "      <td>966</td>\n",
       "      <td>0.217829</td>\n",
       "      <td>0.293916</td>\n",
       "      <td>0.697426</td>\n",
       "      <td>0.809290</td>\n",
       "      <td>0.895445</td>\n",
       "      <td>2</td>\n",
       "    </tr>\n",
       "    <tr>\n",
       "      <th>...</th>\n",
       "      <td>...</td>\n",
       "      <td>...</td>\n",
       "      <td>...</td>\n",
       "      <td>...</td>\n",
       "      <td>...</td>\n",
       "      <td>...</td>\n",
       "      <td>...</td>\n",
       "      <td>...</td>\n",
       "      <td>...</td>\n",
       "      <td>...</td>\n",
       "      <td>...</td>\n",
       "      <td>...</td>\n",
       "      <td>...</td>\n",
       "      <td>...</td>\n",
       "      <td>...</td>\n",
       "      <td>...</td>\n",
       "    </tr>\n",
       "    <tr>\n",
       "      <th>2203</th>\n",
       "      <td>0.1</td>\n",
       "      <td>CCTCGTAC</td>\n",
       "      <td>CATGGCAK</td>\n",
       "      <td>2</td>\n",
       "      <td>1</td>\n",
       "      <td>19620</td>\n",
       "      <td>19260</td>\n",
       "      <td>14792</td>\n",
       "      <td>11089</td>\n",
       "      <td>1095</td>\n",
       "      <td>0.214118</td>\n",
       "      <td>0.283074</td>\n",
       "      <td>0.685844</td>\n",
       "      <td>0.800884</td>\n",
       "      <td>0.894977</td>\n",
       "      <td>2</td>\n",
       "    </tr>\n",
       "    <tr>\n",
       "      <th>2204</th>\n",
       "      <td>0.1</td>\n",
       "      <td>CCTCGTAC</td>\n",
       "      <td>CATGGCAW</td>\n",
       "      <td>2</td>\n",
       "      <td>1</td>\n",
       "      <td>19936</td>\n",
       "      <td>19671</td>\n",
       "      <td>15969</td>\n",
       "      <td>12444</td>\n",
       "      <td>1359</td>\n",
       "      <td>0.199539</td>\n",
       "      <td>0.264603</td>\n",
       "      <td>0.658338</td>\n",
       "      <td>0.782867</td>\n",
       "      <td>0.896247</td>\n",
       "      <td>2</td>\n",
       "    </tr>\n",
       "    <tr>\n",
       "      <th>2205</th>\n",
       "      <td>0.1</td>\n",
       "      <td>GCCGACAT</td>\n",
       "      <td>GRCGGCGG</td>\n",
       "      <td>2</td>\n",
       "      <td>1</td>\n",
       "      <td>20512</td>\n",
       "      <td>20306</td>\n",
       "      <td>18252</td>\n",
       "      <td>15656</td>\n",
       "      <td>2862</td>\n",
       "      <td>0.147523</td>\n",
       "      <td>0.188811</td>\n",
       "      <td>0.572540</td>\n",
       "      <td>0.724259</td>\n",
       "      <td>0.921034</td>\n",
       "      <td>2</td>\n",
       "    </tr>\n",
       "    <tr>\n",
       "      <th>2206</th>\n",
       "      <td>0.1</td>\n",
       "      <td>GCCGACAT</td>\n",
       "      <td>GKCGGCGG</td>\n",
       "      <td>2</td>\n",
       "      <td>1</td>\n",
       "      <td>20363</td>\n",
       "      <td>20130</td>\n",
       "      <td>17622</td>\n",
       "      <td>14718</td>\n",
       "      <td>2381</td>\n",
       "      <td>0.151206</td>\n",
       "      <td>0.196920</td>\n",
       "      <td>0.571672</td>\n",
       "      <td>0.723332</td>\n",
       "      <td>0.906762</td>\n",
       "      <td>2</td>\n",
       "    </tr>\n",
       "    <tr>\n",
       "      <th>2207</th>\n",
       "      <td>0.1</td>\n",
       "      <td>CCTCGTAC</td>\n",
       "      <td>CATGGCAD</td>\n",
       "      <td>3</td>\n",
       "      <td>1</td>\n",
       "      <td>20537</td>\n",
       "      <td>20337</td>\n",
       "      <td>18238</td>\n",
       "      <td>15660</td>\n",
       "      <td>2630</td>\n",
       "      <td>0.131421</td>\n",
       "      <td>0.168117</td>\n",
       "      <td>0.509979</td>\n",
       "      <td>0.666092</td>\n",
       "      <td>0.884411</td>\n",
       "      <td>3</td>\n",
       "    </tr>\n",
       "  </tbody>\n",
       "</table>\n",
       "<p>2208 rows × 16 columns</p>\n",
       "</div>"
      ],
      "text/plain": [
       "      match_score jaspar_motif     motif  degen_x  jaspar_degen    C07    C13  \\\n",
       "0             0.9     CTGCATGC  CTGCAWGC        2             1  19456  19079   \n",
       "1             0.9     CTGCATGC  CTGCATGY        2             1  19647  19265   \n",
       "2             0.9     CTGCATGC  CTGCAYGC        2             1  18964  18440   \n",
       "3             0.9     CTGCATGC  CWGCATGC        2             1  19259  18837   \n",
       "4             0.9     CTGCATGC  CTGCAKGC        2             1  19171  18689   \n",
       "...           ...          ...       ...      ...           ...    ...    ...   \n",
       "2203          0.1     CCTCGTAC  CATGGCAK        2             1  19620  19260   \n",
       "2204          0.1     CCTCGTAC  CATGGCAW        2             1  19936  19671   \n",
       "2205          0.1     GCCGACAT  GRCGGCGG        2             1  20512  20306   \n",
       "2206          0.1     GCCGACAT  GKCGGCGG        2             1  20363  20130   \n",
       "2207          0.1     CCTCGTAC  CATGGCAD        3             1  20537  20337   \n",
       "\n",
       "        C41    C54   C95       T07       T13       T41       T54       T95  \\\n",
       "0     14370  10809  1176  0.232936  0.310027  0.718580  0.828569  0.914116   \n",
       "1     15099  11628  1541  0.195297  0.255801  0.651964  0.781390  0.914341   \n",
       "2     12820   9173   942  0.207551  0.282267  0.683463  0.798975  0.889597   \n",
       "3     13713   9995  1082  0.225090  0.301163  0.705097  0.814607  0.906654   \n",
       "4     13286   9580   966  0.217829  0.293916  0.697426  0.809290  0.895445   \n",
       "...     ...    ...   ...       ...       ...       ...       ...       ...   \n",
       "2203  14792  11089  1095  0.214118  0.283074  0.685844  0.800884  0.894977   \n",
       "2204  15969  12444  1359  0.199539  0.264603  0.658338  0.782867  0.896247   \n",
       "2205  18252  15656  2862  0.147523  0.188811  0.572540  0.724259  0.921034   \n",
       "2206  17622  14718  2381  0.151206  0.196920  0.571672  0.723332  0.906762   \n",
       "2207  18238  15660  2630  0.131421  0.168117  0.509979  0.666092  0.884411   \n",
       "\n",
       "      degen_y  \n",
       "0           2  \n",
       "1           2  \n",
       "2           2  \n",
       "3           2  \n",
       "4           2  \n",
       "...       ...  \n",
       "2203        2  \n",
       "2204        2  \n",
       "2205        2  \n",
       "2206        2  \n",
       "2207        3  \n",
       "\n",
       "[2208 rows x 16 columns]"
      ]
     },
     "execution_count": 63,
     "metadata": {},
     "output_type": "execute_result"
    }
   ],
   "source": [
    "df_high_counts = get_jaspar_matches(df_high.iloc[:,:-1]).merge(df, on=\"motif\", how=\"left\")\n",
    "df_high_counts"
   ]
  },
  {
   "cell_type": "code",
   "execution_count": 64,
   "metadata": {},
   "outputs": [],
   "source": [
    "df_low_counts = get_jaspar_matches(df_low.iloc[:,:-1]).merge(df, on=\"motif\", how=\"left\")"
   ]
  },
  {
   "cell_type": "code",
   "execution_count": 65,
   "metadata": {},
   "outputs": [
    {
     "data": {
      "text/plain": [
       "<seaborn.axisgrid.FacetGrid at 0x7f8f4c8bda90>"
      ]
     },
     "execution_count": 65,
     "metadata": {},
     "output_type": "execute_result"
    },
    {
     "data": {
      "image/png": "[encoded data removed]",
      "text/plain": [
       "<Figure size 415.625x360 with 1 Axes>"
      ]
     },
     "metadata": {
      "needs_background": "light"
     },
     "output_type": "display_data"
    }
   ],
   "source": [
    "melted = df_high_counts[[\"match_score\"] + bls_count_names].melt('match_score', var_name='cols',  value_name='vals')\n",
    "sns.relplot(data=melted, x=\"match_score\", y=\"vals\", hue=\"cols\", kind=\"line\")"
   ]
  },
  {
   "cell_type": "code",
   "execution_count": 66,
   "metadata": {},
   "outputs": [
    {
     "data": {
      "text/plain": [
       "<seaborn.axisgrid.FacetGrid at 0x7f8f4c3d7760>"
      ]
     },
     "execution_count": 66,
     "metadata": {},
     "output_type": "execute_result"
    },
    {
     "data": {
      "image/png": "[encoded data removed]",
      "text/plain": [
       "<Figure size 415.625x360 with 1 Axes>"
      ]
     },
     "metadata": {
      "needs_background": "light"
     },
     "output_type": "display_data"
    }
   ],
   "source": [
    "melted = df_low_counts[[\"match_score\"] + bls_count_names].melt('match_score', var_name='cols',  value_name='vals')\n",
    "sns.relplot(data=melted, x=\"match_score\", y=\"vals\", hue=\"cols\", kind=\"line\")"
   ]
  }
 ],
 "metadata": {
  "kernelspec": {
   "display_name": "Python [conda env:motif_comparison]",
   "language": "python",
   "name": "conda-env-motif_comparison-py"
  },
  "language_info": {
   "codemirror_mode": {
    "name": "ipython",
    "version": 3
   },
   "file_extension": ".py",
   "mimetype": "text/x-python",
   "name": "python",
   "nbconvert_exporter": "python",
   "pygments_lexer": "ipython3",
   "version": "3.9.2"
  }
 },
 "nbformat": 4,
 "nbformat_minor": 4
}
