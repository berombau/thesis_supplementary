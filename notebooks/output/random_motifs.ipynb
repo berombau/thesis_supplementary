{
 "cells": [
  {
   "cell_type": "code",
   "execution_count": 34,
   "id": "continent-judges",
   "metadata": {},
   "outputs": [],
   "source": [
    "from Bio import motifs\n",
    "from Bio.Seq import Seq\n",
    "from random import randint\n",
    "from Bio.motifs import transfac "
   ]
  },
  {
   "cell_type": "code",
   "execution_count": 35,
   "id": "republican-airline",
   "metadata": {},
   "outputs": [],
   "source": [
    "expand = {\n",
    "        \"A\" : \"A\",\n",
    "        \"C\" : \"C\",\n",
    "        \"G\" : \"G\",\n",
    "        \"T\" : \"T\",\n",
    "        \"N\" : \"ACGT\",\n",
    "        \"R\" : \"AG\",\n",
    "        \"Y\" : \"CT\",\n",
    "        \"S\" : \"GC\",\n",
    "        \"W\" : \"AT\",\n",
    "        \"K\" : \"GT\",\n",
    "        \"M\" : \"AC\",\n",
    "        \"B\" : \"CGT\",\n",
    "        \"D\" : \"AGT\",\n",
    "        \"H\" : \"ACT\",\n",
    "        \"V\" : \"ACG\"\n",
    "}\n",
    "def expandMotif(msg):\n",
    "    expansions = [\"\"]\n",
    "    for c in msg:\n",
    "        exp = expand[c]\n",
    "        tmp = []\n",
    "        for e in exp:\n",
    "            for motif in expansions:\n",
    "                tmp.append(motif  + e)\n",
    "        expansions = tmp\n",
    "    return list(map(lambda x: Seq(x), expansions))"
   ]
  },
  {
   "cell_type": "code",
   "execution_count": 36,
   "id": "frank-computer",
   "metadata": {},
   "outputs": [],
   "source": [
    "# degenchars = ['N', 'R', 'Y', 'S', 'W', 'K', 'M', 'B', 'D', 'H', 'V']\n",
    "degenchars = ['N', 'R', 'Y', 'S', 'W', 'K', 'M']\n",
    "dnachars = ['A', 'C', 'G', 'T']\n",
    "def randomMotif(length, degen):\n",
    "    cur_degen=0\n",
    "    rndmotif=\"\"\n",
    "    for i in range(0, length):\n",
    "        if(cur_degen < degen):\n",
    "            if(randint(0,1) == 0):\n",
    "                rndmotif += dnachars[randint(0,len(dnachars)-1)] # add dna\n",
    "            else:\n",
    "                rndmotif += degenchars[randint(0,len(degenchars)-1)] # add degen\n",
    "                cur_degen += 1\n",
    "        else:\n",
    "            rndmotif += dnachars[randint(0,len(dnachars)-1)] # add dna\n",
    "    return rndmotif"
   ]
  },
  {
   "cell_type": "code",
   "execution_count": 37,
   "id": "negative-thought",
   "metadata": {},
   "outputs": [],
   "source": [
    "formatprefix=\"AC  ID_REPLACEME\\nXX\\nID  ID_REPLACEME\\nXX\\nDE  NR_REPLACEME ; from ID_REPLACEME\\n\"\n",
    "formatsuffix=\"XX\\nCC  residue_type:\\nCC  name: ID_REPLACEME\\nXX\\n//\\n\"\n",
    "def reformat(lines, prefix, handle):\n",
    "    nr = 0\n",
    "    i=0\n",
    "    while i < len(lines) and lines[i].startswith(\"P0\"):\n",
    "        handle.write(formatprefix.replace(\"ID_REPLACEME\", prefix + str(nr)).replace(\"NR_REPLACEME\", str(nr)))\n",
    "        while not lines[i].startswith(\"XX\"):\n",
    "                handle.write(lines[i] + \"\\n\")\n",
    "                i += 1\n",
    "        handle.write(formatsuffix.replace(\"ID_REPLACEME\", prefix + str(nr)))\n",
    "        i+=2\n",
    "        nr+=1\n"
   ]
  },
  {
   "cell_type": "code",
   "execution_count": 38,
   "id": "featured-illness",
   "metadata": {},
   "outputs": [],
   "source": [
    "l=10\n",
    "d=2\n",
    "N=3000\n",
    "rnd_motifs_2d = [] # list of random motifs of length 8 with at most 3 degenerate characters\n",
    "for i in range(0, N): #min(len(lq_scores), len(hq_scores))\n",
    "    rnd_motifs_2d.append(motifs.create(expandMotif(randomMotif(l, d))))"
   ]
  },
  {
   "cell_type": "code",
   "execution_count": 39,
   "id": "bottom-mystery",
   "metadata": {},
   "outputs": [],
   "source": [
    "rnd_motifs_1d = [] # list of random motifs of length 8 with at most 3 degenerate characters\n",
    "for i in range(0, N): #min(len(lq_scores), len(hq_scores))\n",
    "    rnd_motifs_1d.append(motifs.create(expandMotif(randomMotif(l, 1))))"
   ]
  },
  {
   "cell_type": "code",
   "execution_count": 40,
   "id": "together-honey",
   "metadata": {},
   "outputs": [],
   "source": [
    "rnd_motifs_0d = [] # list of random motifs of length 8 with at most 3 degenerate characters\n",
    "for i in range(0, N): #min(len(lq_scores), len(hq_scores))\n",
    "    rnd_motifs_0d.append(motifs.create(expandMotif(randomMotif(l, 0))))"
   ]
  },
  {
   "cell_type": "code",
   "execution_count": 41,
   "id": "purple-capital",
   "metadata": {},
   "outputs": [],
   "source": [
    "f = open(\"/data/bls/wheat/jaspar/len10/rnd_l10_2d.txt\",\"w\")\n",
    "reformat(transfac.write(rnd_motifs_2d).split(\"\\n\"), \"rnd_l10_2d\", f)\n",
    "f.close()\n",
    "f = open(\"/data/bls/wheat/jaspar/len10/rnd_l10_1d.txt\",\"w\")\n",
    "reformat(transfac.write(rnd_motifs_1d).split(\"\\n\"), \"rnd_l10_1d\", f)\n",
    "f.close()\n",
    "f = open(\"/data/bls/wheat/jaspar/len10/rnd_l10_0d.txt\",\"w\")\n",
    "reformat(transfac.write(rnd_motifs_0d).split(\"\\n\"), \"rnd_l10_0d\", f)\n",
    "f.close()"
   ]
  },
  {
   "cell_type": "code",
   "execution_count": null,
   "id": "protecting-sewing",
   "metadata": {},
   "outputs": [],
   "source": []
  },
  {
   "cell_type": "code",
   "execution_count": null,
   "id": "photographic-deviation",
   "metadata": {},
   "outputs": [],
   "source": []
  }
 ],
 "metadata": {
  "kernelspec": {
   "display_name": "Python 3",
   "language": "python",
   "name": "python3"
  },
  "language_info": {
   "codemirror_mode": {
    "name": "ipython",
    "version": 3
   },
   "file_extension": ".py",
   "mimetype": "text/x-python",
   "name": "python",
   "nbconvert_exporter": "python",
   "pygments_lexer": "ipython3",
   "version": "3.8.5"
  }
 },
 "nbformat": 4,
 "nbformat_minor": 5
}
