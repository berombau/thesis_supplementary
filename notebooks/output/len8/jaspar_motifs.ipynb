{
 "cells": [
  {
   "cell_type": "code",
   "execution_count": 1,
   "id": "musical-moore",
   "metadata": {},
   "outputs": [],
   "source": [
    "import gzip\n",
    "from Bio import motifs\n",
    "from Bio.motifs import jaspar\n",
    "from Bio.motifs import Motif\n",
    "from Bio.Seq import Seq\n",
    "import matplotlib.pyplot as plt\n",
    "import pandas as pd\n",
    "import numpy as np\n",
    "from Bio.motifs import transfac "
   ]
  },
  {
   "cell_type": "code",
   "execution_count": 2,
   "id": "israeli-inclusion",
   "metadata": {},
   "outputs": [
    {
     "name": "stdout",
     "output_type": "stream",
     "text": [
      "TF name\tABF1\n",
      "Matrix ID\tMA0570.2\n",
      "Matrix:\n",
      "        0      1      2      3      4      5      6      7      8      9     10     11\n",
      "A: 593.00  83.00 1123.00  10.00  16.00   4.00   9.00  39.00  81.00 909.00 348.00 358.00\n",
      "C: 284.00 793.00   4.00 1099.00   9.00   8.00   3.00  11.00 999.00  36.00 195.00 213.00\n",
      "G:  60.00 124.00  11.00  15.00 1107.00   1.00 1123.00 707.00  28.00 117.00 234.00 225.00\n",
      "T: 204.00 141.00   3.00  17.00   9.00 1128.00   6.00 384.00  33.00  79.00 364.00 345.00\n",
      "\n",
      "\n",
      "\n"
     ]
    }
   ],
   "source": [
    "jasparfile=open(\"/data/bls/wheat/jaspar/JASPAR2020_CORE_plants_non-redundant_pfms_jaspar.txt\")\n",
    "jasparmotifs = jaspar.read(jasparfile, \"jaspar\")\n",
    "print(jasparmotifs[0])"
   ]
  },
  {
   "cell_type": "code",
   "execution_count": 3,
   "id": "listed-static",
   "metadata": {},
   "outputs": [],
   "source": [
    "expand = {\n",
    "        \"A\" : \"A\",\n",
    "        \"C\" : \"C\",\n",
    "        \"G\" : \"G\",\n",
    "        \"T\" : \"T\",\n",
    "        \"N\" : \"ACGT\",\n",
    "        \"R\" : \"AG\",\n",
    "        \"Y\" : \"CT\",\n",
    "        \"S\" : \"GC\",\n",
    "        \"W\" : \"AT\",\n",
    "        \"K\" : \"GT\",\n",
    "        \"M\" : \"AC\",\n",
    "        \"B\" : \"CGT\",\n",
    "        \"D\" : \"AGT\",\n",
    "        \"H\" : \"ACT\",\n",
    "        \"V\" : \"ACG\"\n",
    "}\n",
    "degen = \"NRYSWKMBDHV\"\n",
    "def expandMotif(msg):\n",
    "    expansions = [\"\"]\n",
    "    for c in msg:\n",
    "        exp = expand[c]\n",
    "        tmp = []\n",
    "        for e in exp:\n",
    "            for motif in expansions:\n",
    "                tmp.append(motif  + e)\n",
    "        expansions = tmp\n",
    "    return list(map(lambda x: Seq(x), expansions))\n",
    "def distribution(motiflist):\n",
    "    counts = { \"A\" : 0, \"C\" : 0, \"G\" : 0, \"T\" : 0, \"N\" : 0, \"R\" : 0, \"Y\" : 0, \"S\" : 0, \n",
    "              \"W\" : 0, \"K\" : 0,  \"M\" : 0, \"B\" : 0, \"D\" : 0, \"H\" : 0, \"V\" : 0}\n",
    "    for motif in motiflist:\n",
    "        for c in motif.degenerate_consensus:\n",
    "            counts[c] += 1\n",
    "    return counts\n",
    "def degen_distribution(motiflist, max):\n",
    "    counts = {}\n",
    "    for i in range(0, max + 1):\n",
    "        counts[i] = 0\n",
    "    for motif in motiflist:\n",
    "        degencount = 0\n",
    "        for c in motif.degenerate_consensus:\n",
    "            if c in degen:\n",
    "                degencount += 1\n",
    "        counts[degencount] += 1\n",
    "    return counts"
   ]
  },
  {
   "cell_type": "code",
   "execution_count": 4,
   "id": "functioning-interference",
   "metadata": {},
   "outputs": [],
   "source": [
    "formatprefix=\"AC  ID_REPLACEME\\nXX\\nID  ID_REPLACEME\\nXX\\nDE  NR_REPLACEME ; from ID_REPLACEME\\n\"\n",
    "formatsuffix=\"XX\\nCC  residue_type:\\nCC  name: ID_REPLACEME\\nXX\\n//\\n\"\n",
    "def reformat(lines, prefix, handle):\n",
    "    nr = 0\n",
    "    i=0\n",
    "    while i < len(lines) and lines[i].startswith(\"P0\"):\n",
    "        handle.write(formatprefix.replace(\"ID_REPLACEME\", prefix + str(nr)).replace(\"NR_REPLACEME\", str(nr)))\n",
    "        while not lines[i].startswith(\"XX\"):\n",
    "                handle.write(lines[i] + \"\\n\")\n",
    "                i += 1\n",
    "        handle.write(formatsuffix.replace(\"ID_REPLACEME\", prefix + str(nr)))\n",
    "        i+=2\n",
    "        nr+=1\n",
    "def gt_threshold(splits, threshold, orthocount_t, blsthresholds):\n",
    "    emit=False\n",
    "    for i in range(0, blsthresholds):\n",
    "        if int(splits[i+1]) > orthocount_t and float(splits[i+1+blsthresholds]) > threshold:\n",
    "            emit=True\n",
    "    return emit\n",
    "def lt_threshold(splits, threshold, blsthresholds):\n",
    "    max = float('-inf')\n",
    "    for i in range(0, blsthresholds):\n",
    "        if float(splits[i+1+blsthresholds]) > max:\n",
    "            max = float(splits[i+1+blsthresholds])\n",
    "    return max < threshold"
   ]
  },
  {
   "cell_type": "code",
   "execution_count": 7,
   "id": "friendly-carrier",
   "metadata": {},
   "outputs": [],
   "source": [
    "blssplitlines=list(map(lambda line: str(line.strip()).split(\"\\t\"), gzip.open(\"/data/bls/wheat/output/final-bls-l8-a3-d3.motifs.gz\", \"rt\").readlines()))"
   ]
  },
  {
   "cell_type": "code",
   "execution_count": 14,
   "id": "offshore-salem",
   "metadata": {},
   "outputs": [
    {
     "data": {
      "text/plain": [
       "{'A': (0.5, 0.0, 1.0, 1.0, 1.0, 0.0, 0.0, 0.0),\n",
       " 'C': (0.0, 0.5, 0.0, 0.0, 0.0, 0.0, 0.0, 0.0),\n",
       " 'G': (0.5, 0.5, 0.0, 0.0, 0.0, 0.0, 0.0, 1.0),\n",
       " 'T': (0.0, 0.0, 0.0, 0.0, 0.0, 1.0, 1.0, 0.0)}"
      ]
     },
     "execution_count": 14,
     "metadata": {},
     "output_type": "execute_result"
    }
   ],
   "source": [
    "m=motifs.create(expandMotif(blssplitlines[0][0]))\n",
    "m.pwm"
   ]
  },
  {
   "cell_type": "code",
   "execution_count": 71,
   "id": "funded-granny",
   "metadata": {},
   "outputs": [],
   "source": [
    "blssplitlines=map(lambda line: str(line.strip()).split(\"\\t\"), gzip.open(\"/data/bls/wheat/output/final-bls-l8-a3-d3.motifs.gz\", \"rt\").readlines())\n",
    "blsthresholds=5\n",
    "orthocount_t = 100 # at least preserved in 100 ortho groups\n",
    "hq_t = 0.87\n",
    "hq_bls = list(map(lambda x: motifs.create(expandMotif(x[0])), filter(lambda x: gt_threshold(x, hq_t, orthocount_t, blsthresholds), blssplitlines)))"
   ]
  },
  {
   "cell_type": "code",
   "execution_count": 72,
   "id": "circular-armstrong",
   "metadata": {},
   "outputs": [],
   "source": [
    "blssplitlines=map(lambda line: str(line.strip()).split(\"\\t\"), gzip.open(\"/data/bls/wheat/output/final-bls-l8-a3-d3.motifs.gz\", \"rt\").readlines())\n",
    "lq_t = 0.5\n",
    "lq_bls = list(map(lambda x: motifs.create(expandMotif(x[0])), filter(lambda x: lt_threshold(x, lq_t, blsthresholds), blssplitlines)))"
   ]
  },
  {
   "cell_type": "code",
   "execution_count": 73,
   "id": "sweet-microphone",
   "metadata": {},
   "outputs": [
    {
     "name": "stdout",
     "output_type": "stream",
     "text": [
      "2116 2137\n"
     ]
    }
   ],
   "source": [
    "print(len(hq_bls), len(lq_bls))"
   ]
  },
  {
   "cell_type": "code",
   "execution_count": 131,
   "id": "occasional-granny",
   "metadata": {},
   "outputs": [],
   "source": [
    "f = open(\"/data/bls/wheat/jaspar/len8/low_c_l8.txt\",\"w\")\n",
    "reformat(transfac.write(hq_bls).split(\"\\n\"), \"low_c_l10\", f)\n",
    "f.close()\n",
    "f = open(\"/data/bls/wheat/jaspar/len8/high_c_l8.txt\",\"w\")\n",
    "reformat(transfac.write(lq_bls).split(\"\\n\"), \"high_c_l10\", f)\n",
    "f.close()"
   ]
  },
  {
   "cell_type": "code",
   "execution_count": 69,
   "id": "rising-better",
   "metadata": {},
   "outputs": [
    {
     "data": {
      "image/png": "[encoded data removed]",
      "text/plain": [
       "<Figure size 1440x720 with 1 Axes>"
      ]
     },
     "metadata": {
      "needs_background": "light"
     },
     "output_type": "display_data"
    }
   ],
   "source": [
    "%matplotlib inline\n",
    "plt.rcParams[\"figure.figsize\"] = [20, 10]\n",
    "lq_dist = distribution(lq_bls)\n",
    "hq_dist = distribution(hq_bls)\n",
    "index = ['A', 'C', 'G', 'T', 'N', 'R', 'Y', 'S', 'W', 'K', 'M', 'B', 'D', 'H', 'V']\n",
    "lq_counts = []\n",
    "hq_counts = []\n",
    "for i in index:\n",
    "    lq_counts.append(lq_dist[i])\n",
    "    hq_counts.append(hq_dist[i])\n",
    "df = pd.DataFrame({'low c': lq_counts, 'high c': hq_counts}, index=index)\n",
    "ax = df.plot.bar(rot=0)"
   ]
  },
  {
   "cell_type": "code",
   "execution_count": 70,
   "id": "liked-skiing",
   "metadata": {},
   "outputs": [
    {
     "data": {
      "image/png": "[encoded data removed]",
      "text/plain": [
       "<Figure size 1440x720 with 1 Axes>"
      ]
     },
     "metadata": {
      "needs_background": "light"
     },
     "output_type": "display_data"
    }
   ],
   "source": [
    "%matplotlib inline\n",
    "plt.rcParams[\"figure.figsize\"] = [20, 10]\n",
    "lq_dist = degen_distribution(lq_bls, 3)\n",
    "hq_dist = degen_distribution(hq_bls, 3)\n",
    "index = [0, 1, 2, 3]\n",
    "lq_counts = []\n",
    "hq_counts = []\n",
    "for i in index:\n",
    "    lq_counts.append(lq_dist[i])\n",
    "    hq_counts.append(hq_dist[i])\n",
    "df = pd.DataFrame({'low c': lq_counts, 'high c': hq_counts}, index=index)\n",
    "ax = df.plot.bar(rot=0)"
   ]
  },
  {
   "cell_type": "code",
   "execution_count": null,
   "id": "southeast-debate",
   "metadata": {},
   "outputs": [],
   "source": []
  }
 ],
 "metadata": {
  "kernelspec": {
   "display_name": "Python 3",
   "language": "python",
   "name": "python3"
  },
  "language_info": {
   "codemirror_mode": {
    "name": "ipython",
    "version": 3
   },
   "file_extension": ".py",
   "mimetype": "text/x-python",
   "name": "python",
   "nbconvert_exporter": "python",
   "pygments_lexer": "ipython3",
   "version": "3.8.5"
  }
 },
 "nbformat": 4,
 "nbformat_minor": 5
}
